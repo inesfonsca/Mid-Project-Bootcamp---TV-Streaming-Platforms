{
 "cells": [
  {
   "cell_type": "code",
   "execution_count": 109,
   "id": "6ffa9c6f",
   "metadata": {},
   "outputs": [],
   "source": [
    "import pymysql\n",
    "from sqlalchemy import create_engine\n",
    "import pandas as pd\n",
    "import getpass\n",
    "import seaborn as sns\n",
    "import matplotlib.pyplot as plt\n",
    "from sklearn.preprocessing import StandardScaler\n",
    "import numpy as np\n",
    "from scipy import stats\n",
    "from sklearn.preprocessing import Normalizer\n",
    "from sklearn.preprocessing import OneHotEncoder\n",
    "import statsmodels.api as sm\n",
    "from sklearn.metrics import r2_score\n",
    "from sklearn.model_selection import train_test_split\n",
    "from sklearn.preprocessing import OneHotEncoder\n",
    "import statsmodels.api as sm\n",
    "from sklearn.neighbors import KNeighborsRegressor\n",
    "from sklearn.linear_model import LinearRegression\n",
    "from sklearn.neural_network import MLPRegressor\n",
    "from sklearn.tree import DecisionTreeClassifier\n",
    "from sklearn.metrics import accuracy_score\n",
    "from sklearn.model_selection import cross_val_score\n",
    "from sklearn.linear_model import LogisticRegression\n",
    "from sklearn.datasets import make_classification\n",
    "import plotly.express as px\n",
    "from sklearn.preprocessing import LabelEncoder\n",
    "from sklearn import linear_model\n",
    "from sklearn.metrics import mean_squared_error\n",
    "import math\n",
    "import matplotlib.pyplot as plt\n",
    "from sklearn.metrics import confusion_matrix\n",
    "from imblearn.over_sampling import SMOTE\n",
    "\n",
    "#lEGEND OF THE COLUMNS NAME:\n",
    "\n",
    "#How old are you?': 'Q1', \n",
    "#'What is your gender?': 'Q2',\n",
    "#'Are you a user of any of these streaming platforms?' :'Q3',\n",
    "#'Per day how much time do you usually spend on a streaming platform?' : 'Q4',\n",
    "#'Do you ever \"binge-watch\" television shows, meaning watching three or more episodes of a TV series in one sitting?' : 'Q5',\n",
    "#'Through what devices do you watch streaming platforms?' : 'Q6',\n",
    "#'What are the main reasons you watch Streaming platforms?' : 'Q7',\n",
    "#'Of the time you spend watching movies, which devices do you use the most?' : 'Q8',\n",
    "#'Of the time you spend watching sports, which devices do you use the most?' : 'Q9',\n",
    "#'Do you watch television?' : 'Q10',\n",
    "#'Per day how much time do you usually spend watching television?' : 'Q11',\n",
    "#'What are the main reasons you watch television?' : 'Q12',\n",
    "#'Which of the following list of audiovisual contents do you usually watch on TV?' : 'Q13',\n",
    "#\"When you get home you're in the habit of...\" : 'Q14',\n",
    "#'Which of these activities would be easier for you to stop doing?' : 'Q15'"
   ]
  },
  {
   "cell_type": "code",
   "execution_count": 2,
   "id": "355894d7",
   "metadata": {
    "scrolled": false
   },
   "outputs": [
    {
     "data": {
      "text/html": [
       "<div>\n",
       "<style scoped>\n",
       "    .dataframe tbody tr th:only-of-type {\n",
       "        vertical-align: middle;\n",
       "    }\n",
       "\n",
       "    .dataframe tbody tr th {\n",
       "        vertical-align: top;\n",
       "    }\n",
       "\n",
       "    .dataframe thead th {\n",
       "        text-align: right;\n",
       "    }\n",
       "</style>\n",
       "<table border=\"1\" class=\"dataframe\">\n",
       "  <thead>\n",
       "    <tr style=\"text-align: right;\">\n",
       "      <th></th>\n",
       "      <th>Carimbo de data/hora</th>\n",
       "      <th>How old are you?</th>\n",
       "      <th>What is your gender?</th>\n",
       "      <th>Are you a user of any of these streaming platforms?</th>\n",
       "      <th>Per day how much time do you usually spend on a streaming platform?</th>\n",
       "      <th>Do you ever \"binge-watch\" television shows, meaning watching three or more episodes of a TV series in one sitting?</th>\n",
       "      <th>Through what devices do you watch streaming platforms?</th>\n",
       "      <th>What are the main reasons you watch Streaming platforms?</th>\n",
       "      <th>Of the time you spend watching movies, which devices do you use the most?</th>\n",
       "      <th>Of the time you spend watching sports, which devices do you use the most?</th>\n",
       "      <th>Do you watch television?</th>\n",
       "      <th>Per day how much time do you usually spend watching television?</th>\n",
       "      <th>What are the main reasons you watch television?</th>\n",
       "      <th>Which of the following list of audiovisual contents do you usually watch on TV?</th>\n",
       "      <th>When you get home you're in the habit of...</th>\n",
       "      <th>Which of these activities would be easier for you to stop doing?</th>\n",
       "    </tr>\n",
       "  </thead>\n",
       "  <tbody>\n",
       "    <tr>\n",
       "      <th>0</th>\n",
       "      <td>2023/04/22 4:59:58 PM GMT+1</td>\n",
       "      <td>28</td>\n",
       "      <td>Male</td>\n",
       "      <td>Netflix;HBO Max;Amazon Prime Video</td>\n",
       "      <td>Between 1 hour and 3 hours</td>\n",
       "      <td>Yes</td>\n",
       "      <td>Flat panel television</td>\n",
       "      <td>Greater variety and better content</td>\n",
       "      <td>Tablet;Television</td>\n",
       "      <td>Tablet;Television</td>\n",
       "      <td>Yes</td>\n",
       "      <td>Between 30 minutes and 1 hour</td>\n",
       "      <td>Football Matches</td>\n",
       "      <td>News;Sports</td>\n",
       "      <td>Watching videos on your smartphone;Watching Ne...</td>\n",
       "      <td>Watching television</td>\n",
       "    </tr>\n",
       "    <tr>\n",
       "      <th>1</th>\n",
       "      <td>2023/04/22 5:01:47 PM GMT+1</td>\n",
       "      <td>37</td>\n",
       "      <td>Female</td>\n",
       "      <td>Netflix</td>\n",
       "      <td>More than 3 hours</td>\n",
       "      <td>Yes</td>\n",
       "      <td>Laptop/Desktop;Flat panel television</td>\n",
       "      <td>Access to content at any time;Greater variety ...</td>\n",
       "      <td>Laptop/Desktop;Television</td>\n",
       "      <td>Television</td>\n",
       "      <td>Yes</td>\n",
       "      <td>Between 1 hour and 3 hours</td>\n",
       "      <td>For the programming content</td>\n",
       "      <td>News;Soap Operas;Movies;Sports</td>\n",
       "      <td>Watching Netflix or other streaming platform</td>\n",
       "      <td>Watching television</td>\n",
       "    </tr>\n",
       "    <tr>\n",
       "      <th>2</th>\n",
       "      <td>2023/04/22 5:44:06 PM GMT+1</td>\n",
       "      <td>29</td>\n",
       "      <td>Female</td>\n",
       "      <td>Netflix;HBO Max;Disney +</td>\n",
       "      <td>Between 1 hour and 3 hours</td>\n",
       "      <td>Yes</td>\n",
       "      <td>Smartphone;Laptop/Desktop;Flat panel television</td>\n",
       "      <td>Access to content at any time;Greater variety ...</td>\n",
       "      <td>Television</td>\n",
       "      <td>I do not watch sports</td>\n",
       "      <td>Yes</td>\n",
       "      <td>Between 30 minutes and 1 hour</td>\n",
       "      <td>Live shows;Football Matches</td>\n",
       "      <td>News</td>\n",
       "      <td>Watching television;Watching videos on your sm...</td>\n",
       "      <td>Watching television</td>\n",
       "    </tr>\n",
       "    <tr>\n",
       "      <th>3</th>\n",
       "      <td>2023/04/22 7:45:52 PM GMT+1</td>\n",
       "      <td>40 - 64</td>\n",
       "      <td>Female</td>\n",
       "      <td>Netflix</td>\n",
       "      <td>Between 1 hour and 3 hours</td>\n",
       "      <td>Yes</td>\n",
       "      <td>Smartphone</td>\n",
       "      <td>Access to content at any time;More freedom</td>\n",
       "      <td>Smartphone;Television</td>\n",
       "      <td>Television</td>\n",
       "      <td>Yes</td>\n",
       "      <td>More than 3 hours</td>\n",
       "      <td>For the programming content</td>\n",
       "      <td>News;Movies;Series;Programas de Entretenimento</td>\n",
       "      <td>Watching television</td>\n",
       "      <td>Watching streaming platforms</td>\n",
       "    </tr>\n",
       "    <tr>\n",
       "      <th>4</th>\n",
       "      <td>2023/04/22 7:52:25 PM GMT+1</td>\n",
       "      <td>25 - 39</td>\n",
       "      <td>Female</td>\n",
       "      <td>Netflix;HBO Max;Disney +</td>\n",
       "      <td>Between 30 minutes and 1 hour</td>\n",
       "      <td>Yes</td>\n",
       "      <td>Laptop/Desktop;Flat panel television</td>\n",
       "      <td>Access to content at any time;Greater variety ...</td>\n",
       "      <td>Laptop/Desktop;Television</td>\n",
       "      <td>I do not watch sports</td>\n",
       "      <td>No</td>\n",
       "      <td>No more than 30 minutes</td>\n",
       "      <td>I don't</td>\n",
       "      <td>I don't</td>\n",
       "      <td>Turn on the Laptop/Desktop;Watching Netflix or...</td>\n",
       "      <td>Watching television</td>\n",
       "    </tr>\n",
       "    <tr>\n",
       "      <th>...</th>\n",
       "      <td>...</td>\n",
       "      <td>...</td>\n",
       "      <td>...</td>\n",
       "      <td>...</td>\n",
       "      <td>...</td>\n",
       "      <td>...</td>\n",
       "      <td>...</td>\n",
       "      <td>...</td>\n",
       "      <td>...</td>\n",
       "      <td>...</td>\n",
       "      <td>...</td>\n",
       "      <td>...</td>\n",
       "      <td>...</td>\n",
       "      <td>...</td>\n",
       "      <td>...</td>\n",
       "      <td>...</td>\n",
       "    </tr>\n",
       "    <tr>\n",
       "      <th>77</th>\n",
       "      <td>2023/04/24 10:09:51 PM GMT+1</td>\n",
       "      <td>16 - 24</td>\n",
       "      <td>Female</td>\n",
       "      <td>Netflix</td>\n",
       "      <td>Between 30 minutes and 1 hour</td>\n",
       "      <td>Yes</td>\n",
       "      <td>Smartphone;Laptop/Desktop</td>\n",
       "      <td>Most convenient</td>\n",
       "      <td>Laptop/Desktop</td>\n",
       "      <td>I do not watch sports</td>\n",
       "      <td>No</td>\n",
       "      <td>No more than 30 minutes</td>\n",
       "      <td>News, cooking shows</td>\n",
       "      <td>News</td>\n",
       "      <td>Turn on the Laptop/Desktop</td>\n",
       "      <td>Watching television</td>\n",
       "    </tr>\n",
       "    <tr>\n",
       "      <th>78</th>\n",
       "      <td>2023/04/24 11:54:39 PM GMT+1</td>\n",
       "      <td>25 - 39</td>\n",
       "      <td>Male</td>\n",
       "      <td>Netflix;HBO Max;Amazon Prime Video</td>\n",
       "      <td>Between 30 minutes and 1 hour</td>\n",
       "      <td>No</td>\n",
       "      <td>Flat panel television</td>\n",
       "      <td>Most convenient</td>\n",
       "      <td>Television</td>\n",
       "      <td>I do not watch sports</td>\n",
       "      <td>No</td>\n",
       "      <td>NaN</td>\n",
       "      <td>NaN</td>\n",
       "      <td>NaN</td>\n",
       "      <td>Turn on the Laptop/Desktop</td>\n",
       "      <td>Watching television</td>\n",
       "    </tr>\n",
       "    <tr>\n",
       "      <th>79</th>\n",
       "      <td>2023/04/25 1:53:21 AM GMT+1</td>\n",
       "      <td>25 - 39</td>\n",
       "      <td>Male</td>\n",
       "      <td>Netflix;HBO Max</td>\n",
       "      <td>Between 30 minutes and 1 hour</td>\n",
       "      <td>Yes</td>\n",
       "      <td>Laptop/Desktop</td>\n",
       "      <td>Access to content at any time;Most convenient</td>\n",
       "      <td>Laptop/Desktop</td>\n",
       "      <td>I do not watch sports</td>\n",
       "      <td>No</td>\n",
       "      <td>No more than 30 minutes</td>\n",
       "      <td>NaN</td>\n",
       "      <td>NaN</td>\n",
       "      <td>Turn on the Laptop/Desktop</td>\n",
       "      <td>Watching television</td>\n",
       "    </tr>\n",
       "    <tr>\n",
       "      <th>80</th>\n",
       "      <td>2023/04/25 2:19:11 AM GMT+1</td>\n",
       "      <td>25 - 39</td>\n",
       "      <td>Male</td>\n",
       "      <td>Netflix</td>\n",
       "      <td>Between 30 minutes and 1 hour</td>\n",
       "      <td>Yes</td>\n",
       "      <td>Laptop/Desktop</td>\n",
       "      <td>Time to relax</td>\n",
       "      <td>Laptop/Desktop</td>\n",
       "      <td>Laptop/Desktop</td>\n",
       "      <td>No</td>\n",
       "      <td>NaN</td>\n",
       "      <td>NaN</td>\n",
       "      <td>NaN</td>\n",
       "      <td>Watching videos on your smartphone</td>\n",
       "      <td>Social media</td>\n",
       "    </tr>\n",
       "    <tr>\n",
       "      <th>81</th>\n",
       "      <td>2023/04/25 9:39:43 AM GMT+1</td>\n",
       "      <td>More than 65</td>\n",
       "      <td>Female</td>\n",
       "      <td>Netflix;HBO Max;Amazon Prime Video</td>\n",
       "      <td>Between 1 hour and 3 hours</td>\n",
       "      <td>Yes</td>\n",
       "      <td>Flat panel television</td>\n",
       "      <td>Most convenient</td>\n",
       "      <td>Television</td>\n",
       "      <td>I do not watch sports</td>\n",
       "      <td>Yes</td>\n",
       "      <td>More than 3 hours</td>\n",
       "      <td>Larger variety of channels</td>\n",
       "      <td>News;Movies;Series</td>\n",
       "      <td>Watching television</td>\n",
       "      <td>Social media</td>\n",
       "    </tr>\n",
       "  </tbody>\n",
       "</table>\n",
       "<p>82 rows × 16 columns</p>\n",
       "</div>"
      ],
      "text/plain": [
       "            Carimbo de data/hora How old are you? What is your gender?  \\\n",
       "0    2023/04/22 4:59:58 PM GMT+1               28                 Male   \n",
       "1    2023/04/22 5:01:47 PM GMT+1               37               Female   \n",
       "2    2023/04/22 5:44:06 PM GMT+1               29               Female   \n",
       "3    2023/04/22 7:45:52 PM GMT+1          40 - 64               Female   \n",
       "4    2023/04/22 7:52:25 PM GMT+1          25 - 39               Female   \n",
       "..                           ...              ...                  ...   \n",
       "77  2023/04/24 10:09:51 PM GMT+1          16 - 24               Female   \n",
       "78  2023/04/24 11:54:39 PM GMT+1          25 - 39                 Male   \n",
       "79   2023/04/25 1:53:21 AM GMT+1          25 - 39                 Male   \n",
       "80   2023/04/25 2:19:11 AM GMT+1          25 - 39                 Male   \n",
       "81   2023/04/25 9:39:43 AM GMT+1     More than 65               Female   \n",
       "\n",
       "   Are you a user of any of these streaming platforms?  \\\n",
       "0                  Netflix;HBO Max;Amazon Prime Video    \n",
       "1                                             Netflix    \n",
       "2                            Netflix;HBO Max;Disney +    \n",
       "3                                             Netflix    \n",
       "4                            Netflix;HBO Max;Disney +    \n",
       "..                                                ...    \n",
       "77                                            Netflix    \n",
       "78                 Netflix;HBO Max;Amazon Prime Video    \n",
       "79                                    Netflix;HBO Max    \n",
       "80                                            Netflix    \n",
       "81                 Netflix;HBO Max;Amazon Prime Video    \n",
       "\n",
       "   Per day how much time do you usually spend on a streaming platform?  \\\n",
       "0                          Between 1 hour and 3 hours                    \n",
       "1                                   More than 3 hours                    \n",
       "2                          Between 1 hour and 3 hours                    \n",
       "3                          Between 1 hour and 3 hours                    \n",
       "4                       Between 30 minutes and 1 hour                    \n",
       "..                                                ...                    \n",
       "77                      Between 30 minutes and 1 hour                    \n",
       "78                      Between 30 minutes and 1 hour                    \n",
       "79                      Between 30 minutes and 1 hour                    \n",
       "80                      Between 30 minutes and 1 hour                    \n",
       "81                         Between 1 hour and 3 hours                    \n",
       "\n",
       "   Do you ever \"binge-watch\" television shows, meaning watching three or more episodes of a TV series in one sitting?  \\\n",
       "0                                                 Yes                                                                   \n",
       "1                                                 Yes                                                                   \n",
       "2                                                 Yes                                                                   \n",
       "3                                                 Yes                                                                   \n",
       "4                                                 Yes                                                                   \n",
       "..                                                ...                                                                   \n",
       "77                                                Yes                                                                   \n",
       "78                                                 No                                                                   \n",
       "79                                                Yes                                                                   \n",
       "80                                                Yes                                                                   \n",
       "81                                                Yes                                                                   \n",
       "\n",
       "   Through what devices do you watch streaming platforms?  \\\n",
       "0                               Flat panel television       \n",
       "1                Laptop/Desktop;Flat panel television       \n",
       "2     Smartphone;Laptop/Desktop;Flat panel television       \n",
       "3                                          Smartphone       \n",
       "4                Laptop/Desktop;Flat panel television       \n",
       "..                                                ...       \n",
       "77                          Smartphone;Laptop/Desktop       \n",
       "78                              Flat panel television       \n",
       "79                                     Laptop/Desktop       \n",
       "80                                     Laptop/Desktop       \n",
       "81                              Flat panel television       \n",
       "\n",
       "   What are the main reasons you watch Streaming platforms?  \\\n",
       "0                  Greater variety and better content         \n",
       "1   Access to content at any time;Greater variety ...         \n",
       "2   Access to content at any time;Greater variety ...         \n",
       "3          Access to content at any time;More freedom         \n",
       "4   Access to content at any time;Greater variety ...         \n",
       "..                                                ...         \n",
       "77                                    Most convenient         \n",
       "78                                    Most convenient         \n",
       "79      Access to content at any time;Most convenient         \n",
       "80                                      Time to relax         \n",
       "81                                    Most convenient         \n",
       "\n",
       "   Of the time you spend watching movies, which devices do you use the most?  \\\n",
       "0                                   Tablet;Television                          \n",
       "1                           Laptop/Desktop;Television                          \n",
       "2                                          Television                          \n",
       "3                               Smartphone;Television                          \n",
       "4                           Laptop/Desktop;Television                          \n",
       "..                                                ...                          \n",
       "77                                     Laptop/Desktop                          \n",
       "78                                         Television                          \n",
       "79                                     Laptop/Desktop                          \n",
       "80                                     Laptop/Desktop                          \n",
       "81                                         Television                          \n",
       "\n",
       "   Of the time you spend watching sports, which devices do you use the most?  \\\n",
       "0                                   Tablet;Television                          \n",
       "1                                          Television                          \n",
       "2                               I do not watch sports                          \n",
       "3                                          Television                          \n",
       "4                               I do not watch sports                          \n",
       "..                                                ...                          \n",
       "77                              I do not watch sports                          \n",
       "78                              I do not watch sports                          \n",
       "79                              I do not watch sports                          \n",
       "80                                     Laptop/Desktop                          \n",
       "81                              I do not watch sports                          \n",
       "\n",
       "   Do you watch television?  \\\n",
       "0                       Yes   \n",
       "1                       Yes   \n",
       "2                       Yes   \n",
       "3                       Yes   \n",
       "4                        No   \n",
       "..                      ...   \n",
       "77                       No   \n",
       "78                       No   \n",
       "79                       No   \n",
       "80                       No   \n",
       "81                      Yes   \n",
       "\n",
       "   Per day how much time do you usually spend watching television?  \\\n",
       "0                       Between 30 minutes and 1 hour                \n",
       "1                          Between 1 hour and 3 hours                \n",
       "2                       Between 30 minutes and 1 hour                \n",
       "3                                   More than 3 hours                \n",
       "4                             No more than 30 minutes                \n",
       "..                                                ...                \n",
       "77                            No more than 30 minutes                \n",
       "78                                                NaN                \n",
       "79                            No more than 30 minutes                \n",
       "80                                                NaN                \n",
       "81                                  More than 3 hours                \n",
       "\n",
       "   What are the main reasons you watch television?  \\\n",
       "0                                 Football Matches   \n",
       "1                      For the programming content   \n",
       "2                      Live shows;Football Matches   \n",
       "3                      For the programming content   \n",
       "4                                         I don't    \n",
       "..                                             ...   \n",
       "77                             News, cooking shows   \n",
       "78                                             NaN   \n",
       "79                                             NaN   \n",
       "80                                             NaN   \n",
       "81                      Larger variety of channels   \n",
       "\n",
       "   Which of the following list of audiovisual contents do you usually watch on TV?  \\\n",
       "0                                         News;Sports                                \n",
       "1                      News;Soap Operas;Movies;Sports                                \n",
       "2                                                News                                \n",
       "3     News;Movies;Series;Programas de Entretenimento                                 \n",
       "4                                            I don't                                 \n",
       "..                                                ...                                \n",
       "77                                               News                                \n",
       "78                                                NaN                                \n",
       "79                                                NaN                                \n",
       "80                                                NaN                                \n",
       "81                                 News;Movies;Series                                \n",
       "\n",
       "          When you get home you're in the habit of...  \\\n",
       "0   Watching videos on your smartphone;Watching Ne...   \n",
       "1        Watching Netflix or other streaming platform   \n",
       "2   Watching television;Watching videos on your sm...   \n",
       "3                                 Watching television   \n",
       "4   Turn on the Laptop/Desktop;Watching Netflix or...   \n",
       "..                                                ...   \n",
       "77                         Turn on the Laptop/Desktop   \n",
       "78                         Turn on the Laptop/Desktop   \n",
       "79                         Turn on the Laptop/Desktop   \n",
       "80                 Watching videos on your smartphone   \n",
       "81                                Watching television   \n",
       "\n",
       "   Which of these activities would be easier for you to stop doing?  \n",
       "0                                 Watching television                \n",
       "1                                 Watching television                \n",
       "2                                 Watching television                \n",
       "3                        Watching streaming platforms                \n",
       "4                                 Watching television                \n",
       "..                                                ...                \n",
       "77                                Watching television                \n",
       "78                                Watching television                \n",
       "79                                Watching television                \n",
       "80                                       Social media                \n",
       "81                                       Social media                \n",
       "\n",
       "[82 rows x 16 columns]"
      ]
     },
     "execution_count": 2,
     "metadata": {},
     "output_type": "execute_result"
    }
   ],
   "source": [
    "data = pd.read_csv('Media Consumption Surveyv3.csv')\n",
    "data"
   ]
  },
  {
   "cell_type": "code",
   "execution_count": 3,
   "id": "6e99e204",
   "metadata": {},
   "outputs": [],
   "source": [
    "#drop 1 column with the info of hour and date of the answers\n",
    "data.drop(columns=[\"Carimbo de data/hora\"],axis=1,inplace=True)"
   ]
  },
  {
   "cell_type": "code",
   "execution_count": 4,
   "id": "e18ccaa5",
   "metadata": {},
   "outputs": [],
   "source": [
    "#Renaming my columns (legend on the top of my code file)\n",
    "data = data.rename(columns={'How old are you?': 'Q1', \n",
    "                            'What is your gender?': 'Q2',\n",
    "                            'Are you a user of any of these streaming platforms?' :'Q3',\n",
    "                            'Per day how much time do you usually spend on a streaming platform?' : 'Q4',\n",
    "                            'Do you ever \"binge-watch\" television shows, meaning watching three or more episodes of a TV series in one sitting?' : 'Q5',\n",
    "                            'Through what devices do you watch streaming platforms?' : 'Q6',\n",
    "                            'What are the main reasons you watch Streaming platforms?' : 'Q7',\n",
    "                            'Of the time you spend watching movies, which devices do you use the most?' : 'Q8',\n",
    "                            'Of the time you spend watching sports, which devices do you use the most?' : 'Q9',\n",
    "                            'Do you watch television?' : 'Q10',\n",
    "                            'Per day how much time do you usually spend watching television?' : 'Q11',\n",
    "                            'What are the main reasons you watch television?' : 'Q12',\n",
    "                            'Which of the following list of audiovisual contents do you usually watch on TV?' : 'Q13',\n",
    "                            \"When you get home you're in the habit of...\" : 'Q14',\n",
    "                            'Which of these activities would be easier for you to stop doing?' : 'Q15'})"
   ]
  },
  {
   "cell_type": "code",
   "execution_count": 5,
   "id": "fe1344c3",
   "metadata": {},
   "outputs": [
    {
     "data": {
      "text/plain": [
       "Q1     object\n",
       "Q2     object\n",
       "Q3     object\n",
       "Q4     object\n",
       "Q5     object\n",
       "Q6     object\n",
       "Q7     object\n",
       "Q8     object\n",
       "Q9     object\n",
       "Q10    object\n",
       "Q11    object\n",
       "Q12    object\n",
       "Q13    object\n",
       "Q14    object\n",
       "Q15    object\n",
       "dtype: object"
      ]
     },
     "execution_count": 5,
     "metadata": {},
     "output_type": "execute_result"
    }
   ],
   "source": [
    "#checking the types of my data - I only have categorical variables on my dataFrame\n",
    "data.dtypes"
   ]
  },
  {
   "cell_type": "code",
   "execution_count": 6,
   "id": "e83e8ae0",
   "metadata": {},
   "outputs": [
    {
     "data": {
      "text/plain": [
       "Q1     0\n",
       "Q2     0\n",
       "Q3     0\n",
       "Q4     0\n",
       "Q5     1\n",
       "Q6     0\n",
       "Q7     0\n",
       "Q8     0\n",
       "Q9     0\n",
       "Q10    0\n",
       "Q11    5\n",
       "Q12    9\n",
       "Q13    8\n",
       "Q14    0\n",
       "Q15    0\n",
       "dtype: int64"
      ]
     },
     "execution_count": 6,
     "metadata": {},
     "output_type": "execute_result"
    }
   ],
   "source": [
    "#Checking NaN\n",
    "data.isna().sum()"
   ]
  },
  {
   "cell_type": "code",
   "execution_count": 7,
   "id": "2374a222",
   "metadata": {},
   "outputs": [
    {
     "name": "stdout",
     "output_type": "stream",
     "text": [
      "         Q1    Q2                                           Q3  \\\n",
      "55  25 - 39  Male  Netflix;HBO Max;Disney +;Amazon Prime Video   \n",
      "\n",
      "                               Q4   Q5                                Q6  \\\n",
      "55  Between 30 minutes and 1 hour  NaN  Smartphone;Flat panel television   \n",
      "\n",
      "                 Q7          Q8          Q9  Q10                      Q11  \\\n",
      "55  Most convenient  Television  Television  Yes  No more than 30 minutes   \n",
      "\n",
      "                             Q12                 Q13  \\\n",
      "55  news or random documentaries  News;documentaries   \n",
      "\n",
      "                           Q14           Q15  \n",
      "55  Turn on the Laptop/Desktop  Social media  \n"
     ]
    }
   ],
   "source": [
    "# Find NaN values in the columns to understand why the missing values\n",
    "\n",
    "nan_Q5 = pd.isnull(data['Q5'])\n",
    "\n",
    "print(data[nan_Q5])"
   ]
  },
  {
   "cell_type": "code",
   "execution_count": 8,
   "id": "07cd3762",
   "metadata": {},
   "outputs": [
    {
     "name": "stdout",
     "output_type": "stream",
     "text": [
      "         Q1      Q2                                   Q3  \\\n",
      "50  25 - 39  Female                     HBO Max;Disney +   \n",
      "51  40 - 64    Male                              Netflix   \n",
      "75  25 - 39    Male  Netflix;Disney +;Amazon Prime Video   \n",
      "78  25 - 39    Male   Netflix;HBO Max;Amazon Prime Video   \n",
      "80  25 - 39    Male                              Netflix   \n",
      "\n",
      "                               Q4   Q5                                    Q6  \\\n",
      "50  Between 30 minutes and 1 hour   No  Laptop/Desktop;Flat panel television   \n",
      "51        No more than 30 minutes   No                        Laptop/Desktop   \n",
      "75  Between 30 minutes and 1 hour  Yes                 Flat panel television   \n",
      "78  Between 30 minutes and 1 hour   No                 Flat panel television   \n",
      "80  Between 30 minutes and 1 hour  Yes                        Laptop/Desktop   \n",
      "\n",
      "                                                   Q7              Q8  \\\n",
      "50                      Access to content at any time      Television   \n",
      "51  Access to content at any time;Greater variety ...  Laptop/Desktop   \n",
      "75  Access to content at any time;Greater variety ...      Television   \n",
      "78                                    Most convenient      Television   \n",
      "80                                      Time to relax  Laptop/Desktop   \n",
      "\n",
      "                       Q9 Q10  Q11  Q12            Q13  \\\n",
      "50  I do not watch sports  No  NaN  NaN            NaN   \n",
      "51  I do not watch sports  No  NaN  NaN            NaN   \n",
      "75  I do not watch sports  No  NaN  NaN  Movies;Series   \n",
      "78  I do not watch sports  No  NaN  NaN            NaN   \n",
      "80         Laptop/Desktop  No  NaN  NaN            NaN   \n",
      "\n",
      "                                             Q14                           Q15  \n",
      "50                    Turn on the Laptop/Desktop  Watching streaming platforms  \n",
      "51                    Turn on the Laptop/Desktop           Watching television  \n",
      "75  Watching Netflix or other streaming platform           Watching television  \n",
      "78                    Turn on the Laptop/Desktop           Watching television  \n",
      "80            Watching videos on your smartphone                  Social media  \n"
     ]
    }
   ],
   "source": [
    "#In the question Q11, Q12 and Q13 is understable the missing values. \n",
    "#These questions were related to person's consume of television.\n",
    "#so the people who do not answer these were the ones who did not watch television, a fail on my survey.\n",
    "\n",
    "nan_Q11 = pd.isnull(data['Q11'])\n",
    "\n",
    "print(data[nan_Q11])"
   ]
  },
  {
   "cell_type": "code",
   "execution_count": 9,
   "id": "076a0739",
   "metadata": {},
   "outputs": [
    {
     "name": "stdout",
     "output_type": "stream",
     "text": [
      "         Q1      Q2                                   Q3  \\\n",
      "50  25 - 39  Female                     HBO Max;Disney +   \n",
      "51  40 - 64    Male                              Netflix   \n",
      "63  25 - 39  Female  Netflix;Disney +;Amazon Prime Video   \n",
      "69  40 - 64    Male           Netflix;Amazon Prime Video   \n",
      "71  25 - 39    Male              Netflix;HBO Max;Youtube   \n",
      "75  25 - 39    Male  Netflix;Disney +;Amazon Prime Video   \n",
      "78  25 - 39    Male   Netflix;HBO Max;Amazon Prime Video   \n",
      "79  25 - 39    Male                      Netflix;HBO Max   \n",
      "80  25 - 39    Male                              Netflix   \n",
      "\n",
      "                               Q4   Q5                                    Q6  \\\n",
      "50  Between 30 minutes and 1 hour   No  Laptop/Desktop;Flat panel television   \n",
      "51        No more than 30 minutes   No                        Laptop/Desktop   \n",
      "63     Between 1 hour and 3 hours  Yes                 Tablet;Laptop/Desktop   \n",
      "69  Between 30 minutes and 1 hour  Yes  Laptop/Desktop;Flat panel television   \n",
      "71  Between 30 minutes and 1 hour   No                 Flat panel television   \n",
      "75  Between 30 minutes and 1 hour  Yes                 Flat panel television   \n",
      "78  Between 30 minutes and 1 hour   No                 Flat panel television   \n",
      "79  Between 30 minutes and 1 hour  Yes                        Laptop/Desktop   \n",
      "80  Between 30 minutes and 1 hour  Yes                        Laptop/Desktop   \n",
      "\n",
      "                                                   Q7  \\\n",
      "50                      Access to content at any time   \n",
      "51  Access to content at any time;Greater variety ...   \n",
      "63                                  I don't have a TV   \n",
      "69  Greater variety and better content;Most conven...   \n",
      "71  Access to content at any time;Greater variety ...   \n",
      "75  Access to content at any time;Greater variety ...   \n",
      "78                                    Most convenient   \n",
      "79      Access to content at any time;Most convenient   \n",
      "80                                      Time to relax   \n",
      "\n",
      "                           Q8                     Q9 Q10  \\\n",
      "50                 Television  I do not watch sports  No   \n",
      "51             Laptop/Desktop  I do not watch sports  No   \n",
      "63                     Tablet  I do not watch sports  No   \n",
      "69  Laptop/Desktop;Television  I do not watch sports  No   \n",
      "71                 Television         Laptop/Desktop  No   \n",
      "75                 Television  I do not watch sports  No   \n",
      "78                 Television  I do not watch sports  No   \n",
      "79             Laptop/Desktop  I do not watch sports  No   \n",
      "80             Laptop/Desktop         Laptop/Desktop  No   \n",
      "\n",
      "                        Q11  Q12            Q13  \\\n",
      "50                      NaN  NaN            NaN   \n",
      "51                      NaN  NaN            NaN   \n",
      "63  No more than 30 minutes  NaN            NaN   \n",
      "69  No more than 30 minutes  NaN            NaN   \n",
      "71  No more than 30 minutes  NaN            NaN   \n",
      "75                      NaN  NaN  Movies;Series   \n",
      "78                      NaN  NaN            NaN   \n",
      "79  No more than 30 minutes  NaN            NaN   \n",
      "80                      NaN  NaN            NaN   \n",
      "\n",
      "                                             Q14                           Q15  \n",
      "50                    Turn on the Laptop/Desktop  Watching streaming platforms  \n",
      "51                    Turn on the Laptop/Desktop           Watching television  \n",
      "63            Watching videos on your smartphone                  Social media  \n",
      "69                                 Not thinking            Watching television  \n",
      "71                    Turn on the Laptop/Desktop           Watching television  \n",
      "75  Watching Netflix or other streaming platform           Watching television  \n",
      "78                    Turn on the Laptop/Desktop           Watching television  \n",
      "79                    Turn on the Laptop/Desktop           Watching television  \n",
      "80            Watching videos on your smartphone                  Social media  \n"
     ]
    }
   ],
   "source": [
    "nan_Q12 = pd.isnull(data['Q12'])\n",
    "\n",
    "print(data[nan_Q12])"
   ]
  },
  {
   "cell_type": "code",
   "execution_count": 10,
   "id": "66798c05",
   "metadata": {},
   "outputs": [
    {
     "name": "stdout",
     "output_type": "stream",
     "text": [
      "         Q1      Q2                                   Q3  \\\n",
      "50  25 - 39  Female                     HBO Max;Disney +   \n",
      "51  40 - 64    Male                              Netflix   \n",
      "63  25 - 39  Female  Netflix;Disney +;Amazon Prime Video   \n",
      "69  40 - 64    Male           Netflix;Amazon Prime Video   \n",
      "71  25 - 39    Male              Netflix;HBO Max;Youtube   \n",
      "78  25 - 39    Male   Netflix;HBO Max;Amazon Prime Video   \n",
      "79  25 - 39    Male                      Netflix;HBO Max   \n",
      "80  25 - 39    Male                              Netflix   \n",
      "\n",
      "                               Q4   Q5                                    Q6  \\\n",
      "50  Between 30 minutes and 1 hour   No  Laptop/Desktop;Flat panel television   \n",
      "51        No more than 30 minutes   No                        Laptop/Desktop   \n",
      "63     Between 1 hour and 3 hours  Yes                 Tablet;Laptop/Desktop   \n",
      "69  Between 30 minutes and 1 hour  Yes  Laptop/Desktop;Flat panel television   \n",
      "71  Between 30 minutes and 1 hour   No                 Flat panel television   \n",
      "78  Between 30 minutes and 1 hour   No                 Flat panel television   \n",
      "79  Between 30 minutes and 1 hour  Yes                        Laptop/Desktop   \n",
      "80  Between 30 minutes and 1 hour  Yes                        Laptop/Desktop   \n",
      "\n",
      "                                                   Q7  \\\n",
      "50                      Access to content at any time   \n",
      "51  Access to content at any time;Greater variety ...   \n",
      "63                                  I don't have a TV   \n",
      "69  Greater variety and better content;Most conven...   \n",
      "71  Access to content at any time;Greater variety ...   \n",
      "78                                    Most convenient   \n",
      "79      Access to content at any time;Most convenient   \n",
      "80                                      Time to relax   \n",
      "\n",
      "                           Q8                     Q9 Q10  \\\n",
      "50                 Television  I do not watch sports  No   \n",
      "51             Laptop/Desktop  I do not watch sports  No   \n",
      "63                     Tablet  I do not watch sports  No   \n",
      "69  Laptop/Desktop;Television  I do not watch sports  No   \n",
      "71                 Television         Laptop/Desktop  No   \n",
      "78                 Television  I do not watch sports  No   \n",
      "79             Laptop/Desktop  I do not watch sports  No   \n",
      "80             Laptop/Desktop         Laptop/Desktop  No   \n",
      "\n",
      "                        Q11  Q12  Q13                                 Q14  \\\n",
      "50                      NaN  NaN  NaN          Turn on the Laptop/Desktop   \n",
      "51                      NaN  NaN  NaN          Turn on the Laptop/Desktop   \n",
      "63  No more than 30 minutes  NaN  NaN  Watching videos on your smartphone   \n",
      "69  No more than 30 minutes  NaN  NaN                       Not thinking    \n",
      "71  No more than 30 minutes  NaN  NaN          Turn on the Laptop/Desktop   \n",
      "78                      NaN  NaN  NaN          Turn on the Laptop/Desktop   \n",
      "79  No more than 30 minutes  NaN  NaN          Turn on the Laptop/Desktop   \n",
      "80                      NaN  NaN  NaN  Watching videos on your smartphone   \n",
      "\n",
      "                             Q15  \n",
      "50  Watching streaming platforms  \n",
      "51           Watching television  \n",
      "63                  Social media  \n",
      "69           Watching television  \n",
      "71           Watching television  \n",
      "78           Watching television  \n",
      "79           Watching television  \n",
      "80                  Social media  \n"
     ]
    }
   ],
   "source": [
    "nan_Q13 = pd.isnull(data['Q13'])\n",
    "\n",
    "print(data[nan_Q13])"
   ]
  },
  {
   "cell_type": "code",
   "execution_count": 11,
   "id": "9a82cd5a",
   "metadata": {},
   "outputs": [],
   "source": [
    "#Replace the NaN values by 'missing_answer'\n",
    "data[['Q5', 'Q11', 'Q12','Q13']] = data[['Q5', 'Q11', 'Q12','Q13']].fillna('missing_answer')"
   ]
  },
  {
   "cell_type": "code",
   "execution_count": 12,
   "id": "f746a818",
   "metadata": {},
   "outputs": [
    {
     "data": {
      "text/plain": [
       "Q1     0\n",
       "Q2     0\n",
       "Q3     0\n",
       "Q4     0\n",
       "Q5     0\n",
       "Q6     0\n",
       "Q7     0\n",
       "Q8     0\n",
       "Q9     0\n",
       "Q10    0\n",
       "Q11    0\n",
       "Q12    0\n",
       "Q13    0\n",
       "Q14    0\n",
       "Q15    0\n",
       "dtype: int64"
      ]
     },
     "execution_count": 12,
     "metadata": {},
     "output_type": "execute_result"
    }
   ],
   "source": [
    "data.isna().sum()"
   ]
  },
  {
   "cell_type": "code",
   "execution_count": 13,
   "id": "4d7be7d5",
   "metadata": {},
   "outputs": [
    {
     "data": {
      "text/plain": [
       "array(['Netflix;HBO Max;Amazon Prime Video', 'Netflix',\n",
       "       'Netflix;HBO Max;Disney +', 'Netflix;HBO Max',\n",
       "       'Netflix;Disney +;Amazon Prime Video;OPTO', 'HBO Max',\n",
       "       'Netflix;Disney +', 'HBO Max;Disney +',\n",
       "       'Netflix;HBO Max;Disney +;Apple TV+',\n",
       "       'Netflix;HBO Max;Disney +;Amazon Prime Video',\n",
       "       'Netflix;Amazon Prime Video',\n",
       "       'Netflix;Disney +;Amazon Prime Video',\n",
       "       'Netflix;HBO Max;Disney +;Apple TV+;Amazon Prime Video',\n",
       "       'Netflix;HBO Max;Apple TV+;Amazon Prime Video',\n",
       "       'Disney +;Amazon Prime Video;Twitch', 'Netflix;HBO Max;Youtube'],\n",
       "      dtype=object)"
      ]
     },
     "execution_count": 13,
     "metadata": {},
     "output_type": "execute_result"
    }
   ],
   "source": [
    "#The questions that had more than 1 option to choose I created a different dataframe \n",
    "#to separate the unique values and to count each value to represent better in graphs here in python or tableau\n",
    "\n",
    "data['Q3'].unique()"
   ]
  },
  {
   "cell_type": "code",
   "execution_count": 156,
   "id": "6192aaa5",
   "metadata": {},
   "outputs": [
    {
     "name": "stdout",
     "output_type": "stream",
     "text": [
      "Streaming Platform  Count\n",
      "Netflix                77\n",
      "HBO Max                51\n",
      "Disney +               40\n",
      "Apple TV+               6\n",
      "Amazon Prime Video     37\n",
      "OPTO                    1\n"
     ]
    }
   ],
   "source": [
    "column_name = \"Q3\"\n",
    "words = [\"Netflix\", \"HBO Max\", \"Disney +\", \"Apple TV+\", \"Amazon Prime Video\", \"OPTO\"]\n",
    "counts = {word: 0 for word in words} \n",
    "\n",
    "for cell in data[column_name]:\n",
    "    if isinstance(cell, str): \n",
    "        cell = cell.lower()\n",
    "        for word in words: \n",
    "            if word.lower() in cell:\n",
    "                counts[word] += 1 \n",
    "\n",
    "streaming_platforms = pd.DataFrame.from_dict(counts, orient='index', columns=['Count'])\n",
    "streaming_platforms.columns.name = 'Streaming Platform'\n",
    "\n",
    "\n",
    "\n",
    "print(streaming_platforms)"
   ]
  },
  {
   "cell_type": "code",
   "execution_count": 157,
   "id": "d56535fc",
   "metadata": {},
   "outputs": [],
   "source": [
    "streaming_platforms.to_csv('streaming_platformsv3.csv')"
   ]
  },
  {
   "cell_type": "code",
   "execution_count": 204,
   "id": "6465ac8a",
   "metadata": {},
   "outputs": [
    {
     "data": {
      "application/vnd.plotly.v1+json": {
       "config": {
        "plotlyServerURL": "https://plot.ly"
       },
       "data": [
        {
         "alignmentgroup": "True",
         "hovertemplate": "index=%{x}<br>Count=%{y}<extra></extra>",
         "legendgroup": "",
         "marker": {
          "color": "#636efa",
          "pattern": {
           "shape": ""
          }
         },
         "name": "",
         "offsetgroup": "",
         "orientation": "v",
         "showlegend": false,
         "textposition": "auto",
         "type": "bar",
         "x": [
          "Netflix",
          "HBO Max",
          "Disney +",
          "Apple TV+",
          "Amazon Prime Video",
          "OPTO"
         ],
         "xaxis": "x",
         "y": [
          77,
          51,
          40,
          6,
          37,
          1
         ],
         "yaxis": "y"
        }
       ],
       "layout": {
        "barmode": "relative",
        "legend": {
         "tracegroupgap": 0
        },
        "margin": {
         "t": 60
        },
        "template": {
         "data": {
          "bar": [
           {
            "error_x": {
             "color": "#2a3f5f"
            },
            "error_y": {
             "color": "#2a3f5f"
            },
            "marker": {
             "line": {
              "color": "#E5ECF6",
              "width": 0.5
             },
             "pattern": {
              "fillmode": "overlay",
              "size": 10,
              "solidity": 0.2
             }
            },
            "type": "bar"
           }
          ],
          "barpolar": [
           {
            "marker": {
             "line": {
              "color": "#E5ECF6",
              "width": 0.5
             },
             "pattern": {
              "fillmode": "overlay",
              "size": 10,
              "solidity": 0.2
             }
            },
            "type": "barpolar"
           }
          ],
          "carpet": [
           {
            "aaxis": {
             "endlinecolor": "#2a3f5f",
             "gridcolor": "white",
             "linecolor": "white",
             "minorgridcolor": "white",
             "startlinecolor": "#2a3f5f"
            },
            "baxis": {
             "endlinecolor": "#2a3f5f",
             "gridcolor": "white",
             "linecolor": "white",
             "minorgridcolor": "white",
             "startlinecolor": "#2a3f5f"
            },
            "type": "carpet"
           }
          ],
          "choropleth": [
           {
            "colorbar": {
             "outlinewidth": 0,
             "ticks": ""
            },
            "type": "choropleth"
           }
          ],
          "contour": [
           {
            "colorbar": {
             "outlinewidth": 0,
             "ticks": ""
            },
            "colorscale": [
             [
              0,
              "#0d0887"
             ],
             [
              0.1111111111111111,
              "#46039f"
             ],
             [
              0.2222222222222222,
              "#7201a8"
             ],
             [
              0.3333333333333333,
              "#9c179e"
             ],
             [
              0.4444444444444444,
              "#bd3786"
             ],
             [
              0.5555555555555556,
              "#d8576b"
             ],
             [
              0.6666666666666666,
              "#ed7953"
             ],
             [
              0.7777777777777778,
              "#fb9f3a"
             ],
             [
              0.8888888888888888,
              "#fdca26"
             ],
             [
              1,
              "#f0f921"
             ]
            ],
            "type": "contour"
           }
          ],
          "contourcarpet": [
           {
            "colorbar": {
             "outlinewidth": 0,
             "ticks": ""
            },
            "type": "contourcarpet"
           }
          ],
          "heatmap": [
           {
            "colorbar": {
             "outlinewidth": 0,
             "ticks": ""
            },
            "colorscale": [
             [
              0,
              "#0d0887"
             ],
             [
              0.1111111111111111,
              "#46039f"
             ],
             [
              0.2222222222222222,
              "#7201a8"
             ],
             [
              0.3333333333333333,
              "#9c179e"
             ],
             [
              0.4444444444444444,
              "#bd3786"
             ],
             [
              0.5555555555555556,
              "#d8576b"
             ],
             [
              0.6666666666666666,
              "#ed7953"
             ],
             [
              0.7777777777777778,
              "#fb9f3a"
             ],
             [
              0.8888888888888888,
              "#fdca26"
             ],
             [
              1,
              "#f0f921"
             ]
            ],
            "type": "heatmap"
           }
          ],
          "heatmapgl": [
           {
            "colorbar": {
             "outlinewidth": 0,
             "ticks": ""
            },
            "colorscale": [
             [
              0,
              "#0d0887"
             ],
             [
              0.1111111111111111,
              "#46039f"
             ],
             [
              0.2222222222222222,
              "#7201a8"
             ],
             [
              0.3333333333333333,
              "#9c179e"
             ],
             [
              0.4444444444444444,
              "#bd3786"
             ],
             [
              0.5555555555555556,
              "#d8576b"
             ],
             [
              0.6666666666666666,
              "#ed7953"
             ],
             [
              0.7777777777777778,
              "#fb9f3a"
             ],
             [
              0.8888888888888888,
              "#fdca26"
             ],
             [
              1,
              "#f0f921"
             ]
            ],
            "type": "heatmapgl"
           }
          ],
          "histogram": [
           {
            "marker": {
             "pattern": {
              "fillmode": "overlay",
              "size": 10,
              "solidity": 0.2
             }
            },
            "type": "histogram"
           }
          ],
          "histogram2d": [
           {
            "colorbar": {
             "outlinewidth": 0,
             "ticks": ""
            },
            "colorscale": [
             [
              0,
              "#0d0887"
             ],
             [
              0.1111111111111111,
              "#46039f"
             ],
             [
              0.2222222222222222,
              "#7201a8"
             ],
             [
              0.3333333333333333,
              "#9c179e"
             ],
             [
              0.4444444444444444,
              "#bd3786"
             ],
             [
              0.5555555555555556,
              "#d8576b"
             ],
             [
              0.6666666666666666,
              "#ed7953"
             ],
             [
              0.7777777777777778,
              "#fb9f3a"
             ],
             [
              0.8888888888888888,
              "#fdca26"
             ],
             [
              1,
              "#f0f921"
             ]
            ],
            "type": "histogram2d"
           }
          ],
          "histogram2dcontour": [
           {
            "colorbar": {
             "outlinewidth": 0,
             "ticks": ""
            },
            "colorscale": [
             [
              0,
              "#0d0887"
             ],
             [
              0.1111111111111111,
              "#46039f"
             ],
             [
              0.2222222222222222,
              "#7201a8"
             ],
             [
              0.3333333333333333,
              "#9c179e"
             ],
             [
              0.4444444444444444,
              "#bd3786"
             ],
             [
              0.5555555555555556,
              "#d8576b"
             ],
             [
              0.6666666666666666,
              "#ed7953"
             ],
             [
              0.7777777777777778,
              "#fb9f3a"
             ],
             [
              0.8888888888888888,
              "#fdca26"
             ],
             [
              1,
              "#f0f921"
             ]
            ],
            "type": "histogram2dcontour"
           }
          ],
          "mesh3d": [
           {
            "colorbar": {
             "outlinewidth": 0,
             "ticks": ""
            },
            "type": "mesh3d"
           }
          ],
          "parcoords": [
           {
            "line": {
             "colorbar": {
              "outlinewidth": 0,
              "ticks": ""
             }
            },
            "type": "parcoords"
           }
          ],
          "pie": [
           {
            "automargin": true,
            "type": "pie"
           }
          ],
          "scatter": [
           {
            "fillpattern": {
             "fillmode": "overlay",
             "size": 10,
             "solidity": 0.2
            },
            "type": "scatter"
           }
          ],
          "scatter3d": [
           {
            "line": {
             "colorbar": {
              "outlinewidth": 0,
              "ticks": ""
             }
            },
            "marker": {
             "colorbar": {
              "outlinewidth": 0,
              "ticks": ""
             }
            },
            "type": "scatter3d"
           }
          ],
          "scattercarpet": [
           {
            "marker": {
             "colorbar": {
              "outlinewidth": 0,
              "ticks": ""
             }
            },
            "type": "scattercarpet"
           }
          ],
          "scattergeo": [
           {
            "marker": {
             "colorbar": {
              "outlinewidth": 0,
              "ticks": ""
             }
            },
            "type": "scattergeo"
           }
          ],
          "scattergl": [
           {
            "marker": {
             "colorbar": {
              "outlinewidth": 0,
              "ticks": ""
             }
            },
            "type": "scattergl"
           }
          ],
          "scattermapbox": [
           {
            "marker": {
             "colorbar": {
              "outlinewidth": 0,
              "ticks": ""
             }
            },
            "type": "scattermapbox"
           }
          ],
          "scatterpolar": [
           {
            "marker": {
             "colorbar": {
              "outlinewidth": 0,
              "ticks": ""
             }
            },
            "type": "scatterpolar"
           }
          ],
          "scatterpolargl": [
           {
            "marker": {
             "colorbar": {
              "outlinewidth": 0,
              "ticks": ""
             }
            },
            "type": "scatterpolargl"
           }
          ],
          "scatterternary": [
           {
            "marker": {
             "colorbar": {
              "outlinewidth": 0,
              "ticks": ""
             }
            },
            "type": "scatterternary"
           }
          ],
          "surface": [
           {
            "colorbar": {
             "outlinewidth": 0,
             "ticks": ""
            },
            "colorscale": [
             [
              0,
              "#0d0887"
             ],
             [
              0.1111111111111111,
              "#46039f"
             ],
             [
              0.2222222222222222,
              "#7201a8"
             ],
             [
              0.3333333333333333,
              "#9c179e"
             ],
             [
              0.4444444444444444,
              "#bd3786"
             ],
             [
              0.5555555555555556,
              "#d8576b"
             ],
             [
              0.6666666666666666,
              "#ed7953"
             ],
             [
              0.7777777777777778,
              "#fb9f3a"
             ],
             [
              0.8888888888888888,
              "#fdca26"
             ],
             [
              1,
              "#f0f921"
             ]
            ],
            "type": "surface"
           }
          ],
          "table": [
           {
            "cells": {
             "fill": {
              "color": "#EBF0F8"
             },
             "line": {
              "color": "white"
             }
            },
            "header": {
             "fill": {
              "color": "#C8D4E3"
             },
             "line": {
              "color": "white"
             }
            },
            "type": "table"
           }
          ]
         },
         "layout": {
          "annotationdefaults": {
           "arrowcolor": "#2a3f5f",
           "arrowhead": 0,
           "arrowwidth": 1
          },
          "autotypenumbers": "strict",
          "coloraxis": {
           "colorbar": {
            "outlinewidth": 0,
            "ticks": ""
           }
          },
          "colorscale": {
           "diverging": [
            [
             0,
             "#8e0152"
            ],
            [
             0.1,
             "#c51b7d"
            ],
            [
             0.2,
             "#de77ae"
            ],
            [
             0.3,
             "#f1b6da"
            ],
            [
             0.4,
             "#fde0ef"
            ],
            [
             0.5,
             "#f7f7f7"
            ],
            [
             0.6,
             "#e6f5d0"
            ],
            [
             0.7,
             "#b8e186"
            ],
            [
             0.8,
             "#7fbc41"
            ],
            [
             0.9,
             "#4d9221"
            ],
            [
             1,
             "#276419"
            ]
           ],
           "sequential": [
            [
             0,
             "#0d0887"
            ],
            [
             0.1111111111111111,
             "#46039f"
            ],
            [
             0.2222222222222222,
             "#7201a8"
            ],
            [
             0.3333333333333333,
             "#9c179e"
            ],
            [
             0.4444444444444444,
             "#bd3786"
            ],
            [
             0.5555555555555556,
             "#d8576b"
            ],
            [
             0.6666666666666666,
             "#ed7953"
            ],
            [
             0.7777777777777778,
             "#fb9f3a"
            ],
            [
             0.8888888888888888,
             "#fdca26"
            ],
            [
             1,
             "#f0f921"
            ]
           ],
           "sequentialminus": [
            [
             0,
             "#0d0887"
            ],
            [
             0.1111111111111111,
             "#46039f"
            ],
            [
             0.2222222222222222,
             "#7201a8"
            ],
            [
             0.3333333333333333,
             "#9c179e"
            ],
            [
             0.4444444444444444,
             "#bd3786"
            ],
            [
             0.5555555555555556,
             "#d8576b"
            ],
            [
             0.6666666666666666,
             "#ed7953"
            ],
            [
             0.7777777777777778,
             "#fb9f3a"
            ],
            [
             0.8888888888888888,
             "#fdca26"
            ],
            [
             1,
             "#f0f921"
            ]
           ]
          },
          "colorway": [
           "#636efa",
           "#EF553B",
           "#00cc96",
           "#ab63fa",
           "#FFA15A",
           "#19d3f3",
           "#FF6692",
           "#B6E880",
           "#FF97FF",
           "#FECB52"
          ],
          "font": {
           "color": "#2a3f5f"
          },
          "geo": {
           "bgcolor": "white",
           "lakecolor": "white",
           "landcolor": "#E5ECF6",
           "showlakes": true,
           "showland": true,
           "subunitcolor": "white"
          },
          "hoverlabel": {
           "align": "left"
          },
          "hovermode": "closest",
          "mapbox": {
           "style": "light"
          },
          "paper_bgcolor": "white",
          "plot_bgcolor": "#E5ECF6",
          "polar": {
           "angularaxis": {
            "gridcolor": "white",
            "linecolor": "white",
            "ticks": ""
           },
           "bgcolor": "#E5ECF6",
           "radialaxis": {
            "gridcolor": "white",
            "linecolor": "white",
            "ticks": ""
           }
          },
          "scene": {
           "xaxis": {
            "backgroundcolor": "#E5ECF6",
            "gridcolor": "white",
            "gridwidth": 2,
            "linecolor": "white",
            "showbackground": true,
            "ticks": "",
            "zerolinecolor": "white"
           },
           "yaxis": {
            "backgroundcolor": "#E5ECF6",
            "gridcolor": "white",
            "gridwidth": 2,
            "linecolor": "white",
            "showbackground": true,
            "ticks": "",
            "zerolinecolor": "white"
           },
           "zaxis": {
            "backgroundcolor": "#E5ECF6",
            "gridcolor": "white",
            "gridwidth": 2,
            "linecolor": "white",
            "showbackground": true,
            "ticks": "",
            "zerolinecolor": "white"
           }
          },
          "shapedefaults": {
           "line": {
            "color": "#2a3f5f"
           }
          },
          "ternary": {
           "aaxis": {
            "gridcolor": "white",
            "linecolor": "white",
            "ticks": ""
           },
           "baxis": {
            "gridcolor": "white",
            "linecolor": "white",
            "ticks": ""
           },
           "bgcolor": "#E5ECF6",
           "caxis": {
            "gridcolor": "white",
            "linecolor": "white",
            "ticks": ""
           }
          },
          "title": {
           "x": 0.05
          },
          "xaxis": {
           "automargin": true,
           "gridcolor": "white",
           "linecolor": "white",
           "ticks": "",
           "title": {
            "standoff": 15
           },
           "zerolinecolor": "white",
           "zerolinewidth": 2
          },
          "yaxis": {
           "automargin": true,
           "gridcolor": "white",
           "linecolor": "white",
           "ticks": "",
           "title": {
            "standoff": 15
           },
           "zerolinecolor": "white",
           "zerolinewidth": 2
          }
         }
        },
        "xaxis": {
         "anchor": "y",
         "domain": [
          0,
          1
         ],
         "title": {
          "text": "index"
         }
        },
        "yaxis": {
         "anchor": "x",
         "domain": [
          0,
          1
         ],
         "title": {
          "text": "Count"
         }
        }
       }
      },
      "text/html": [
       "<div>                            <div id=\"93117689-7336-4a72-bece-2eb59b3f7f02\" class=\"plotly-graph-div\" style=\"height:525px; width:100%;\"></div>            <script type=\"text/javascript\">                require([\"plotly\"], function(Plotly) {                    window.PLOTLYENV=window.PLOTLYENV || {};                                    if (document.getElementById(\"93117689-7336-4a72-bece-2eb59b3f7f02\")) {                    Plotly.newPlot(                        \"93117689-7336-4a72-bece-2eb59b3f7f02\",                        [{\"alignmentgroup\":\"True\",\"hovertemplate\":\"index=%{x}<br>Count=%{y}<extra></extra>\",\"legendgroup\":\"\",\"marker\":{\"color\":\"#636efa\",\"pattern\":{\"shape\":\"\"}},\"name\":\"\",\"offsetgroup\":\"\",\"orientation\":\"v\",\"showlegend\":false,\"textposition\":\"auto\",\"x\":[\"Netflix\",\"HBO Max\",\"Disney +\",\"Apple TV+\",\"Amazon Prime Video\",\"OPTO\"],\"xaxis\":\"x\",\"y\":[77,51,40,6,37,1],\"yaxis\":\"y\",\"type\":\"bar\"}],                        {\"template\":{\"data\":{\"histogram2dcontour\":[{\"type\":\"histogram2dcontour\",\"colorbar\":{\"outlinewidth\":0,\"ticks\":\"\"},\"colorscale\":[[0.0,\"#0d0887\"],[0.1111111111111111,\"#46039f\"],[0.2222222222222222,\"#7201a8\"],[0.3333333333333333,\"#9c179e\"],[0.4444444444444444,\"#bd3786\"],[0.5555555555555556,\"#d8576b\"],[0.6666666666666666,\"#ed7953\"],[0.7777777777777778,\"#fb9f3a\"],[0.8888888888888888,\"#fdca26\"],[1.0,\"#f0f921\"]]}],\"choropleth\":[{\"type\":\"choropleth\",\"colorbar\":{\"outlinewidth\":0,\"ticks\":\"\"}}],\"histogram2d\":[{\"type\":\"histogram2d\",\"colorbar\":{\"outlinewidth\":0,\"ticks\":\"\"},\"colorscale\":[[0.0,\"#0d0887\"],[0.1111111111111111,\"#46039f\"],[0.2222222222222222,\"#7201a8\"],[0.3333333333333333,\"#9c179e\"],[0.4444444444444444,\"#bd3786\"],[0.5555555555555556,\"#d8576b\"],[0.6666666666666666,\"#ed7953\"],[0.7777777777777778,\"#fb9f3a\"],[0.8888888888888888,\"#fdca26\"],[1.0,\"#f0f921\"]]}],\"heatmap\":[{\"type\":\"heatmap\",\"colorbar\":{\"outlinewidth\":0,\"ticks\":\"\"},\"colorscale\":[[0.0,\"#0d0887\"],[0.1111111111111111,\"#46039f\"],[0.2222222222222222,\"#7201a8\"],[0.3333333333333333,\"#9c179e\"],[0.4444444444444444,\"#bd3786\"],[0.5555555555555556,\"#d8576b\"],[0.6666666666666666,\"#ed7953\"],[0.7777777777777778,\"#fb9f3a\"],[0.8888888888888888,\"#fdca26\"],[1.0,\"#f0f921\"]]}],\"heatmapgl\":[{\"type\":\"heatmapgl\",\"colorbar\":{\"outlinewidth\":0,\"ticks\":\"\"},\"colorscale\":[[0.0,\"#0d0887\"],[0.1111111111111111,\"#46039f\"],[0.2222222222222222,\"#7201a8\"],[0.3333333333333333,\"#9c179e\"],[0.4444444444444444,\"#bd3786\"],[0.5555555555555556,\"#d8576b\"],[0.6666666666666666,\"#ed7953\"],[0.7777777777777778,\"#fb9f3a\"],[0.8888888888888888,\"#fdca26\"],[1.0,\"#f0f921\"]]}],\"contourcarpet\":[{\"type\":\"contourcarpet\",\"colorbar\":{\"outlinewidth\":0,\"ticks\":\"\"}}],\"contour\":[{\"type\":\"contour\",\"colorbar\":{\"outlinewidth\":0,\"ticks\":\"\"},\"colorscale\":[[0.0,\"#0d0887\"],[0.1111111111111111,\"#46039f\"],[0.2222222222222222,\"#7201a8\"],[0.3333333333333333,\"#9c179e\"],[0.4444444444444444,\"#bd3786\"],[0.5555555555555556,\"#d8576b\"],[0.6666666666666666,\"#ed7953\"],[0.7777777777777778,\"#fb9f3a\"],[0.8888888888888888,\"#fdca26\"],[1.0,\"#f0f921\"]]}],\"surface\":[{\"type\":\"surface\",\"colorbar\":{\"outlinewidth\":0,\"ticks\":\"\"},\"colorscale\":[[0.0,\"#0d0887\"],[0.1111111111111111,\"#46039f\"],[0.2222222222222222,\"#7201a8\"],[0.3333333333333333,\"#9c179e\"],[0.4444444444444444,\"#bd3786\"],[0.5555555555555556,\"#d8576b\"],[0.6666666666666666,\"#ed7953\"],[0.7777777777777778,\"#fb9f3a\"],[0.8888888888888888,\"#fdca26\"],[1.0,\"#f0f921\"]]}],\"mesh3d\":[{\"type\":\"mesh3d\",\"colorbar\":{\"outlinewidth\":0,\"ticks\":\"\"}}],\"scatter\":[{\"fillpattern\":{\"fillmode\":\"overlay\",\"size\":10,\"solidity\":0.2},\"type\":\"scatter\"}],\"parcoords\":[{\"type\":\"parcoords\",\"line\":{\"colorbar\":{\"outlinewidth\":0,\"ticks\":\"\"}}}],\"scatterpolargl\":[{\"type\":\"scatterpolargl\",\"marker\":{\"colorbar\":{\"outlinewidth\":0,\"ticks\":\"\"}}}],\"bar\":[{\"error_x\":{\"color\":\"#2a3f5f\"},\"error_y\":{\"color\":\"#2a3f5f\"},\"marker\":{\"line\":{\"color\":\"#E5ECF6\",\"width\":0.5},\"pattern\":{\"fillmode\":\"overlay\",\"size\":10,\"solidity\":0.2}},\"type\":\"bar\"}],\"scattergeo\":[{\"type\":\"scattergeo\",\"marker\":{\"colorbar\":{\"outlinewidth\":0,\"ticks\":\"\"}}}],\"scatterpolar\":[{\"type\":\"scatterpolar\",\"marker\":{\"colorbar\":{\"outlinewidth\":0,\"ticks\":\"\"}}}],\"histogram\":[{\"marker\":{\"pattern\":{\"fillmode\":\"overlay\",\"size\":10,\"solidity\":0.2}},\"type\":\"histogram\"}],\"scattergl\":[{\"type\":\"scattergl\",\"marker\":{\"colorbar\":{\"outlinewidth\":0,\"ticks\":\"\"}}}],\"scatter3d\":[{\"type\":\"scatter3d\",\"line\":{\"colorbar\":{\"outlinewidth\":0,\"ticks\":\"\"}},\"marker\":{\"colorbar\":{\"outlinewidth\":0,\"ticks\":\"\"}}}],\"scattermapbox\":[{\"type\":\"scattermapbox\",\"marker\":{\"colorbar\":{\"outlinewidth\":0,\"ticks\":\"\"}}}],\"scatterternary\":[{\"type\":\"scatterternary\",\"marker\":{\"colorbar\":{\"outlinewidth\":0,\"ticks\":\"\"}}}],\"scattercarpet\":[{\"type\":\"scattercarpet\",\"marker\":{\"colorbar\":{\"outlinewidth\":0,\"ticks\":\"\"}}}],\"carpet\":[{\"aaxis\":{\"endlinecolor\":\"#2a3f5f\",\"gridcolor\":\"white\",\"linecolor\":\"white\",\"minorgridcolor\":\"white\",\"startlinecolor\":\"#2a3f5f\"},\"baxis\":{\"endlinecolor\":\"#2a3f5f\",\"gridcolor\":\"white\",\"linecolor\":\"white\",\"minorgridcolor\":\"white\",\"startlinecolor\":\"#2a3f5f\"},\"type\":\"carpet\"}],\"table\":[{\"cells\":{\"fill\":{\"color\":\"#EBF0F8\"},\"line\":{\"color\":\"white\"}},\"header\":{\"fill\":{\"color\":\"#C8D4E3\"},\"line\":{\"color\":\"white\"}},\"type\":\"table\"}],\"barpolar\":[{\"marker\":{\"line\":{\"color\":\"#E5ECF6\",\"width\":0.5},\"pattern\":{\"fillmode\":\"overlay\",\"size\":10,\"solidity\":0.2}},\"type\":\"barpolar\"}],\"pie\":[{\"automargin\":true,\"type\":\"pie\"}]},\"layout\":{\"autotypenumbers\":\"strict\",\"colorway\":[\"#636efa\",\"#EF553B\",\"#00cc96\",\"#ab63fa\",\"#FFA15A\",\"#19d3f3\",\"#FF6692\",\"#B6E880\",\"#FF97FF\",\"#FECB52\"],\"font\":{\"color\":\"#2a3f5f\"},\"hovermode\":\"closest\",\"hoverlabel\":{\"align\":\"left\"},\"paper_bgcolor\":\"white\",\"plot_bgcolor\":\"#E5ECF6\",\"polar\":{\"bgcolor\":\"#E5ECF6\",\"angularaxis\":{\"gridcolor\":\"white\",\"linecolor\":\"white\",\"ticks\":\"\"},\"radialaxis\":{\"gridcolor\":\"white\",\"linecolor\":\"white\",\"ticks\":\"\"}},\"ternary\":{\"bgcolor\":\"#E5ECF6\",\"aaxis\":{\"gridcolor\":\"white\",\"linecolor\":\"white\",\"ticks\":\"\"},\"baxis\":{\"gridcolor\":\"white\",\"linecolor\":\"white\",\"ticks\":\"\"},\"caxis\":{\"gridcolor\":\"white\",\"linecolor\":\"white\",\"ticks\":\"\"}},\"coloraxis\":{\"colorbar\":{\"outlinewidth\":0,\"ticks\":\"\"}},\"colorscale\":{\"sequential\":[[0.0,\"#0d0887\"],[0.1111111111111111,\"#46039f\"],[0.2222222222222222,\"#7201a8\"],[0.3333333333333333,\"#9c179e\"],[0.4444444444444444,\"#bd3786\"],[0.5555555555555556,\"#d8576b\"],[0.6666666666666666,\"#ed7953\"],[0.7777777777777778,\"#fb9f3a\"],[0.8888888888888888,\"#fdca26\"],[1.0,\"#f0f921\"]],\"sequentialminus\":[[0.0,\"#0d0887\"],[0.1111111111111111,\"#46039f\"],[0.2222222222222222,\"#7201a8\"],[0.3333333333333333,\"#9c179e\"],[0.4444444444444444,\"#bd3786\"],[0.5555555555555556,\"#d8576b\"],[0.6666666666666666,\"#ed7953\"],[0.7777777777777778,\"#fb9f3a\"],[0.8888888888888888,\"#fdca26\"],[1.0,\"#f0f921\"]],\"diverging\":[[0,\"#8e0152\"],[0.1,\"#c51b7d\"],[0.2,\"#de77ae\"],[0.3,\"#f1b6da\"],[0.4,\"#fde0ef\"],[0.5,\"#f7f7f7\"],[0.6,\"#e6f5d0\"],[0.7,\"#b8e186\"],[0.8,\"#7fbc41\"],[0.9,\"#4d9221\"],[1,\"#276419\"]]},\"xaxis\":{\"gridcolor\":\"white\",\"linecolor\":\"white\",\"ticks\":\"\",\"title\":{\"standoff\":15},\"zerolinecolor\":\"white\",\"automargin\":true,\"zerolinewidth\":2},\"yaxis\":{\"gridcolor\":\"white\",\"linecolor\":\"white\",\"ticks\":\"\",\"title\":{\"standoff\":15},\"zerolinecolor\":\"white\",\"automargin\":true,\"zerolinewidth\":2},\"scene\":{\"xaxis\":{\"backgroundcolor\":\"#E5ECF6\",\"gridcolor\":\"white\",\"linecolor\":\"white\",\"showbackground\":true,\"ticks\":\"\",\"zerolinecolor\":\"white\",\"gridwidth\":2},\"yaxis\":{\"backgroundcolor\":\"#E5ECF6\",\"gridcolor\":\"white\",\"linecolor\":\"white\",\"showbackground\":true,\"ticks\":\"\",\"zerolinecolor\":\"white\",\"gridwidth\":2},\"zaxis\":{\"backgroundcolor\":\"#E5ECF6\",\"gridcolor\":\"white\",\"linecolor\":\"white\",\"showbackground\":true,\"ticks\":\"\",\"zerolinecolor\":\"white\",\"gridwidth\":2}},\"shapedefaults\":{\"line\":{\"color\":\"#2a3f5f\"}},\"annotationdefaults\":{\"arrowcolor\":\"#2a3f5f\",\"arrowhead\":0,\"arrowwidth\":1},\"geo\":{\"bgcolor\":\"white\",\"landcolor\":\"#E5ECF6\",\"subunitcolor\":\"white\",\"showland\":true,\"showlakes\":true,\"lakecolor\":\"white\"},\"title\":{\"x\":0.05},\"mapbox\":{\"style\":\"light\"}}},\"xaxis\":{\"anchor\":\"y\",\"domain\":[0.0,1.0],\"title\":{\"text\":\"index\"}},\"yaxis\":{\"anchor\":\"x\",\"domain\":[0.0,1.0],\"title\":{\"text\":\"Count\"}},\"legend\":{\"tracegroupgap\":0},\"margin\":{\"t\":60},\"barmode\":\"relative\"},                        {\"responsive\": true}                    ).then(function(){\n",
       "                            \n",
       "var gd = document.getElementById('93117689-7336-4a72-bece-2eb59b3f7f02');\n",
       "var x = new MutationObserver(function (mutations, observer) {{\n",
       "        var display = window.getComputedStyle(gd).display;\n",
       "        if (!display || display === 'none') {{\n",
       "            console.log([gd, 'removed!']);\n",
       "            Plotly.purge(gd);\n",
       "            observer.disconnect();\n",
       "        }}\n",
       "}});\n",
       "\n",
       "// Listen for the removal of the full notebook cells\n",
       "var notebookContainer = gd.closest('#notebook-container');\n",
       "if (notebookContainer) {{\n",
       "    x.observe(notebookContainer, {childList: true});\n",
       "}}\n",
       "\n",
       "// Listen for the clearing of the current output cell\n",
       "var outputEl = gd.closest('.output');\n",
       "if (outputEl) {{\n",
       "    x.observe(outputEl, {childList: true});\n",
       "}}\n",
       "\n",
       "                        })                };                });            </script>        </div>"
      ]
     },
     "metadata": {},
     "output_type": "display_data"
    }
   ],
   "source": [
    "fig = px.bar(streaming_platforms, x=streaming_platforms.index, y='Count')\n",
    "fig.show()"
   ]
  },
  {
   "cell_type": "code",
   "execution_count": 16,
   "id": "0a59813f",
   "metadata": {},
   "outputs": [
    {
     "data": {
      "text/plain": [
       "array(['Flat panel television', 'Laptop/Desktop;Flat panel television',\n",
       "       'Smartphone;Laptop/Desktop;Flat panel television', 'Smartphone',\n",
       "       'Smartphone;Flat panel television',\n",
       "       'Flat panel television;Television', 'Smartphone;Laptop/Desktop',\n",
       "       'Tablet;Flat panel television', 'Tablet;Laptop/Desktop',\n",
       "       'Tablet;Smartphone;Laptop/Desktop;Flat panel television',\n",
       "       'Tablet;Smartphone;Flat panel television', 'Tablet',\n",
       "       'Laptop/Desktop'], dtype=object)"
      ]
     },
     "execution_count": 16,
     "metadata": {},
     "output_type": "execute_result"
    }
   ],
   "source": [
    "data['Q6'].unique()"
   ]
  },
  {
   "cell_type": "code",
   "execution_count": 205,
   "id": "cb3198d5",
   "metadata": {},
   "outputs": [
    {
     "name": "stdout",
     "output_type": "stream",
     "text": [
      "devices_streaming_platforms  Count\n",
      "Flat panel television           65\n",
      "Laptop/Desktop                  32\n",
      "Smartphone                      34\n",
      "Tablet                          14\n"
     ]
    }
   ],
   "source": [
    "column_name = \"Q6\"\n",
    "words = [\"Flat panel television\", \"Laptop/Desktop\", \"Smartphone\", \"Tablet\"]\n",
    "counts = {word: 0 for word in words} \n",
    "\n",
    "for cell in data[column_name]:\n",
    "    if isinstance(cell, str): \n",
    "        cell = cell.lower()\n",
    "        for word in words: \n",
    "            if word.lower() in cell:\n",
    "                counts[word] += 1 \n",
    "\n",
    "devices_streaming_platforms = pd.DataFrame.from_dict(counts, orient='index', columns=['Count'])\n",
    "devices_streaming_platforms.columns.name = 'devices_streaming_platforms'\n",
    "\n",
    "print(devices_streaming_platforms)"
   ]
  },
  {
   "cell_type": "code",
   "execution_count": 206,
   "id": "c4c83061",
   "metadata": {},
   "outputs": [
    {
     "data": {
      "application/vnd.plotly.v1+json": {
       "config": {
        "plotlyServerURL": "https://plot.ly"
       },
       "data": [
        {
         "alignmentgroup": "True",
         "hovertemplate": "index=%{x}<br>Count=%{y}<extra></extra>",
         "legendgroup": "",
         "marker": {
          "color": "#636efa",
          "pattern": {
           "shape": ""
          }
         },
         "name": "",
         "offsetgroup": "",
         "orientation": "v",
         "showlegend": false,
         "textposition": "auto",
         "type": "bar",
         "x": [
          "Flat panel television",
          "Laptop/Desktop",
          "Smartphone",
          "Tablet"
         ],
         "xaxis": "x",
         "y": [
          65,
          32,
          34,
          14
         ],
         "yaxis": "y"
        }
       ],
       "layout": {
        "barmode": "relative",
        "legend": {
         "tracegroupgap": 0
        },
        "margin": {
         "t": 60
        },
        "template": {
         "data": {
          "bar": [
           {
            "error_x": {
             "color": "#2a3f5f"
            },
            "error_y": {
             "color": "#2a3f5f"
            },
            "marker": {
             "line": {
              "color": "#E5ECF6",
              "width": 0.5
             },
             "pattern": {
              "fillmode": "overlay",
              "size": 10,
              "solidity": 0.2
             }
            },
            "type": "bar"
           }
          ],
          "barpolar": [
           {
            "marker": {
             "line": {
              "color": "#E5ECF6",
              "width": 0.5
             },
             "pattern": {
              "fillmode": "overlay",
              "size": 10,
              "solidity": 0.2
             }
            },
            "type": "barpolar"
           }
          ],
          "carpet": [
           {
            "aaxis": {
             "endlinecolor": "#2a3f5f",
             "gridcolor": "white",
             "linecolor": "white",
             "minorgridcolor": "white",
             "startlinecolor": "#2a3f5f"
            },
            "baxis": {
             "endlinecolor": "#2a3f5f",
             "gridcolor": "white",
             "linecolor": "white",
             "minorgridcolor": "white",
             "startlinecolor": "#2a3f5f"
            },
            "type": "carpet"
           }
          ],
          "choropleth": [
           {
            "colorbar": {
             "outlinewidth": 0,
             "ticks": ""
            },
            "type": "choropleth"
           }
          ],
          "contour": [
           {
            "colorbar": {
             "outlinewidth": 0,
             "ticks": ""
            },
            "colorscale": [
             [
              0,
              "#0d0887"
             ],
             [
              0.1111111111111111,
              "#46039f"
             ],
             [
              0.2222222222222222,
              "#7201a8"
             ],
             [
              0.3333333333333333,
              "#9c179e"
             ],
             [
              0.4444444444444444,
              "#bd3786"
             ],
             [
              0.5555555555555556,
              "#d8576b"
             ],
             [
              0.6666666666666666,
              "#ed7953"
             ],
             [
              0.7777777777777778,
              "#fb9f3a"
             ],
             [
              0.8888888888888888,
              "#fdca26"
             ],
             [
              1,
              "#f0f921"
             ]
            ],
            "type": "contour"
           }
          ],
          "contourcarpet": [
           {
            "colorbar": {
             "outlinewidth": 0,
             "ticks": ""
            },
            "type": "contourcarpet"
           }
          ],
          "heatmap": [
           {
            "colorbar": {
             "outlinewidth": 0,
             "ticks": ""
            },
            "colorscale": [
             [
              0,
              "#0d0887"
             ],
             [
              0.1111111111111111,
              "#46039f"
             ],
             [
              0.2222222222222222,
              "#7201a8"
             ],
             [
              0.3333333333333333,
              "#9c179e"
             ],
             [
              0.4444444444444444,
              "#bd3786"
             ],
             [
              0.5555555555555556,
              "#d8576b"
             ],
             [
              0.6666666666666666,
              "#ed7953"
             ],
             [
              0.7777777777777778,
              "#fb9f3a"
             ],
             [
              0.8888888888888888,
              "#fdca26"
             ],
             [
              1,
              "#f0f921"
             ]
            ],
            "type": "heatmap"
           }
          ],
          "heatmapgl": [
           {
            "colorbar": {
             "outlinewidth": 0,
             "ticks": ""
            },
            "colorscale": [
             [
              0,
              "#0d0887"
             ],
             [
              0.1111111111111111,
              "#46039f"
             ],
             [
              0.2222222222222222,
              "#7201a8"
             ],
             [
              0.3333333333333333,
              "#9c179e"
             ],
             [
              0.4444444444444444,
              "#bd3786"
             ],
             [
              0.5555555555555556,
              "#d8576b"
             ],
             [
              0.6666666666666666,
              "#ed7953"
             ],
             [
              0.7777777777777778,
              "#fb9f3a"
             ],
             [
              0.8888888888888888,
              "#fdca26"
             ],
             [
              1,
              "#f0f921"
             ]
            ],
            "type": "heatmapgl"
           }
          ],
          "histogram": [
           {
            "marker": {
             "pattern": {
              "fillmode": "overlay",
              "size": 10,
              "solidity": 0.2
             }
            },
            "type": "histogram"
           }
          ],
          "histogram2d": [
           {
            "colorbar": {
             "outlinewidth": 0,
             "ticks": ""
            },
            "colorscale": [
             [
              0,
              "#0d0887"
             ],
             [
              0.1111111111111111,
              "#46039f"
             ],
             [
              0.2222222222222222,
              "#7201a8"
             ],
             [
              0.3333333333333333,
              "#9c179e"
             ],
             [
              0.4444444444444444,
              "#bd3786"
             ],
             [
              0.5555555555555556,
              "#d8576b"
             ],
             [
              0.6666666666666666,
              "#ed7953"
             ],
             [
              0.7777777777777778,
              "#fb9f3a"
             ],
             [
              0.8888888888888888,
              "#fdca26"
             ],
             [
              1,
              "#f0f921"
             ]
            ],
            "type": "histogram2d"
           }
          ],
          "histogram2dcontour": [
           {
            "colorbar": {
             "outlinewidth": 0,
             "ticks": ""
            },
            "colorscale": [
             [
              0,
              "#0d0887"
             ],
             [
              0.1111111111111111,
              "#46039f"
             ],
             [
              0.2222222222222222,
              "#7201a8"
             ],
             [
              0.3333333333333333,
              "#9c179e"
             ],
             [
              0.4444444444444444,
              "#bd3786"
             ],
             [
              0.5555555555555556,
              "#d8576b"
             ],
             [
              0.6666666666666666,
              "#ed7953"
             ],
             [
              0.7777777777777778,
              "#fb9f3a"
             ],
             [
              0.8888888888888888,
              "#fdca26"
             ],
             [
              1,
              "#f0f921"
             ]
            ],
            "type": "histogram2dcontour"
           }
          ],
          "mesh3d": [
           {
            "colorbar": {
             "outlinewidth": 0,
             "ticks": ""
            },
            "type": "mesh3d"
           }
          ],
          "parcoords": [
           {
            "line": {
             "colorbar": {
              "outlinewidth": 0,
              "ticks": ""
             }
            },
            "type": "parcoords"
           }
          ],
          "pie": [
           {
            "automargin": true,
            "type": "pie"
           }
          ],
          "scatter": [
           {
            "fillpattern": {
             "fillmode": "overlay",
             "size": 10,
             "solidity": 0.2
            },
            "type": "scatter"
           }
          ],
          "scatter3d": [
           {
            "line": {
             "colorbar": {
              "outlinewidth": 0,
              "ticks": ""
             }
            },
            "marker": {
             "colorbar": {
              "outlinewidth": 0,
              "ticks": ""
             }
            },
            "type": "scatter3d"
           }
          ],
          "scattercarpet": [
           {
            "marker": {
             "colorbar": {
              "outlinewidth": 0,
              "ticks": ""
             }
            },
            "type": "scattercarpet"
           }
          ],
          "scattergeo": [
           {
            "marker": {
             "colorbar": {
              "outlinewidth": 0,
              "ticks": ""
             }
            },
            "type": "scattergeo"
           }
          ],
          "scattergl": [
           {
            "marker": {
             "colorbar": {
              "outlinewidth": 0,
              "ticks": ""
             }
            },
            "type": "scattergl"
           }
          ],
          "scattermapbox": [
           {
            "marker": {
             "colorbar": {
              "outlinewidth": 0,
              "ticks": ""
             }
            },
            "type": "scattermapbox"
           }
          ],
          "scatterpolar": [
           {
            "marker": {
             "colorbar": {
              "outlinewidth": 0,
              "ticks": ""
             }
            },
            "type": "scatterpolar"
           }
          ],
          "scatterpolargl": [
           {
            "marker": {
             "colorbar": {
              "outlinewidth": 0,
              "ticks": ""
             }
            },
            "type": "scatterpolargl"
           }
          ],
          "scatterternary": [
           {
            "marker": {
             "colorbar": {
              "outlinewidth": 0,
              "ticks": ""
             }
            },
            "type": "scatterternary"
           }
          ],
          "surface": [
           {
            "colorbar": {
             "outlinewidth": 0,
             "ticks": ""
            },
            "colorscale": [
             [
              0,
              "#0d0887"
             ],
             [
              0.1111111111111111,
              "#46039f"
             ],
             [
              0.2222222222222222,
              "#7201a8"
             ],
             [
              0.3333333333333333,
              "#9c179e"
             ],
             [
              0.4444444444444444,
              "#bd3786"
             ],
             [
              0.5555555555555556,
              "#d8576b"
             ],
             [
              0.6666666666666666,
              "#ed7953"
             ],
             [
              0.7777777777777778,
              "#fb9f3a"
             ],
             [
              0.8888888888888888,
              "#fdca26"
             ],
             [
              1,
              "#f0f921"
             ]
            ],
            "type": "surface"
           }
          ],
          "table": [
           {
            "cells": {
             "fill": {
              "color": "#EBF0F8"
             },
             "line": {
              "color": "white"
             }
            },
            "header": {
             "fill": {
              "color": "#C8D4E3"
             },
             "line": {
              "color": "white"
             }
            },
            "type": "table"
           }
          ]
         },
         "layout": {
          "annotationdefaults": {
           "arrowcolor": "#2a3f5f",
           "arrowhead": 0,
           "arrowwidth": 1
          },
          "autotypenumbers": "strict",
          "coloraxis": {
           "colorbar": {
            "outlinewidth": 0,
            "ticks": ""
           }
          },
          "colorscale": {
           "diverging": [
            [
             0,
             "#8e0152"
            ],
            [
             0.1,
             "#c51b7d"
            ],
            [
             0.2,
             "#de77ae"
            ],
            [
             0.3,
             "#f1b6da"
            ],
            [
             0.4,
             "#fde0ef"
            ],
            [
             0.5,
             "#f7f7f7"
            ],
            [
             0.6,
             "#e6f5d0"
            ],
            [
             0.7,
             "#b8e186"
            ],
            [
             0.8,
             "#7fbc41"
            ],
            [
             0.9,
             "#4d9221"
            ],
            [
             1,
             "#276419"
            ]
           ],
           "sequential": [
            [
             0,
             "#0d0887"
            ],
            [
             0.1111111111111111,
             "#46039f"
            ],
            [
             0.2222222222222222,
             "#7201a8"
            ],
            [
             0.3333333333333333,
             "#9c179e"
            ],
            [
             0.4444444444444444,
             "#bd3786"
            ],
            [
             0.5555555555555556,
             "#d8576b"
            ],
            [
             0.6666666666666666,
             "#ed7953"
            ],
            [
             0.7777777777777778,
             "#fb9f3a"
            ],
            [
             0.8888888888888888,
             "#fdca26"
            ],
            [
             1,
             "#f0f921"
            ]
           ],
           "sequentialminus": [
            [
             0,
             "#0d0887"
            ],
            [
             0.1111111111111111,
             "#46039f"
            ],
            [
             0.2222222222222222,
             "#7201a8"
            ],
            [
             0.3333333333333333,
             "#9c179e"
            ],
            [
             0.4444444444444444,
             "#bd3786"
            ],
            [
             0.5555555555555556,
             "#d8576b"
            ],
            [
             0.6666666666666666,
             "#ed7953"
            ],
            [
             0.7777777777777778,
             "#fb9f3a"
            ],
            [
             0.8888888888888888,
             "#fdca26"
            ],
            [
             1,
             "#f0f921"
            ]
           ]
          },
          "colorway": [
           "#636efa",
           "#EF553B",
           "#00cc96",
           "#ab63fa",
           "#FFA15A",
           "#19d3f3",
           "#FF6692",
           "#B6E880",
           "#FF97FF",
           "#FECB52"
          ],
          "font": {
           "color": "#2a3f5f"
          },
          "geo": {
           "bgcolor": "white",
           "lakecolor": "white",
           "landcolor": "#E5ECF6",
           "showlakes": true,
           "showland": true,
           "subunitcolor": "white"
          },
          "hoverlabel": {
           "align": "left"
          },
          "hovermode": "closest",
          "mapbox": {
           "style": "light"
          },
          "paper_bgcolor": "white",
          "plot_bgcolor": "#E5ECF6",
          "polar": {
           "angularaxis": {
            "gridcolor": "white",
            "linecolor": "white",
            "ticks": ""
           },
           "bgcolor": "#E5ECF6",
           "radialaxis": {
            "gridcolor": "white",
            "linecolor": "white",
            "ticks": ""
           }
          },
          "scene": {
           "xaxis": {
            "backgroundcolor": "#E5ECF6",
            "gridcolor": "white",
            "gridwidth": 2,
            "linecolor": "white",
            "showbackground": true,
            "ticks": "",
            "zerolinecolor": "white"
           },
           "yaxis": {
            "backgroundcolor": "#E5ECF6",
            "gridcolor": "white",
            "gridwidth": 2,
            "linecolor": "white",
            "showbackground": true,
            "ticks": "",
            "zerolinecolor": "white"
           },
           "zaxis": {
            "backgroundcolor": "#E5ECF6",
            "gridcolor": "white",
            "gridwidth": 2,
            "linecolor": "white",
            "showbackground": true,
            "ticks": "",
            "zerolinecolor": "white"
           }
          },
          "shapedefaults": {
           "line": {
            "color": "#2a3f5f"
           }
          },
          "ternary": {
           "aaxis": {
            "gridcolor": "white",
            "linecolor": "white",
            "ticks": ""
           },
           "baxis": {
            "gridcolor": "white",
            "linecolor": "white",
            "ticks": ""
           },
           "bgcolor": "#E5ECF6",
           "caxis": {
            "gridcolor": "white",
            "linecolor": "white",
            "ticks": ""
           }
          },
          "title": {
           "x": 0.05
          },
          "xaxis": {
           "automargin": true,
           "gridcolor": "white",
           "linecolor": "white",
           "ticks": "",
           "title": {
            "standoff": 15
           },
           "zerolinecolor": "white",
           "zerolinewidth": 2
          },
          "yaxis": {
           "automargin": true,
           "gridcolor": "white",
           "linecolor": "white",
           "ticks": "",
           "title": {
            "standoff": 15
           },
           "zerolinecolor": "white",
           "zerolinewidth": 2
          }
         }
        },
        "xaxis": {
         "anchor": "y",
         "domain": [
          0,
          1
         ],
         "title": {
          "text": "index"
         }
        },
        "yaxis": {
         "anchor": "x",
         "domain": [
          0,
          1
         ],
         "title": {
          "text": "Count"
         }
        }
       }
      },
      "text/html": [
       "<div>                            <div id=\"4b7a25a8-2277-427c-aac2-139929e20e54\" class=\"plotly-graph-div\" style=\"height:525px; width:100%;\"></div>            <script type=\"text/javascript\">                require([\"plotly\"], function(Plotly) {                    window.PLOTLYENV=window.PLOTLYENV || {};                                    if (document.getElementById(\"4b7a25a8-2277-427c-aac2-139929e20e54\")) {                    Plotly.newPlot(                        \"4b7a25a8-2277-427c-aac2-139929e20e54\",                        [{\"alignmentgroup\":\"True\",\"hovertemplate\":\"index=%{x}<br>Count=%{y}<extra></extra>\",\"legendgroup\":\"\",\"marker\":{\"color\":\"#636efa\",\"pattern\":{\"shape\":\"\"}},\"name\":\"\",\"offsetgroup\":\"\",\"orientation\":\"v\",\"showlegend\":false,\"textposition\":\"auto\",\"x\":[\"Flat panel television\",\"Laptop/Desktop\",\"Smartphone\",\"Tablet\"],\"xaxis\":\"x\",\"y\":[65,32,34,14],\"yaxis\":\"y\",\"type\":\"bar\"}],                        {\"template\":{\"data\":{\"histogram2dcontour\":[{\"type\":\"histogram2dcontour\",\"colorbar\":{\"outlinewidth\":0,\"ticks\":\"\"},\"colorscale\":[[0.0,\"#0d0887\"],[0.1111111111111111,\"#46039f\"],[0.2222222222222222,\"#7201a8\"],[0.3333333333333333,\"#9c179e\"],[0.4444444444444444,\"#bd3786\"],[0.5555555555555556,\"#d8576b\"],[0.6666666666666666,\"#ed7953\"],[0.7777777777777778,\"#fb9f3a\"],[0.8888888888888888,\"#fdca26\"],[1.0,\"#f0f921\"]]}],\"choropleth\":[{\"type\":\"choropleth\",\"colorbar\":{\"outlinewidth\":0,\"ticks\":\"\"}}],\"histogram2d\":[{\"type\":\"histogram2d\",\"colorbar\":{\"outlinewidth\":0,\"ticks\":\"\"},\"colorscale\":[[0.0,\"#0d0887\"],[0.1111111111111111,\"#46039f\"],[0.2222222222222222,\"#7201a8\"],[0.3333333333333333,\"#9c179e\"],[0.4444444444444444,\"#bd3786\"],[0.5555555555555556,\"#d8576b\"],[0.6666666666666666,\"#ed7953\"],[0.7777777777777778,\"#fb9f3a\"],[0.8888888888888888,\"#fdca26\"],[1.0,\"#f0f921\"]]}],\"heatmap\":[{\"type\":\"heatmap\",\"colorbar\":{\"outlinewidth\":0,\"ticks\":\"\"},\"colorscale\":[[0.0,\"#0d0887\"],[0.1111111111111111,\"#46039f\"],[0.2222222222222222,\"#7201a8\"],[0.3333333333333333,\"#9c179e\"],[0.4444444444444444,\"#bd3786\"],[0.5555555555555556,\"#d8576b\"],[0.6666666666666666,\"#ed7953\"],[0.7777777777777778,\"#fb9f3a\"],[0.8888888888888888,\"#fdca26\"],[1.0,\"#f0f921\"]]}],\"heatmapgl\":[{\"type\":\"heatmapgl\",\"colorbar\":{\"outlinewidth\":0,\"ticks\":\"\"},\"colorscale\":[[0.0,\"#0d0887\"],[0.1111111111111111,\"#46039f\"],[0.2222222222222222,\"#7201a8\"],[0.3333333333333333,\"#9c179e\"],[0.4444444444444444,\"#bd3786\"],[0.5555555555555556,\"#d8576b\"],[0.6666666666666666,\"#ed7953\"],[0.7777777777777778,\"#fb9f3a\"],[0.8888888888888888,\"#fdca26\"],[1.0,\"#f0f921\"]]}],\"contourcarpet\":[{\"type\":\"contourcarpet\",\"colorbar\":{\"outlinewidth\":0,\"ticks\":\"\"}}],\"contour\":[{\"type\":\"contour\",\"colorbar\":{\"outlinewidth\":0,\"ticks\":\"\"},\"colorscale\":[[0.0,\"#0d0887\"],[0.1111111111111111,\"#46039f\"],[0.2222222222222222,\"#7201a8\"],[0.3333333333333333,\"#9c179e\"],[0.4444444444444444,\"#bd3786\"],[0.5555555555555556,\"#d8576b\"],[0.6666666666666666,\"#ed7953\"],[0.7777777777777778,\"#fb9f3a\"],[0.8888888888888888,\"#fdca26\"],[1.0,\"#f0f921\"]]}],\"surface\":[{\"type\":\"surface\",\"colorbar\":{\"outlinewidth\":0,\"ticks\":\"\"},\"colorscale\":[[0.0,\"#0d0887\"],[0.1111111111111111,\"#46039f\"],[0.2222222222222222,\"#7201a8\"],[0.3333333333333333,\"#9c179e\"],[0.4444444444444444,\"#bd3786\"],[0.5555555555555556,\"#d8576b\"],[0.6666666666666666,\"#ed7953\"],[0.7777777777777778,\"#fb9f3a\"],[0.8888888888888888,\"#fdca26\"],[1.0,\"#f0f921\"]]}],\"mesh3d\":[{\"type\":\"mesh3d\",\"colorbar\":{\"outlinewidth\":0,\"ticks\":\"\"}}],\"scatter\":[{\"fillpattern\":{\"fillmode\":\"overlay\",\"size\":10,\"solidity\":0.2},\"type\":\"scatter\"}],\"parcoords\":[{\"type\":\"parcoords\",\"line\":{\"colorbar\":{\"outlinewidth\":0,\"ticks\":\"\"}}}],\"scatterpolargl\":[{\"type\":\"scatterpolargl\",\"marker\":{\"colorbar\":{\"outlinewidth\":0,\"ticks\":\"\"}}}],\"bar\":[{\"error_x\":{\"color\":\"#2a3f5f\"},\"error_y\":{\"color\":\"#2a3f5f\"},\"marker\":{\"line\":{\"color\":\"#E5ECF6\",\"width\":0.5},\"pattern\":{\"fillmode\":\"overlay\",\"size\":10,\"solidity\":0.2}},\"type\":\"bar\"}],\"scattergeo\":[{\"type\":\"scattergeo\",\"marker\":{\"colorbar\":{\"outlinewidth\":0,\"ticks\":\"\"}}}],\"scatterpolar\":[{\"type\":\"scatterpolar\",\"marker\":{\"colorbar\":{\"outlinewidth\":0,\"ticks\":\"\"}}}],\"histogram\":[{\"marker\":{\"pattern\":{\"fillmode\":\"overlay\",\"size\":10,\"solidity\":0.2}},\"type\":\"histogram\"}],\"scattergl\":[{\"type\":\"scattergl\",\"marker\":{\"colorbar\":{\"outlinewidth\":0,\"ticks\":\"\"}}}],\"scatter3d\":[{\"type\":\"scatter3d\",\"line\":{\"colorbar\":{\"outlinewidth\":0,\"ticks\":\"\"}},\"marker\":{\"colorbar\":{\"outlinewidth\":0,\"ticks\":\"\"}}}],\"scattermapbox\":[{\"type\":\"scattermapbox\",\"marker\":{\"colorbar\":{\"outlinewidth\":0,\"ticks\":\"\"}}}],\"scatterternary\":[{\"type\":\"scatterternary\",\"marker\":{\"colorbar\":{\"outlinewidth\":0,\"ticks\":\"\"}}}],\"scattercarpet\":[{\"type\":\"scattercarpet\",\"marker\":{\"colorbar\":{\"outlinewidth\":0,\"ticks\":\"\"}}}],\"carpet\":[{\"aaxis\":{\"endlinecolor\":\"#2a3f5f\",\"gridcolor\":\"white\",\"linecolor\":\"white\",\"minorgridcolor\":\"white\",\"startlinecolor\":\"#2a3f5f\"},\"baxis\":{\"endlinecolor\":\"#2a3f5f\",\"gridcolor\":\"white\",\"linecolor\":\"white\",\"minorgridcolor\":\"white\",\"startlinecolor\":\"#2a3f5f\"},\"type\":\"carpet\"}],\"table\":[{\"cells\":{\"fill\":{\"color\":\"#EBF0F8\"},\"line\":{\"color\":\"white\"}},\"header\":{\"fill\":{\"color\":\"#C8D4E3\"},\"line\":{\"color\":\"white\"}},\"type\":\"table\"}],\"barpolar\":[{\"marker\":{\"line\":{\"color\":\"#E5ECF6\",\"width\":0.5},\"pattern\":{\"fillmode\":\"overlay\",\"size\":10,\"solidity\":0.2}},\"type\":\"barpolar\"}],\"pie\":[{\"automargin\":true,\"type\":\"pie\"}]},\"layout\":{\"autotypenumbers\":\"strict\",\"colorway\":[\"#636efa\",\"#EF553B\",\"#00cc96\",\"#ab63fa\",\"#FFA15A\",\"#19d3f3\",\"#FF6692\",\"#B6E880\",\"#FF97FF\",\"#FECB52\"],\"font\":{\"color\":\"#2a3f5f\"},\"hovermode\":\"closest\",\"hoverlabel\":{\"align\":\"left\"},\"paper_bgcolor\":\"white\",\"plot_bgcolor\":\"#E5ECF6\",\"polar\":{\"bgcolor\":\"#E5ECF6\",\"angularaxis\":{\"gridcolor\":\"white\",\"linecolor\":\"white\",\"ticks\":\"\"},\"radialaxis\":{\"gridcolor\":\"white\",\"linecolor\":\"white\",\"ticks\":\"\"}},\"ternary\":{\"bgcolor\":\"#E5ECF6\",\"aaxis\":{\"gridcolor\":\"white\",\"linecolor\":\"white\",\"ticks\":\"\"},\"baxis\":{\"gridcolor\":\"white\",\"linecolor\":\"white\",\"ticks\":\"\"},\"caxis\":{\"gridcolor\":\"white\",\"linecolor\":\"white\",\"ticks\":\"\"}},\"coloraxis\":{\"colorbar\":{\"outlinewidth\":0,\"ticks\":\"\"}},\"colorscale\":{\"sequential\":[[0.0,\"#0d0887\"],[0.1111111111111111,\"#46039f\"],[0.2222222222222222,\"#7201a8\"],[0.3333333333333333,\"#9c179e\"],[0.4444444444444444,\"#bd3786\"],[0.5555555555555556,\"#d8576b\"],[0.6666666666666666,\"#ed7953\"],[0.7777777777777778,\"#fb9f3a\"],[0.8888888888888888,\"#fdca26\"],[1.0,\"#f0f921\"]],\"sequentialminus\":[[0.0,\"#0d0887\"],[0.1111111111111111,\"#46039f\"],[0.2222222222222222,\"#7201a8\"],[0.3333333333333333,\"#9c179e\"],[0.4444444444444444,\"#bd3786\"],[0.5555555555555556,\"#d8576b\"],[0.6666666666666666,\"#ed7953\"],[0.7777777777777778,\"#fb9f3a\"],[0.8888888888888888,\"#fdca26\"],[1.0,\"#f0f921\"]],\"diverging\":[[0,\"#8e0152\"],[0.1,\"#c51b7d\"],[0.2,\"#de77ae\"],[0.3,\"#f1b6da\"],[0.4,\"#fde0ef\"],[0.5,\"#f7f7f7\"],[0.6,\"#e6f5d0\"],[0.7,\"#b8e186\"],[0.8,\"#7fbc41\"],[0.9,\"#4d9221\"],[1,\"#276419\"]]},\"xaxis\":{\"gridcolor\":\"white\",\"linecolor\":\"white\",\"ticks\":\"\",\"title\":{\"standoff\":15},\"zerolinecolor\":\"white\",\"automargin\":true,\"zerolinewidth\":2},\"yaxis\":{\"gridcolor\":\"white\",\"linecolor\":\"white\",\"ticks\":\"\",\"title\":{\"standoff\":15},\"zerolinecolor\":\"white\",\"automargin\":true,\"zerolinewidth\":2},\"scene\":{\"xaxis\":{\"backgroundcolor\":\"#E5ECF6\",\"gridcolor\":\"white\",\"linecolor\":\"white\",\"showbackground\":true,\"ticks\":\"\",\"zerolinecolor\":\"white\",\"gridwidth\":2},\"yaxis\":{\"backgroundcolor\":\"#E5ECF6\",\"gridcolor\":\"white\",\"linecolor\":\"white\",\"showbackground\":true,\"ticks\":\"\",\"zerolinecolor\":\"white\",\"gridwidth\":2},\"zaxis\":{\"backgroundcolor\":\"#E5ECF6\",\"gridcolor\":\"white\",\"linecolor\":\"white\",\"showbackground\":true,\"ticks\":\"\",\"zerolinecolor\":\"white\",\"gridwidth\":2}},\"shapedefaults\":{\"line\":{\"color\":\"#2a3f5f\"}},\"annotationdefaults\":{\"arrowcolor\":\"#2a3f5f\",\"arrowhead\":0,\"arrowwidth\":1},\"geo\":{\"bgcolor\":\"white\",\"landcolor\":\"#E5ECF6\",\"subunitcolor\":\"white\",\"showland\":true,\"showlakes\":true,\"lakecolor\":\"white\"},\"title\":{\"x\":0.05},\"mapbox\":{\"style\":\"light\"}}},\"xaxis\":{\"anchor\":\"y\",\"domain\":[0.0,1.0],\"title\":{\"text\":\"index\"}},\"yaxis\":{\"anchor\":\"x\",\"domain\":[0.0,1.0],\"title\":{\"text\":\"Count\"}},\"legend\":{\"tracegroupgap\":0},\"margin\":{\"t\":60},\"barmode\":\"relative\"},                        {\"responsive\": true}                    ).then(function(){\n",
       "                            \n",
       "var gd = document.getElementById('4b7a25a8-2277-427c-aac2-139929e20e54');\n",
       "var x = new MutationObserver(function (mutations, observer) {{\n",
       "        var display = window.getComputedStyle(gd).display;\n",
       "        if (!display || display === 'none') {{\n",
       "            console.log([gd, 'removed!']);\n",
       "            Plotly.purge(gd);\n",
       "            observer.disconnect();\n",
       "        }}\n",
       "}});\n",
       "\n",
       "// Listen for the removal of the full notebook cells\n",
       "var notebookContainer = gd.closest('#notebook-container');\n",
       "if (notebookContainer) {{\n",
       "    x.observe(notebookContainer, {childList: true});\n",
       "}}\n",
       "\n",
       "// Listen for the clearing of the current output cell\n",
       "var outputEl = gd.closest('.output');\n",
       "if (outputEl) {{\n",
       "    x.observe(outputEl, {childList: true});\n",
       "}}\n",
       "\n",
       "                        })                };                });            </script>        </div>"
      ]
     },
     "metadata": {},
     "output_type": "display_data"
    }
   ],
   "source": [
    "fig = px.bar(devices_streaming_platforms, x=devices_streaming_platforms.index, y='Count')\n",
    "fig.show()"
   ]
  },
  {
   "cell_type": "code",
   "execution_count": 19,
   "id": "5aba5f70",
   "metadata": {},
   "outputs": [
    {
     "data": {
      "text/plain": [
       "array(['Greater variety and better content',\n",
       "       'Access to content at any time;Greater variety and better content',\n",
       "       'Access to content at any time;More freedom', 'Most convenient',\n",
       "       'Access to content at any time;Greater variety and better content;More freedom;Most convenient',\n",
       "       'Access to content at any time', 'More freedom',\n",
       "       'Access to content at any time;Greater variety and better content;More freedom',\n",
       "       'Access to content at any time;Greater variety and better content;Most convenient',\n",
       "       'More freedom;Most convenient',\n",
       "       'Access to content at any time;Most convenient',\n",
       "       'Access to content at any time;Greater variety and better content;More freedom;No advertisements',\n",
       "       'Greater variety and better content;Most convenient;Really specific content',\n",
       "       'Access to content at any time;More freedom;Most convenient',\n",
       "       'Greater variety and better content;More freedom;Most convenient',\n",
       "       \"I don't have a TV\",\n",
       "       'Greater variety and better content;Most convenient',\n",
       "       'Greater variety and better content;More freedom', 'Time to relax'],\n",
       "      dtype=object)"
      ]
     },
     "execution_count": 19,
     "metadata": {},
     "output_type": "execute_result"
    }
   ],
   "source": [
    "data['Q7'].unique()"
   ]
  },
  {
   "cell_type": "code",
   "execution_count": 179,
   "id": "521fcbfc",
   "metadata": {
    "scrolled": true
   },
   "outputs": [
    {
     "name": "stdout",
     "output_type": "stream",
     "text": [
      "main_reasons_streaming_platforms    Count\n",
      "Greater variety and better content     45\n",
      "Access to content at any time          57\n",
      "Time to relax                           1\n",
      "More freedom                           27\n",
      "Most convenient                        35\n",
      "No advertisements                       1\n",
      "I don't have a TV                       1\n",
      "Really specific content                 1\n"
     ]
    }
   ],
   "source": [
    "column_name = \"Q7\"\n",
    "words = [\"Greater variety and better content\", \"Access to content at any time\",\"Time to relax\", \"More freedom\", \"Most convenient\", \"No advertisements\",\"I don't have a TV\", \"Really specific content\"]\n",
    "counts = {word: 0 for word in words} \n",
    "\n",
    "for cell in data[column_name]:\n",
    "    if isinstance(cell, str): \n",
    "        cell = cell.lower()\n",
    "        for word in words: \n",
    "            if word.lower() in cell:\n",
    "                counts[word] += 1 \n",
    "\n",
    "main_reasons_streaming_platforms = pd.DataFrame.from_dict(counts, orient='index', columns=['Count'])\n",
    "main_reasons_streaming_platforms.columns.name = 'main_reasons_streaming_platforms'\n",
    "\n",
    "\n",
    "\n",
    "print(main_reasons_streaming_platforms)"
   ]
  },
  {
   "cell_type": "code",
   "execution_count": 160,
   "id": "190c8526",
   "metadata": {},
   "outputs": [],
   "source": [
    "main_reasons_streaming_platforms.to_csv('main_reasons_streaming_platforms.csv')"
   ]
  },
  {
   "cell_type": "code",
   "execution_count": 21,
   "id": "371a7d55",
   "metadata": {},
   "outputs": [
    {
     "data": {
      "text/plain": [
       "array(['Tablet;Television', 'Laptop/Desktop;Television', 'Television',\n",
       "       'Smartphone;Television', 'Smartphone', 'Laptop/Desktop',\n",
       "       'Smartphone;Tablet;Laptop/Desktop;Television',\n",
       "       'Tablet;Laptop/Desktop', 'Tablet', 'I do not watch movies'],\n",
       "      dtype=object)"
      ]
     },
     "execution_count": 21,
     "metadata": {},
     "output_type": "execute_result"
    }
   ],
   "source": [
    "data['Q8'].unique()"
   ]
  },
  {
   "cell_type": "code",
   "execution_count": 227,
   "id": "d28e5eb2",
   "metadata": {},
   "outputs": [
    {
     "name": "stdout",
     "output_type": "stream",
     "text": [
      "movies_devices         Count\n",
      "Tablet                     6\n",
      "Television                64\n",
      "Laptop/Desktop            26\n",
      "Smartphone                12\n",
      "I do not watch movies      3\n"
     ]
    }
   ],
   "source": [
    "column_name = \"Q8\"\n",
    "words = [\"Tablet\", \"Television\",\"Laptop/Desktop\", \"Smartphone\", \"I do not watch movies\"]\n",
    "counts = {word: 0 for word in words} \n",
    "\n",
    "for cell in data[column_name]:\n",
    "    if isinstance(cell, str): \n",
    "        cell = cell.lower()\n",
    "        for word in words: \n",
    "            if word.lower() in cell:\n",
    "                counts[word] += 1 \n",
    "\n",
    "movies_devices = pd.DataFrame.from_dict(counts, orient='index', columns=['Count'])\n",
    "movies_devices.columns.name = 'movies_devices'\n",
    "\n",
    "print(movies_devices)"
   ]
  },
  {
   "cell_type": "code",
   "execution_count": 23,
   "id": "5288d292",
   "metadata": {},
   "outputs": [
    {
     "data": {
      "text/plain": [
       "array(['Tablet;Television', 'Television', 'I do not watch sports',\n",
       "       'Laptop/Desktop;Television', 'Smartphone', 'Smartphone;Television',\n",
       "       'Laptop/Desktop', 'Smartphone;Tablet;Television'], dtype=object)"
      ]
     },
     "execution_count": 23,
     "metadata": {},
     "output_type": "execute_result"
    }
   ],
   "source": [
    "data['Q9'].unique()"
   ]
  },
  {
   "cell_type": "code",
   "execution_count": 228,
   "id": "b4b00f06",
   "metadata": {},
   "outputs": [
    {
     "name": "stdout",
     "output_type": "stream",
     "text": [
      "sports_devices         Count\n",
      "Tablet                     2\n",
      "Television                42\n",
      "Laptop/Desktop            11\n",
      "Smartphone                 6\n",
      "I do not watch sports     33\n"
     ]
    }
   ],
   "source": [
    "column_name = \"Q9\"\n",
    "words = [\"Tablet\", \"Television\",\"Laptop/Desktop\", \"Smartphone\", \"I do not watch sports\"]\n",
    "counts = {word: 0 for word in words} \n",
    "\n",
    "for cell in data[column_name]:\n",
    "    if isinstance(cell, str): \n",
    "        cell = cell.lower()\n",
    "        for word in words: \n",
    "            if word.lower() in cell:\n",
    "                counts[word] += 1 \n",
    "\n",
    "sports_devices = pd.DataFrame.from_dict(counts, orient='index', columns=['Count'])\n",
    "sports_devices.columns.name = 'sports_devices'\n",
    "\n",
    "\n",
    "print(sports_devices)"
   ]
  },
  {
   "cell_type": "code",
   "execution_count": 25,
   "id": "655bd9b8",
   "metadata": {},
   "outputs": [
    {
     "data": {
      "text/plain": [
       "array(['Football Matches', 'For the programming content',\n",
       "       'Live shows;Football Matches', \"I don't \",\n",
       "       'Larger variety of channels', 'N/a', 'News',\n",
       "       'For the programming content;Football Matches',\n",
       "       'Não tenho Netflix na cozinha', 'I don’t watch television ',\n",
       "       'For the programming content;Larger variety of channels',\n",
       "       \"I don't watch \",\n",
       "       'For the programming content;Live shows;I work in television',\n",
       "       'Best quality image', 'Live shows',\n",
       "       'For the programming content;Live shows;Football Matches',\n",
       "       'I dont watch tv ', 'Nothing',\n",
       "       'Larger variety of channels;Live shows;Football Matches',\n",
       "       'For the programming content;Larger variety of channels;Best quality image;Football Matches',\n",
       "       'missing_answer', 'Football Matches;News Channels',\n",
       "       'Football Matches;Political shows', 'news or random documentaries',\n",
       "       'For the programming content;Live shows',\n",
       "       'For the programming content;Best quality image', 'News ',\n",
       "       'I don’t watch tv for ten years, neither sport on tv',\n",
       "       'News, cooking shows'], dtype=object)"
      ]
     },
     "execution_count": 25,
     "metadata": {},
     "output_type": "execute_result"
    }
   ],
   "source": [
    "data['Q12'].unique()"
   ]
  },
  {
   "cell_type": "code",
   "execution_count": 229,
   "id": "4de9a295",
   "metadata": {},
   "outputs": [
    {
     "name": "stdout",
     "output_type": "stream",
     "text": [
      "main_reasons_tv              Count\n",
      "Football Matches                24\n",
      "For the programming content     26\n",
      "Live shows                      15\n",
      "Larger variety of channels      12\n",
      "News                             6\n",
      "Best quality image               4\n",
      "I dont watch tv                  1\n"
     ]
    }
   ],
   "source": [
    "column_name = \"Q12\"\n",
    "words = [\"Football Matches\", \"For the programming content\",\"Live shows\", \"Larger variety of channels\", \"News\", \"Best quality image\", \"I dont watch tv\"]\n",
    "counts = {word: 0 for word in words} \n",
    "\n",
    "for cell in data[column_name]:\n",
    "    if isinstance(cell, str): \n",
    "        cell = cell.lower()\n",
    "        for word in words: \n",
    "            if word.lower() in cell:\n",
    "                counts[word] += 1 \n",
    "\n",
    "main_reasons_tv = pd.DataFrame.from_dict(counts, orient='index', columns=['Count'])\n",
    "main_reasons_tv.columns.name = 'main_reasons_tv'\n",
    "\n",
    "\n",
    "print(main_reasons_tv)"
   ]
  },
  {
   "cell_type": "code",
   "execution_count": 27,
   "id": "27946ab9",
   "metadata": {},
   "outputs": [
    {
     "data": {
      "text/plain": [
       "array(['News;Sports', 'News;Soap Operas;Movies;Sports', 'News',\n",
       "       'News;Movies;Series;Programas de Entretenimento ', \"I don't \",\n",
       "       'News;Series', 'News;Series;Sports', 'N/a', 'Series;Sports',\n",
       "       'Movies;Series;Sports', 'Movies;Series;Sports;Animated Cartoons',\n",
       "       'News;Movies;Series', 'Movies;Series', 'Movies', 'Series',\n",
       "       'News;Series;Animated Cartoons', 'News;Movies;Entertainment ',\n",
       "       'None', 'Movies;Series;Animated Cartoons', \"I don't watch \",\n",
       "       'News;Movies;Animated Cartoons;Daytime programs',\n",
       "       'News;Movies;Series;Sports;Animated Cartoons', 'Movies;Sports',\n",
       "       'News;Movies;Series;Music', 'News;Series;Sports;Music',\n",
       "       'Animated Cartoons', 'Movies;Series;Music;Animated Cartoons',\n",
       "       'Sports', 'News;Sports;Animated Cartoons', 'Nothing ',\n",
       "       'Soap Operas;Series;', 'News;Movies;Sports', 'missing_answer',\n",
       "       'News;documentaries', 'News;Movies;Series;Music;Animated Cartoons',\n",
       "       'News;Movies;Series;Sports;Music', 'News;Movies;Music', 'Drama',\n",
       "       'News;Movies'], dtype=object)"
      ]
     },
     "execution_count": 27,
     "metadata": {},
     "output_type": "execute_result"
    }
   ],
   "source": [
    "data['Q13'].unique()"
   ]
  },
  {
   "cell_type": "code",
   "execution_count": 230,
   "id": "31f6fd58",
   "metadata": {},
   "outputs": [
    {
     "name": "stdout",
     "output_type": "stream",
     "text": [
      "content_tv         Count\n",
      "News                  46\n",
      "Sports                28\n",
      "Live shows             0\n",
      "Soap Operas            2\n",
      "Movies                30\n",
      "Series                31\n",
      "Music                  7\n",
      "Animated Cartoons     10\n",
      "Daytime programs       1\n"
     ]
    }
   ],
   "source": [
    "column_name = \"Q13\"\n",
    "words = [\"News\", \"Sports\",\"Live shows\", \"Soap Operas\", \"Movies\", \"Series\", \"Music\", \"Animated Cartoons\", \"Daytime programs\"]\n",
    "counts = {word: 0 for word in words} \n",
    "\n",
    "for cell in data[column_name]:\n",
    "    if isinstance(cell, str): \n",
    "        cell = cell.lower()\n",
    "        for word in words: \n",
    "            if word.lower() in cell:\n",
    "                counts[word] += 1 \n",
    "\n",
    "content_tv = pd.DataFrame.from_dict(counts, orient='index', columns=['Count'])\n",
    "content_tv.columns.name = 'content_tv'\n",
    "\n",
    "\n",
    "print(content_tv)"
   ]
  },
  {
   "cell_type": "code",
   "execution_count": 29,
   "id": "e6d75613",
   "metadata": {},
   "outputs": [
    {
     "data": {
      "text/plain": [
       "array(['Watching videos on your smartphone;Watching Netflix or other streaming platform',\n",
       "       'Watching Netflix or other streaming platform',\n",
       "       'Watching television;Watching videos on your smartphone',\n",
       "       'Watching television',\n",
       "       'Turn on the Laptop/Desktop;Watching Netflix or other streaming platform',\n",
       "       'Turn on the Laptop/Desktop;Watching videos on your smartphone;Watching Netflix or other streaming platform;Play video Games',\n",
       "       'Turn on the Laptop/Desktop;Watching videos on your smartphone;Play video Games',\n",
       "       'Play video Games', 'Watching videos on your smartphone',\n",
       "       'Listen to music ', 'Turn on the Laptop/Desktop;Play video Games',\n",
       "       'Cook',\n",
       "       'Watching videos on your smartphone;Watching Netflix or other streaming platform;Play video Games',\n",
       "       'Watching television;Watching Netflix or other streaming platform',\n",
       "       'Read', 'Turn on the Laptop/Desktop', 'Na', 'Reading ',\n",
       "       'Listen to the radio',\n",
       "       'Watching Netflix or other streaming platform;Play video Games',\n",
       "       'Watching television;Play video Games',\n",
       "       'Watching television;Turn on the Laptop/Desktop;Watching Netflix or other streaming platform',\n",
       "       'Not thinking ',\n",
       "       'Turn on the Laptop/Desktop;Watching videos on your smartphone',\n",
       "       'Housework'], dtype=object)"
      ]
     },
     "execution_count": 29,
     "metadata": {},
     "output_type": "execute_result"
    }
   ],
   "source": [
    "data[\"Q14\"].unique()"
   ]
  },
  {
   "cell_type": "code",
   "execution_count": 193,
   "id": "c83f0522",
   "metadata": {},
   "outputs": [
    {
     "name": "stdout",
     "output_type": "stream",
     "text": [
      "habits                                        Count\n",
      "Watching videos on your smartphone               17\n",
      "Watching Netflix or other streaming platform     27\n",
      "Play video Games                                 15\n",
      "Turn on the Laptop/Desktop                       28\n",
      "Watching television                              24\n",
      "Listen to music                                   1\n",
      "Cook                                              1\n",
      "Music                                             1\n",
      "Read                                              2\n"
     ]
    }
   ],
   "source": [
    "column_name = \"Q14\"\n",
    "words = [\"Watching videos on your smartphone\", \"Watching Netflix or other streaming platform\",\"Play video Games\", \"Turn on the Laptop/Desktop\", \"Watching television\", \"Listen to music\", \"Cook\", \"Music\", \"Read\"]\n",
    "counts = {word: 0 for word in words} \n",
    "\n",
    "\n",
    "for cell in data[column_name]:\n",
    "    if isinstance(cell, str): \n",
    "        cell = cell.lower()\n",
    "        for word in words: \n",
    "            if word.lower() in cell:\n",
    "                counts[word] += 1 \n",
    "                \n",
    "\n",
    "habits = pd.DataFrame.from_dict(counts, orient='index', columns=['Count'])\n",
    "habits.columns.name = 'habits'\n",
    "\n",
    "\n",
    "print(habits)"
   ]
  },
  {
   "cell_type": "code",
   "execution_count": 207,
   "id": "a58daff0",
   "metadata": {},
   "outputs": [],
   "source": [
    "habits.to_csv('habits.csv')"
   ]
  },
  {
   "cell_type": "code",
   "execution_count": 201,
   "id": "92776af6",
   "metadata": {},
   "outputs": [
    {
     "data": {
      "application/vnd.plotly.v1+json": {
       "config": {
        "plotlyServerURL": "https://plot.ly"
       },
       "data": [
        {
         "alignmentgroup": "True",
         "hovertemplate": "index=%{x}<br>Count=%{y}<extra></extra>",
         "legendgroup": "",
         "marker": {
          "color": "#636efa",
          "pattern": {
           "shape": ""
          }
         },
         "name": "",
         "offsetgroup": "",
         "orientation": "v",
         "showlegend": false,
         "textposition": "auto",
         "type": "bar",
         "x": [
          "Watching videos on your smartphone",
          "Watching Netflix or other streaming platform",
          "Play video Games",
          "Turn on the Laptop/Desktop",
          "Watching television",
          "Listen to music",
          "Cook",
          "Music",
          "Read"
         ],
         "xaxis": "x",
         "y": [
          17,
          27,
          15,
          28,
          24,
          1,
          1,
          1,
          2
         ],
         "yaxis": "y"
        }
       ],
       "layout": {
        "barmode": "relative",
        "legend": {
         "tracegroupgap": 0
        },
        "margin": {
         "t": 60
        },
        "template": {
         "data": {
          "bar": [
           {
            "error_x": {
             "color": "#2a3f5f"
            },
            "error_y": {
             "color": "#2a3f5f"
            },
            "marker": {
             "line": {
              "color": "#E5ECF6",
              "width": 0.5
             },
             "pattern": {
              "fillmode": "overlay",
              "size": 10,
              "solidity": 0.2
             }
            },
            "type": "bar"
           }
          ],
          "barpolar": [
           {
            "marker": {
             "line": {
              "color": "#E5ECF6",
              "width": 0.5
             },
             "pattern": {
              "fillmode": "overlay",
              "size": 10,
              "solidity": 0.2
             }
            },
            "type": "barpolar"
           }
          ],
          "carpet": [
           {
            "aaxis": {
             "endlinecolor": "#2a3f5f",
             "gridcolor": "white",
             "linecolor": "white",
             "minorgridcolor": "white",
             "startlinecolor": "#2a3f5f"
            },
            "baxis": {
             "endlinecolor": "#2a3f5f",
             "gridcolor": "white",
             "linecolor": "white",
             "minorgridcolor": "white",
             "startlinecolor": "#2a3f5f"
            },
            "type": "carpet"
           }
          ],
          "choropleth": [
           {
            "colorbar": {
             "outlinewidth": 0,
             "ticks": ""
            },
            "type": "choropleth"
           }
          ],
          "contour": [
           {
            "colorbar": {
             "outlinewidth": 0,
             "ticks": ""
            },
            "colorscale": [
             [
              0,
              "#0d0887"
             ],
             [
              0.1111111111111111,
              "#46039f"
             ],
             [
              0.2222222222222222,
              "#7201a8"
             ],
             [
              0.3333333333333333,
              "#9c179e"
             ],
             [
              0.4444444444444444,
              "#bd3786"
             ],
             [
              0.5555555555555556,
              "#d8576b"
             ],
             [
              0.6666666666666666,
              "#ed7953"
             ],
             [
              0.7777777777777778,
              "#fb9f3a"
             ],
             [
              0.8888888888888888,
              "#fdca26"
             ],
             [
              1,
              "#f0f921"
             ]
            ],
            "type": "contour"
           }
          ],
          "contourcarpet": [
           {
            "colorbar": {
             "outlinewidth": 0,
             "ticks": ""
            },
            "type": "contourcarpet"
           }
          ],
          "heatmap": [
           {
            "colorbar": {
             "outlinewidth": 0,
             "ticks": ""
            },
            "colorscale": [
             [
              0,
              "#0d0887"
             ],
             [
              0.1111111111111111,
              "#46039f"
             ],
             [
              0.2222222222222222,
              "#7201a8"
             ],
             [
              0.3333333333333333,
              "#9c179e"
             ],
             [
              0.4444444444444444,
              "#bd3786"
             ],
             [
              0.5555555555555556,
              "#d8576b"
             ],
             [
              0.6666666666666666,
              "#ed7953"
             ],
             [
              0.7777777777777778,
              "#fb9f3a"
             ],
             [
              0.8888888888888888,
              "#fdca26"
             ],
             [
              1,
              "#f0f921"
             ]
            ],
            "type": "heatmap"
           }
          ],
          "heatmapgl": [
           {
            "colorbar": {
             "outlinewidth": 0,
             "ticks": ""
            },
            "colorscale": [
             [
              0,
              "#0d0887"
             ],
             [
              0.1111111111111111,
              "#46039f"
             ],
             [
              0.2222222222222222,
              "#7201a8"
             ],
             [
              0.3333333333333333,
              "#9c179e"
             ],
             [
              0.4444444444444444,
              "#bd3786"
             ],
             [
              0.5555555555555556,
              "#d8576b"
             ],
             [
              0.6666666666666666,
              "#ed7953"
             ],
             [
              0.7777777777777778,
              "#fb9f3a"
             ],
             [
              0.8888888888888888,
              "#fdca26"
             ],
             [
              1,
              "#f0f921"
             ]
            ],
            "type": "heatmapgl"
           }
          ],
          "histogram": [
           {
            "marker": {
             "pattern": {
              "fillmode": "overlay",
              "size": 10,
              "solidity": 0.2
             }
            },
            "type": "histogram"
           }
          ],
          "histogram2d": [
           {
            "colorbar": {
             "outlinewidth": 0,
             "ticks": ""
            },
            "colorscale": [
             [
              0,
              "#0d0887"
             ],
             [
              0.1111111111111111,
              "#46039f"
             ],
             [
              0.2222222222222222,
              "#7201a8"
             ],
             [
              0.3333333333333333,
              "#9c179e"
             ],
             [
              0.4444444444444444,
              "#bd3786"
             ],
             [
              0.5555555555555556,
              "#d8576b"
             ],
             [
              0.6666666666666666,
              "#ed7953"
             ],
             [
              0.7777777777777778,
              "#fb9f3a"
             ],
             [
              0.8888888888888888,
              "#fdca26"
             ],
             [
              1,
              "#f0f921"
             ]
            ],
            "type": "histogram2d"
           }
          ],
          "histogram2dcontour": [
           {
            "colorbar": {
             "outlinewidth": 0,
             "ticks": ""
            },
            "colorscale": [
             [
              0,
              "#0d0887"
             ],
             [
              0.1111111111111111,
              "#46039f"
             ],
             [
              0.2222222222222222,
              "#7201a8"
             ],
             [
              0.3333333333333333,
              "#9c179e"
             ],
             [
              0.4444444444444444,
              "#bd3786"
             ],
             [
              0.5555555555555556,
              "#d8576b"
             ],
             [
              0.6666666666666666,
              "#ed7953"
             ],
             [
              0.7777777777777778,
              "#fb9f3a"
             ],
             [
              0.8888888888888888,
              "#fdca26"
             ],
             [
              1,
              "#f0f921"
             ]
            ],
            "type": "histogram2dcontour"
           }
          ],
          "mesh3d": [
           {
            "colorbar": {
             "outlinewidth": 0,
             "ticks": ""
            },
            "type": "mesh3d"
           }
          ],
          "parcoords": [
           {
            "line": {
             "colorbar": {
              "outlinewidth": 0,
              "ticks": ""
             }
            },
            "type": "parcoords"
           }
          ],
          "pie": [
           {
            "automargin": true,
            "type": "pie"
           }
          ],
          "scatter": [
           {
            "fillpattern": {
             "fillmode": "overlay",
             "size": 10,
             "solidity": 0.2
            },
            "type": "scatter"
           }
          ],
          "scatter3d": [
           {
            "line": {
             "colorbar": {
              "outlinewidth": 0,
              "ticks": ""
             }
            },
            "marker": {
             "colorbar": {
              "outlinewidth": 0,
              "ticks": ""
             }
            },
            "type": "scatter3d"
           }
          ],
          "scattercarpet": [
           {
            "marker": {
             "colorbar": {
              "outlinewidth": 0,
              "ticks": ""
             }
            },
            "type": "scattercarpet"
           }
          ],
          "scattergeo": [
           {
            "marker": {
             "colorbar": {
              "outlinewidth": 0,
              "ticks": ""
             }
            },
            "type": "scattergeo"
           }
          ],
          "scattergl": [
           {
            "marker": {
             "colorbar": {
              "outlinewidth": 0,
              "ticks": ""
             }
            },
            "type": "scattergl"
           }
          ],
          "scattermapbox": [
           {
            "marker": {
             "colorbar": {
              "outlinewidth": 0,
              "ticks": ""
             }
            },
            "type": "scattermapbox"
           }
          ],
          "scatterpolar": [
           {
            "marker": {
             "colorbar": {
              "outlinewidth": 0,
              "ticks": ""
             }
            },
            "type": "scatterpolar"
           }
          ],
          "scatterpolargl": [
           {
            "marker": {
             "colorbar": {
              "outlinewidth": 0,
              "ticks": ""
             }
            },
            "type": "scatterpolargl"
           }
          ],
          "scatterternary": [
           {
            "marker": {
             "colorbar": {
              "outlinewidth": 0,
              "ticks": ""
             }
            },
            "type": "scatterternary"
           }
          ],
          "surface": [
           {
            "colorbar": {
             "outlinewidth": 0,
             "ticks": ""
            },
            "colorscale": [
             [
              0,
              "#0d0887"
             ],
             [
              0.1111111111111111,
              "#46039f"
             ],
             [
              0.2222222222222222,
              "#7201a8"
             ],
             [
              0.3333333333333333,
              "#9c179e"
             ],
             [
              0.4444444444444444,
              "#bd3786"
             ],
             [
              0.5555555555555556,
              "#d8576b"
             ],
             [
              0.6666666666666666,
              "#ed7953"
             ],
             [
              0.7777777777777778,
              "#fb9f3a"
             ],
             [
              0.8888888888888888,
              "#fdca26"
             ],
             [
              1,
              "#f0f921"
             ]
            ],
            "type": "surface"
           }
          ],
          "table": [
           {
            "cells": {
             "fill": {
              "color": "#EBF0F8"
             },
             "line": {
              "color": "white"
             }
            },
            "header": {
             "fill": {
              "color": "#C8D4E3"
             },
             "line": {
              "color": "white"
             }
            },
            "type": "table"
           }
          ]
         },
         "layout": {
          "annotationdefaults": {
           "arrowcolor": "#2a3f5f",
           "arrowhead": 0,
           "arrowwidth": 1
          },
          "autotypenumbers": "strict",
          "coloraxis": {
           "colorbar": {
            "outlinewidth": 0,
            "ticks": ""
           }
          },
          "colorscale": {
           "diverging": [
            [
             0,
             "#8e0152"
            ],
            [
             0.1,
             "#c51b7d"
            ],
            [
             0.2,
             "#de77ae"
            ],
            [
             0.3,
             "#f1b6da"
            ],
            [
             0.4,
             "#fde0ef"
            ],
            [
             0.5,
             "#f7f7f7"
            ],
            [
             0.6,
             "#e6f5d0"
            ],
            [
             0.7,
             "#b8e186"
            ],
            [
             0.8,
             "#7fbc41"
            ],
            [
             0.9,
             "#4d9221"
            ],
            [
             1,
             "#276419"
            ]
           ],
           "sequential": [
            [
             0,
             "#0d0887"
            ],
            [
             0.1111111111111111,
             "#46039f"
            ],
            [
             0.2222222222222222,
             "#7201a8"
            ],
            [
             0.3333333333333333,
             "#9c179e"
            ],
            [
             0.4444444444444444,
             "#bd3786"
            ],
            [
             0.5555555555555556,
             "#d8576b"
            ],
            [
             0.6666666666666666,
             "#ed7953"
            ],
            [
             0.7777777777777778,
             "#fb9f3a"
            ],
            [
             0.8888888888888888,
             "#fdca26"
            ],
            [
             1,
             "#f0f921"
            ]
           ],
           "sequentialminus": [
            [
             0,
             "#0d0887"
            ],
            [
             0.1111111111111111,
             "#46039f"
            ],
            [
             0.2222222222222222,
             "#7201a8"
            ],
            [
             0.3333333333333333,
             "#9c179e"
            ],
            [
             0.4444444444444444,
             "#bd3786"
            ],
            [
             0.5555555555555556,
             "#d8576b"
            ],
            [
             0.6666666666666666,
             "#ed7953"
            ],
            [
             0.7777777777777778,
             "#fb9f3a"
            ],
            [
             0.8888888888888888,
             "#fdca26"
            ],
            [
             1,
             "#f0f921"
            ]
           ]
          },
          "colorway": [
           "#636efa",
           "#EF553B",
           "#00cc96",
           "#ab63fa",
           "#FFA15A",
           "#19d3f3",
           "#FF6692",
           "#B6E880",
           "#FF97FF",
           "#FECB52"
          ],
          "font": {
           "color": "#2a3f5f"
          },
          "geo": {
           "bgcolor": "white",
           "lakecolor": "white",
           "landcolor": "#E5ECF6",
           "showlakes": true,
           "showland": true,
           "subunitcolor": "white"
          },
          "hoverlabel": {
           "align": "left"
          },
          "hovermode": "closest",
          "mapbox": {
           "style": "light"
          },
          "paper_bgcolor": "white",
          "plot_bgcolor": "#E5ECF6",
          "polar": {
           "angularaxis": {
            "gridcolor": "white",
            "linecolor": "white",
            "ticks": ""
           },
           "bgcolor": "#E5ECF6",
           "radialaxis": {
            "gridcolor": "white",
            "linecolor": "white",
            "ticks": ""
           }
          },
          "scene": {
           "xaxis": {
            "backgroundcolor": "#E5ECF6",
            "gridcolor": "white",
            "gridwidth": 2,
            "linecolor": "white",
            "showbackground": true,
            "ticks": "",
            "zerolinecolor": "white"
           },
           "yaxis": {
            "backgroundcolor": "#E5ECF6",
            "gridcolor": "white",
            "gridwidth": 2,
            "linecolor": "white",
            "showbackground": true,
            "ticks": "",
            "zerolinecolor": "white"
           },
           "zaxis": {
            "backgroundcolor": "#E5ECF6",
            "gridcolor": "white",
            "gridwidth": 2,
            "linecolor": "white",
            "showbackground": true,
            "ticks": "",
            "zerolinecolor": "white"
           }
          },
          "shapedefaults": {
           "line": {
            "color": "#2a3f5f"
           }
          },
          "ternary": {
           "aaxis": {
            "gridcolor": "white",
            "linecolor": "white",
            "ticks": ""
           },
           "baxis": {
            "gridcolor": "white",
            "linecolor": "white",
            "ticks": ""
           },
           "bgcolor": "#E5ECF6",
           "caxis": {
            "gridcolor": "white",
            "linecolor": "white",
            "ticks": ""
           }
          },
          "title": {
           "x": 0.05
          },
          "xaxis": {
           "automargin": true,
           "gridcolor": "white",
           "linecolor": "white",
           "ticks": "",
           "title": {
            "standoff": 15
           },
           "zerolinecolor": "white",
           "zerolinewidth": 2
          },
          "yaxis": {
           "automargin": true,
           "gridcolor": "white",
           "linecolor": "white",
           "ticks": "",
           "title": {
            "standoff": 15
           },
           "zerolinecolor": "white",
           "zerolinewidth": 2
          }
         }
        },
        "xaxis": {
         "anchor": "y",
         "domain": [
          0,
          1
         ],
         "title": {
          "text": "index"
         }
        },
        "yaxis": {
         "anchor": "x",
         "domain": [
          0,
          1
         ],
         "title": {
          "text": "Count"
         }
        }
       }
      },
      "text/html": [
       "<div>                            <div id=\"0cdcc33b-769c-448d-9642-8c9030c7ef27\" class=\"plotly-graph-div\" style=\"height:525px; width:100%;\"></div>            <script type=\"text/javascript\">                require([\"plotly\"], function(Plotly) {                    window.PLOTLYENV=window.PLOTLYENV || {};                                    if (document.getElementById(\"0cdcc33b-769c-448d-9642-8c9030c7ef27\")) {                    Plotly.newPlot(                        \"0cdcc33b-769c-448d-9642-8c9030c7ef27\",                        [{\"alignmentgroup\":\"True\",\"hovertemplate\":\"index=%{x}<br>Count=%{y}<extra></extra>\",\"legendgroup\":\"\",\"marker\":{\"color\":\"#636efa\",\"pattern\":{\"shape\":\"\"}},\"name\":\"\",\"offsetgroup\":\"\",\"orientation\":\"v\",\"showlegend\":false,\"textposition\":\"auto\",\"x\":[\"Watching videos on your smartphone\",\"Watching Netflix or other streaming platform\",\"Play video Games\",\"Turn on the Laptop/Desktop\",\"Watching television\",\"Listen to music\",\"Cook\",\"Music\",\"Read\"],\"xaxis\":\"x\",\"y\":[17,27,15,28,24,1,1,1,2],\"yaxis\":\"y\",\"type\":\"bar\"}],                        {\"template\":{\"data\":{\"histogram2dcontour\":[{\"type\":\"histogram2dcontour\",\"colorbar\":{\"outlinewidth\":0,\"ticks\":\"\"},\"colorscale\":[[0.0,\"#0d0887\"],[0.1111111111111111,\"#46039f\"],[0.2222222222222222,\"#7201a8\"],[0.3333333333333333,\"#9c179e\"],[0.4444444444444444,\"#bd3786\"],[0.5555555555555556,\"#d8576b\"],[0.6666666666666666,\"#ed7953\"],[0.7777777777777778,\"#fb9f3a\"],[0.8888888888888888,\"#fdca26\"],[1.0,\"#f0f921\"]]}],\"choropleth\":[{\"type\":\"choropleth\",\"colorbar\":{\"outlinewidth\":0,\"ticks\":\"\"}}],\"histogram2d\":[{\"type\":\"histogram2d\",\"colorbar\":{\"outlinewidth\":0,\"ticks\":\"\"},\"colorscale\":[[0.0,\"#0d0887\"],[0.1111111111111111,\"#46039f\"],[0.2222222222222222,\"#7201a8\"],[0.3333333333333333,\"#9c179e\"],[0.4444444444444444,\"#bd3786\"],[0.5555555555555556,\"#d8576b\"],[0.6666666666666666,\"#ed7953\"],[0.7777777777777778,\"#fb9f3a\"],[0.8888888888888888,\"#fdca26\"],[1.0,\"#f0f921\"]]}],\"heatmap\":[{\"type\":\"heatmap\",\"colorbar\":{\"outlinewidth\":0,\"ticks\":\"\"},\"colorscale\":[[0.0,\"#0d0887\"],[0.1111111111111111,\"#46039f\"],[0.2222222222222222,\"#7201a8\"],[0.3333333333333333,\"#9c179e\"],[0.4444444444444444,\"#bd3786\"],[0.5555555555555556,\"#d8576b\"],[0.6666666666666666,\"#ed7953\"],[0.7777777777777778,\"#fb9f3a\"],[0.8888888888888888,\"#fdca26\"],[1.0,\"#f0f921\"]]}],\"heatmapgl\":[{\"type\":\"heatmapgl\",\"colorbar\":{\"outlinewidth\":0,\"ticks\":\"\"},\"colorscale\":[[0.0,\"#0d0887\"],[0.1111111111111111,\"#46039f\"],[0.2222222222222222,\"#7201a8\"],[0.3333333333333333,\"#9c179e\"],[0.4444444444444444,\"#bd3786\"],[0.5555555555555556,\"#d8576b\"],[0.6666666666666666,\"#ed7953\"],[0.7777777777777778,\"#fb9f3a\"],[0.8888888888888888,\"#fdca26\"],[1.0,\"#f0f921\"]]}],\"contourcarpet\":[{\"type\":\"contourcarpet\",\"colorbar\":{\"outlinewidth\":0,\"ticks\":\"\"}}],\"contour\":[{\"type\":\"contour\",\"colorbar\":{\"outlinewidth\":0,\"ticks\":\"\"},\"colorscale\":[[0.0,\"#0d0887\"],[0.1111111111111111,\"#46039f\"],[0.2222222222222222,\"#7201a8\"],[0.3333333333333333,\"#9c179e\"],[0.4444444444444444,\"#bd3786\"],[0.5555555555555556,\"#d8576b\"],[0.6666666666666666,\"#ed7953\"],[0.7777777777777778,\"#fb9f3a\"],[0.8888888888888888,\"#fdca26\"],[1.0,\"#f0f921\"]]}],\"surface\":[{\"type\":\"surface\",\"colorbar\":{\"outlinewidth\":0,\"ticks\":\"\"},\"colorscale\":[[0.0,\"#0d0887\"],[0.1111111111111111,\"#46039f\"],[0.2222222222222222,\"#7201a8\"],[0.3333333333333333,\"#9c179e\"],[0.4444444444444444,\"#bd3786\"],[0.5555555555555556,\"#d8576b\"],[0.6666666666666666,\"#ed7953\"],[0.7777777777777778,\"#fb9f3a\"],[0.8888888888888888,\"#fdca26\"],[1.0,\"#f0f921\"]]}],\"mesh3d\":[{\"type\":\"mesh3d\",\"colorbar\":{\"outlinewidth\":0,\"ticks\":\"\"}}],\"scatter\":[{\"fillpattern\":{\"fillmode\":\"overlay\",\"size\":10,\"solidity\":0.2},\"type\":\"scatter\"}],\"parcoords\":[{\"type\":\"parcoords\",\"line\":{\"colorbar\":{\"outlinewidth\":0,\"ticks\":\"\"}}}],\"scatterpolargl\":[{\"type\":\"scatterpolargl\",\"marker\":{\"colorbar\":{\"outlinewidth\":0,\"ticks\":\"\"}}}],\"bar\":[{\"error_x\":{\"color\":\"#2a3f5f\"},\"error_y\":{\"color\":\"#2a3f5f\"},\"marker\":{\"line\":{\"color\":\"#E5ECF6\",\"width\":0.5},\"pattern\":{\"fillmode\":\"overlay\",\"size\":10,\"solidity\":0.2}},\"type\":\"bar\"}],\"scattergeo\":[{\"type\":\"scattergeo\",\"marker\":{\"colorbar\":{\"outlinewidth\":0,\"ticks\":\"\"}}}],\"scatterpolar\":[{\"type\":\"scatterpolar\",\"marker\":{\"colorbar\":{\"outlinewidth\":0,\"ticks\":\"\"}}}],\"histogram\":[{\"marker\":{\"pattern\":{\"fillmode\":\"overlay\",\"size\":10,\"solidity\":0.2}},\"type\":\"histogram\"}],\"scattergl\":[{\"type\":\"scattergl\",\"marker\":{\"colorbar\":{\"outlinewidth\":0,\"ticks\":\"\"}}}],\"scatter3d\":[{\"type\":\"scatter3d\",\"line\":{\"colorbar\":{\"outlinewidth\":0,\"ticks\":\"\"}},\"marker\":{\"colorbar\":{\"outlinewidth\":0,\"ticks\":\"\"}}}],\"scattermapbox\":[{\"type\":\"scattermapbox\",\"marker\":{\"colorbar\":{\"outlinewidth\":0,\"ticks\":\"\"}}}],\"scatterternary\":[{\"type\":\"scatterternary\",\"marker\":{\"colorbar\":{\"outlinewidth\":0,\"ticks\":\"\"}}}],\"scattercarpet\":[{\"type\":\"scattercarpet\",\"marker\":{\"colorbar\":{\"outlinewidth\":0,\"ticks\":\"\"}}}],\"carpet\":[{\"aaxis\":{\"endlinecolor\":\"#2a3f5f\",\"gridcolor\":\"white\",\"linecolor\":\"white\",\"minorgridcolor\":\"white\",\"startlinecolor\":\"#2a3f5f\"},\"baxis\":{\"endlinecolor\":\"#2a3f5f\",\"gridcolor\":\"white\",\"linecolor\":\"white\",\"minorgridcolor\":\"white\",\"startlinecolor\":\"#2a3f5f\"},\"type\":\"carpet\"}],\"table\":[{\"cells\":{\"fill\":{\"color\":\"#EBF0F8\"},\"line\":{\"color\":\"white\"}},\"header\":{\"fill\":{\"color\":\"#C8D4E3\"},\"line\":{\"color\":\"white\"}},\"type\":\"table\"}],\"barpolar\":[{\"marker\":{\"line\":{\"color\":\"#E5ECF6\",\"width\":0.5},\"pattern\":{\"fillmode\":\"overlay\",\"size\":10,\"solidity\":0.2}},\"type\":\"barpolar\"}],\"pie\":[{\"automargin\":true,\"type\":\"pie\"}]},\"layout\":{\"autotypenumbers\":\"strict\",\"colorway\":[\"#636efa\",\"#EF553B\",\"#00cc96\",\"#ab63fa\",\"#FFA15A\",\"#19d3f3\",\"#FF6692\",\"#B6E880\",\"#FF97FF\",\"#FECB52\"],\"font\":{\"color\":\"#2a3f5f\"},\"hovermode\":\"closest\",\"hoverlabel\":{\"align\":\"left\"},\"paper_bgcolor\":\"white\",\"plot_bgcolor\":\"#E5ECF6\",\"polar\":{\"bgcolor\":\"#E5ECF6\",\"angularaxis\":{\"gridcolor\":\"white\",\"linecolor\":\"white\",\"ticks\":\"\"},\"radialaxis\":{\"gridcolor\":\"white\",\"linecolor\":\"white\",\"ticks\":\"\"}},\"ternary\":{\"bgcolor\":\"#E5ECF6\",\"aaxis\":{\"gridcolor\":\"white\",\"linecolor\":\"white\",\"ticks\":\"\"},\"baxis\":{\"gridcolor\":\"white\",\"linecolor\":\"white\",\"ticks\":\"\"},\"caxis\":{\"gridcolor\":\"white\",\"linecolor\":\"white\",\"ticks\":\"\"}},\"coloraxis\":{\"colorbar\":{\"outlinewidth\":0,\"ticks\":\"\"}},\"colorscale\":{\"sequential\":[[0.0,\"#0d0887\"],[0.1111111111111111,\"#46039f\"],[0.2222222222222222,\"#7201a8\"],[0.3333333333333333,\"#9c179e\"],[0.4444444444444444,\"#bd3786\"],[0.5555555555555556,\"#d8576b\"],[0.6666666666666666,\"#ed7953\"],[0.7777777777777778,\"#fb9f3a\"],[0.8888888888888888,\"#fdca26\"],[1.0,\"#f0f921\"]],\"sequentialminus\":[[0.0,\"#0d0887\"],[0.1111111111111111,\"#46039f\"],[0.2222222222222222,\"#7201a8\"],[0.3333333333333333,\"#9c179e\"],[0.4444444444444444,\"#bd3786\"],[0.5555555555555556,\"#d8576b\"],[0.6666666666666666,\"#ed7953\"],[0.7777777777777778,\"#fb9f3a\"],[0.8888888888888888,\"#fdca26\"],[1.0,\"#f0f921\"]],\"diverging\":[[0,\"#8e0152\"],[0.1,\"#c51b7d\"],[0.2,\"#de77ae\"],[0.3,\"#f1b6da\"],[0.4,\"#fde0ef\"],[0.5,\"#f7f7f7\"],[0.6,\"#e6f5d0\"],[0.7,\"#b8e186\"],[0.8,\"#7fbc41\"],[0.9,\"#4d9221\"],[1,\"#276419\"]]},\"xaxis\":{\"gridcolor\":\"white\",\"linecolor\":\"white\",\"ticks\":\"\",\"title\":{\"standoff\":15},\"zerolinecolor\":\"white\",\"automargin\":true,\"zerolinewidth\":2},\"yaxis\":{\"gridcolor\":\"white\",\"linecolor\":\"white\",\"ticks\":\"\",\"title\":{\"standoff\":15},\"zerolinecolor\":\"white\",\"automargin\":true,\"zerolinewidth\":2},\"scene\":{\"xaxis\":{\"backgroundcolor\":\"#E5ECF6\",\"gridcolor\":\"white\",\"linecolor\":\"white\",\"showbackground\":true,\"ticks\":\"\",\"zerolinecolor\":\"white\",\"gridwidth\":2},\"yaxis\":{\"backgroundcolor\":\"#E5ECF6\",\"gridcolor\":\"white\",\"linecolor\":\"white\",\"showbackground\":true,\"ticks\":\"\",\"zerolinecolor\":\"white\",\"gridwidth\":2},\"zaxis\":{\"backgroundcolor\":\"#E5ECF6\",\"gridcolor\":\"white\",\"linecolor\":\"white\",\"showbackground\":true,\"ticks\":\"\",\"zerolinecolor\":\"white\",\"gridwidth\":2}},\"shapedefaults\":{\"line\":{\"color\":\"#2a3f5f\"}},\"annotationdefaults\":{\"arrowcolor\":\"#2a3f5f\",\"arrowhead\":0,\"arrowwidth\":1},\"geo\":{\"bgcolor\":\"white\",\"landcolor\":\"#E5ECF6\",\"subunitcolor\":\"white\",\"showland\":true,\"showlakes\":true,\"lakecolor\":\"white\"},\"title\":{\"x\":0.05},\"mapbox\":{\"style\":\"light\"}}},\"xaxis\":{\"anchor\":\"y\",\"domain\":[0.0,1.0],\"title\":{\"text\":\"index\"}},\"yaxis\":{\"anchor\":\"x\",\"domain\":[0.0,1.0],\"title\":{\"text\":\"Count\"}},\"legend\":{\"tracegroupgap\":0},\"margin\":{\"t\":60},\"barmode\":\"relative\"},                        {\"responsive\": true}                    ).then(function(){\n",
       "                            \n",
       "var gd = document.getElementById('0cdcc33b-769c-448d-9642-8c9030c7ef27');\n",
       "var x = new MutationObserver(function (mutations, observer) {{\n",
       "        var display = window.getComputedStyle(gd).display;\n",
       "        if (!display || display === 'none') {{\n",
       "            console.log([gd, 'removed!']);\n",
       "            Plotly.purge(gd);\n",
       "            observer.disconnect();\n",
       "        }}\n",
       "}});\n",
       "\n",
       "// Listen for the removal of the full notebook cells\n",
       "var notebookContainer = gd.closest('#notebook-container');\n",
       "if (notebookContainer) {{\n",
       "    x.observe(notebookContainer, {childList: true});\n",
       "}}\n",
       "\n",
       "// Listen for the clearing of the current output cell\n",
       "var outputEl = gd.closest('.output');\n",
       "if (outputEl) {{\n",
       "    x.observe(outputEl, {childList: true});\n",
       "}}\n",
       "\n",
       "                        })                };                });            </script>        </div>"
      ]
     },
     "metadata": {},
     "output_type": "display_data"
    }
   ],
   "source": [
    "fig = px.bar(habits, x=habits.index, y='Count')\n",
    "fig.show()"
   ]
  },
  {
   "cell_type": "code",
   "execution_count": 32,
   "id": "cb5c049a",
   "metadata": {},
   "outputs": [
    {
     "data": {
      "application/vnd.plotly.v1+json": {
       "config": {
        "plotlyServerURL": "https://plot.ly"
       },
       "data": [
        {
         "alignmentgroup": "True",
         "hovertemplate": "index=%{x}<br>y=%{y}<extra></extra>",
         "legendgroup": "",
         "marker": {
          "color": "#636efa",
          "pattern": {
           "shape": ""
          }
         },
         "name": "",
         "offsetgroup": "",
         "orientation": "v",
         "showlegend": false,
         "textposition": "auto",
         "type": "bar",
         "x": [
          "Watching television",
          "Social media",
          "Watching streaming platforms",
          "Navigate on the internet"
         ],
         "xaxis": "x",
         "y": [
          44,
          22,
          10,
          6
         ],
         "yaxis": "y"
        }
       ],
       "layout": {
        "barmode": "relative",
        "legend": {
         "tracegroupgap": 0
        },
        "margin": {
         "t": 60
        },
        "template": {
         "data": {
          "bar": [
           {
            "error_x": {
             "color": "#2a3f5f"
            },
            "error_y": {
             "color": "#2a3f5f"
            },
            "marker": {
             "line": {
              "color": "#E5ECF6",
              "width": 0.5
             },
             "pattern": {
              "fillmode": "overlay",
              "size": 10,
              "solidity": 0.2
             }
            },
            "type": "bar"
           }
          ],
          "barpolar": [
           {
            "marker": {
             "line": {
              "color": "#E5ECF6",
              "width": 0.5
             },
             "pattern": {
              "fillmode": "overlay",
              "size": 10,
              "solidity": 0.2
             }
            },
            "type": "barpolar"
           }
          ],
          "carpet": [
           {
            "aaxis": {
             "endlinecolor": "#2a3f5f",
             "gridcolor": "white",
             "linecolor": "white",
             "minorgridcolor": "white",
             "startlinecolor": "#2a3f5f"
            },
            "baxis": {
             "endlinecolor": "#2a3f5f",
             "gridcolor": "white",
             "linecolor": "white",
             "minorgridcolor": "white",
             "startlinecolor": "#2a3f5f"
            },
            "type": "carpet"
           }
          ],
          "choropleth": [
           {
            "colorbar": {
             "outlinewidth": 0,
             "ticks": ""
            },
            "type": "choropleth"
           }
          ],
          "contour": [
           {
            "colorbar": {
             "outlinewidth": 0,
             "ticks": ""
            },
            "colorscale": [
             [
              0,
              "#0d0887"
             ],
             [
              0.1111111111111111,
              "#46039f"
             ],
             [
              0.2222222222222222,
              "#7201a8"
             ],
             [
              0.3333333333333333,
              "#9c179e"
             ],
             [
              0.4444444444444444,
              "#bd3786"
             ],
             [
              0.5555555555555556,
              "#d8576b"
             ],
             [
              0.6666666666666666,
              "#ed7953"
             ],
             [
              0.7777777777777778,
              "#fb9f3a"
             ],
             [
              0.8888888888888888,
              "#fdca26"
             ],
             [
              1,
              "#f0f921"
             ]
            ],
            "type": "contour"
           }
          ],
          "contourcarpet": [
           {
            "colorbar": {
             "outlinewidth": 0,
             "ticks": ""
            },
            "type": "contourcarpet"
           }
          ],
          "heatmap": [
           {
            "colorbar": {
             "outlinewidth": 0,
             "ticks": ""
            },
            "colorscale": [
             [
              0,
              "#0d0887"
             ],
             [
              0.1111111111111111,
              "#46039f"
             ],
             [
              0.2222222222222222,
              "#7201a8"
             ],
             [
              0.3333333333333333,
              "#9c179e"
             ],
             [
              0.4444444444444444,
              "#bd3786"
             ],
             [
              0.5555555555555556,
              "#d8576b"
             ],
             [
              0.6666666666666666,
              "#ed7953"
             ],
             [
              0.7777777777777778,
              "#fb9f3a"
             ],
             [
              0.8888888888888888,
              "#fdca26"
             ],
             [
              1,
              "#f0f921"
             ]
            ],
            "type": "heatmap"
           }
          ],
          "heatmapgl": [
           {
            "colorbar": {
             "outlinewidth": 0,
             "ticks": ""
            },
            "colorscale": [
             [
              0,
              "#0d0887"
             ],
             [
              0.1111111111111111,
              "#46039f"
             ],
             [
              0.2222222222222222,
              "#7201a8"
             ],
             [
              0.3333333333333333,
              "#9c179e"
             ],
             [
              0.4444444444444444,
              "#bd3786"
             ],
             [
              0.5555555555555556,
              "#d8576b"
             ],
             [
              0.6666666666666666,
              "#ed7953"
             ],
             [
              0.7777777777777778,
              "#fb9f3a"
             ],
             [
              0.8888888888888888,
              "#fdca26"
             ],
             [
              1,
              "#f0f921"
             ]
            ],
            "type": "heatmapgl"
           }
          ],
          "histogram": [
           {
            "marker": {
             "pattern": {
              "fillmode": "overlay",
              "size": 10,
              "solidity": 0.2
             }
            },
            "type": "histogram"
           }
          ],
          "histogram2d": [
           {
            "colorbar": {
             "outlinewidth": 0,
             "ticks": ""
            },
            "colorscale": [
             [
              0,
              "#0d0887"
             ],
             [
              0.1111111111111111,
              "#46039f"
             ],
             [
              0.2222222222222222,
              "#7201a8"
             ],
             [
              0.3333333333333333,
              "#9c179e"
             ],
             [
              0.4444444444444444,
              "#bd3786"
             ],
             [
              0.5555555555555556,
              "#d8576b"
             ],
             [
              0.6666666666666666,
              "#ed7953"
             ],
             [
              0.7777777777777778,
              "#fb9f3a"
             ],
             [
              0.8888888888888888,
              "#fdca26"
             ],
             [
              1,
              "#f0f921"
             ]
            ],
            "type": "histogram2d"
           }
          ],
          "histogram2dcontour": [
           {
            "colorbar": {
             "outlinewidth": 0,
             "ticks": ""
            },
            "colorscale": [
             [
              0,
              "#0d0887"
             ],
             [
              0.1111111111111111,
              "#46039f"
             ],
             [
              0.2222222222222222,
              "#7201a8"
             ],
             [
              0.3333333333333333,
              "#9c179e"
             ],
             [
              0.4444444444444444,
              "#bd3786"
             ],
             [
              0.5555555555555556,
              "#d8576b"
             ],
             [
              0.6666666666666666,
              "#ed7953"
             ],
             [
              0.7777777777777778,
              "#fb9f3a"
             ],
             [
              0.8888888888888888,
              "#fdca26"
             ],
             [
              1,
              "#f0f921"
             ]
            ],
            "type": "histogram2dcontour"
           }
          ],
          "mesh3d": [
           {
            "colorbar": {
             "outlinewidth": 0,
             "ticks": ""
            },
            "type": "mesh3d"
           }
          ],
          "parcoords": [
           {
            "line": {
             "colorbar": {
              "outlinewidth": 0,
              "ticks": ""
             }
            },
            "type": "parcoords"
           }
          ],
          "pie": [
           {
            "automargin": true,
            "type": "pie"
           }
          ],
          "scatter": [
           {
            "fillpattern": {
             "fillmode": "overlay",
             "size": 10,
             "solidity": 0.2
            },
            "type": "scatter"
           }
          ],
          "scatter3d": [
           {
            "line": {
             "colorbar": {
              "outlinewidth": 0,
              "ticks": ""
             }
            },
            "marker": {
             "colorbar": {
              "outlinewidth": 0,
              "ticks": ""
             }
            },
            "type": "scatter3d"
           }
          ],
          "scattercarpet": [
           {
            "marker": {
             "colorbar": {
              "outlinewidth": 0,
              "ticks": ""
             }
            },
            "type": "scattercarpet"
           }
          ],
          "scattergeo": [
           {
            "marker": {
             "colorbar": {
              "outlinewidth": 0,
              "ticks": ""
             }
            },
            "type": "scattergeo"
           }
          ],
          "scattergl": [
           {
            "marker": {
             "colorbar": {
              "outlinewidth": 0,
              "ticks": ""
             }
            },
            "type": "scattergl"
           }
          ],
          "scattermapbox": [
           {
            "marker": {
             "colorbar": {
              "outlinewidth": 0,
              "ticks": ""
             }
            },
            "type": "scattermapbox"
           }
          ],
          "scatterpolar": [
           {
            "marker": {
             "colorbar": {
              "outlinewidth": 0,
              "ticks": ""
             }
            },
            "type": "scatterpolar"
           }
          ],
          "scatterpolargl": [
           {
            "marker": {
             "colorbar": {
              "outlinewidth": 0,
              "ticks": ""
             }
            },
            "type": "scatterpolargl"
           }
          ],
          "scatterternary": [
           {
            "marker": {
             "colorbar": {
              "outlinewidth": 0,
              "ticks": ""
             }
            },
            "type": "scatterternary"
           }
          ],
          "surface": [
           {
            "colorbar": {
             "outlinewidth": 0,
             "ticks": ""
            },
            "colorscale": [
             [
              0,
              "#0d0887"
             ],
             [
              0.1111111111111111,
              "#46039f"
             ],
             [
              0.2222222222222222,
              "#7201a8"
             ],
             [
              0.3333333333333333,
              "#9c179e"
             ],
             [
              0.4444444444444444,
              "#bd3786"
             ],
             [
              0.5555555555555556,
              "#d8576b"
             ],
             [
              0.6666666666666666,
              "#ed7953"
             ],
             [
              0.7777777777777778,
              "#fb9f3a"
             ],
             [
              0.8888888888888888,
              "#fdca26"
             ],
             [
              1,
              "#f0f921"
             ]
            ],
            "type": "surface"
           }
          ],
          "table": [
           {
            "cells": {
             "fill": {
              "color": "#EBF0F8"
             },
             "line": {
              "color": "white"
             }
            },
            "header": {
             "fill": {
              "color": "#C8D4E3"
             },
             "line": {
              "color": "white"
             }
            },
            "type": "table"
           }
          ]
         },
         "layout": {
          "annotationdefaults": {
           "arrowcolor": "#2a3f5f",
           "arrowhead": 0,
           "arrowwidth": 1
          },
          "autotypenumbers": "strict",
          "coloraxis": {
           "colorbar": {
            "outlinewidth": 0,
            "ticks": ""
           }
          },
          "colorscale": {
           "diverging": [
            [
             0,
             "#8e0152"
            ],
            [
             0.1,
             "#c51b7d"
            ],
            [
             0.2,
             "#de77ae"
            ],
            [
             0.3,
             "#f1b6da"
            ],
            [
             0.4,
             "#fde0ef"
            ],
            [
             0.5,
             "#f7f7f7"
            ],
            [
             0.6,
             "#e6f5d0"
            ],
            [
             0.7,
             "#b8e186"
            ],
            [
             0.8,
             "#7fbc41"
            ],
            [
             0.9,
             "#4d9221"
            ],
            [
             1,
             "#276419"
            ]
           ],
           "sequential": [
            [
             0,
             "#0d0887"
            ],
            [
             0.1111111111111111,
             "#46039f"
            ],
            [
             0.2222222222222222,
             "#7201a8"
            ],
            [
             0.3333333333333333,
             "#9c179e"
            ],
            [
             0.4444444444444444,
             "#bd3786"
            ],
            [
             0.5555555555555556,
             "#d8576b"
            ],
            [
             0.6666666666666666,
             "#ed7953"
            ],
            [
             0.7777777777777778,
             "#fb9f3a"
            ],
            [
             0.8888888888888888,
             "#fdca26"
            ],
            [
             1,
             "#f0f921"
            ]
           ],
           "sequentialminus": [
            [
             0,
             "#0d0887"
            ],
            [
             0.1111111111111111,
             "#46039f"
            ],
            [
             0.2222222222222222,
             "#7201a8"
            ],
            [
             0.3333333333333333,
             "#9c179e"
            ],
            [
             0.4444444444444444,
             "#bd3786"
            ],
            [
             0.5555555555555556,
             "#d8576b"
            ],
            [
             0.6666666666666666,
             "#ed7953"
            ],
            [
             0.7777777777777778,
             "#fb9f3a"
            ],
            [
             0.8888888888888888,
             "#fdca26"
            ],
            [
             1,
             "#f0f921"
            ]
           ]
          },
          "colorway": [
           "#636efa",
           "#EF553B",
           "#00cc96",
           "#ab63fa",
           "#FFA15A",
           "#19d3f3",
           "#FF6692",
           "#B6E880",
           "#FF97FF",
           "#FECB52"
          ],
          "font": {
           "color": "#2a3f5f"
          },
          "geo": {
           "bgcolor": "white",
           "lakecolor": "white",
           "landcolor": "#E5ECF6",
           "showlakes": true,
           "showland": true,
           "subunitcolor": "white"
          },
          "hoverlabel": {
           "align": "left"
          },
          "hovermode": "closest",
          "mapbox": {
           "style": "light"
          },
          "paper_bgcolor": "white",
          "plot_bgcolor": "#E5ECF6",
          "polar": {
           "angularaxis": {
            "gridcolor": "white",
            "linecolor": "white",
            "ticks": ""
           },
           "bgcolor": "#E5ECF6",
           "radialaxis": {
            "gridcolor": "white",
            "linecolor": "white",
            "ticks": ""
           }
          },
          "scene": {
           "xaxis": {
            "backgroundcolor": "#E5ECF6",
            "gridcolor": "white",
            "gridwidth": 2,
            "linecolor": "white",
            "showbackground": true,
            "ticks": "",
            "zerolinecolor": "white"
           },
           "yaxis": {
            "backgroundcolor": "#E5ECF6",
            "gridcolor": "white",
            "gridwidth": 2,
            "linecolor": "white",
            "showbackground": true,
            "ticks": "",
            "zerolinecolor": "white"
           },
           "zaxis": {
            "backgroundcolor": "#E5ECF6",
            "gridcolor": "white",
            "gridwidth": 2,
            "linecolor": "white",
            "showbackground": true,
            "ticks": "",
            "zerolinecolor": "white"
           }
          },
          "shapedefaults": {
           "line": {
            "color": "#2a3f5f"
           }
          },
          "ternary": {
           "aaxis": {
            "gridcolor": "white",
            "linecolor": "white",
            "ticks": ""
           },
           "baxis": {
            "gridcolor": "white",
            "linecolor": "white",
            "ticks": ""
           },
           "bgcolor": "#E5ECF6",
           "caxis": {
            "gridcolor": "white",
            "linecolor": "white",
            "ticks": ""
           }
          },
          "title": {
           "x": 0.05
          },
          "xaxis": {
           "automargin": true,
           "gridcolor": "white",
           "linecolor": "white",
           "ticks": "",
           "title": {
            "standoff": 15
           },
           "zerolinecolor": "white",
           "zerolinewidth": 2
          },
          "yaxis": {
           "automargin": true,
           "gridcolor": "white",
           "linecolor": "white",
           "ticks": "",
           "title": {
            "standoff": 15
           },
           "zerolinecolor": "white",
           "zerolinewidth": 2
          }
         }
        },
        "xaxis": {
         "anchor": "y",
         "domain": [
          0,
          1
         ],
         "title": {
          "text": "index"
         }
        },
        "yaxis": {
         "anchor": "x",
         "domain": [
          0,
          1
         ],
         "title": {
          "text": "y"
         }
        }
       }
      },
      "text/html": [
       "<div>                            <div id=\"805a6ea3-055b-4382-9b40-1615d98cdd1d\" class=\"plotly-graph-div\" style=\"height:525px; width:100%;\"></div>            <script type=\"text/javascript\">                require([\"plotly\"], function(Plotly) {                    window.PLOTLYENV=window.PLOTLYENV || {};                                    if (document.getElementById(\"805a6ea3-055b-4382-9b40-1615d98cdd1d\")) {                    Plotly.newPlot(                        \"805a6ea3-055b-4382-9b40-1615d98cdd1d\",                        [{\"alignmentgroup\":\"True\",\"hovertemplate\":\"index=%{x}<br>y=%{y}<extra></extra>\",\"legendgroup\":\"\",\"marker\":{\"color\":\"#636efa\",\"pattern\":{\"shape\":\"\"}},\"name\":\"\",\"offsetgroup\":\"\",\"orientation\":\"v\",\"showlegend\":false,\"textposition\":\"auto\",\"x\":[\"Watching television\",\"Social media\",\"Watching streaming platforms\",\"Navigate on the internet\"],\"xaxis\":\"x\",\"y\":[44,22,10,6],\"yaxis\":\"y\",\"type\":\"bar\"}],                        {\"template\":{\"data\":{\"histogram2dcontour\":[{\"type\":\"histogram2dcontour\",\"colorbar\":{\"outlinewidth\":0,\"ticks\":\"\"},\"colorscale\":[[0.0,\"#0d0887\"],[0.1111111111111111,\"#46039f\"],[0.2222222222222222,\"#7201a8\"],[0.3333333333333333,\"#9c179e\"],[0.4444444444444444,\"#bd3786\"],[0.5555555555555556,\"#d8576b\"],[0.6666666666666666,\"#ed7953\"],[0.7777777777777778,\"#fb9f3a\"],[0.8888888888888888,\"#fdca26\"],[1.0,\"#f0f921\"]]}],\"choropleth\":[{\"type\":\"choropleth\",\"colorbar\":{\"outlinewidth\":0,\"ticks\":\"\"}}],\"histogram2d\":[{\"type\":\"histogram2d\",\"colorbar\":{\"outlinewidth\":0,\"ticks\":\"\"},\"colorscale\":[[0.0,\"#0d0887\"],[0.1111111111111111,\"#46039f\"],[0.2222222222222222,\"#7201a8\"],[0.3333333333333333,\"#9c179e\"],[0.4444444444444444,\"#bd3786\"],[0.5555555555555556,\"#d8576b\"],[0.6666666666666666,\"#ed7953\"],[0.7777777777777778,\"#fb9f3a\"],[0.8888888888888888,\"#fdca26\"],[1.0,\"#f0f921\"]]}],\"heatmap\":[{\"type\":\"heatmap\",\"colorbar\":{\"outlinewidth\":0,\"ticks\":\"\"},\"colorscale\":[[0.0,\"#0d0887\"],[0.1111111111111111,\"#46039f\"],[0.2222222222222222,\"#7201a8\"],[0.3333333333333333,\"#9c179e\"],[0.4444444444444444,\"#bd3786\"],[0.5555555555555556,\"#d8576b\"],[0.6666666666666666,\"#ed7953\"],[0.7777777777777778,\"#fb9f3a\"],[0.8888888888888888,\"#fdca26\"],[1.0,\"#f0f921\"]]}],\"heatmapgl\":[{\"type\":\"heatmapgl\",\"colorbar\":{\"outlinewidth\":0,\"ticks\":\"\"},\"colorscale\":[[0.0,\"#0d0887\"],[0.1111111111111111,\"#46039f\"],[0.2222222222222222,\"#7201a8\"],[0.3333333333333333,\"#9c179e\"],[0.4444444444444444,\"#bd3786\"],[0.5555555555555556,\"#d8576b\"],[0.6666666666666666,\"#ed7953\"],[0.7777777777777778,\"#fb9f3a\"],[0.8888888888888888,\"#fdca26\"],[1.0,\"#f0f921\"]]}],\"contourcarpet\":[{\"type\":\"contourcarpet\",\"colorbar\":{\"outlinewidth\":0,\"ticks\":\"\"}}],\"contour\":[{\"type\":\"contour\",\"colorbar\":{\"outlinewidth\":0,\"ticks\":\"\"},\"colorscale\":[[0.0,\"#0d0887\"],[0.1111111111111111,\"#46039f\"],[0.2222222222222222,\"#7201a8\"],[0.3333333333333333,\"#9c179e\"],[0.4444444444444444,\"#bd3786\"],[0.5555555555555556,\"#d8576b\"],[0.6666666666666666,\"#ed7953\"],[0.7777777777777778,\"#fb9f3a\"],[0.8888888888888888,\"#fdca26\"],[1.0,\"#f0f921\"]]}],\"surface\":[{\"type\":\"surface\",\"colorbar\":{\"outlinewidth\":0,\"ticks\":\"\"},\"colorscale\":[[0.0,\"#0d0887\"],[0.1111111111111111,\"#46039f\"],[0.2222222222222222,\"#7201a8\"],[0.3333333333333333,\"#9c179e\"],[0.4444444444444444,\"#bd3786\"],[0.5555555555555556,\"#d8576b\"],[0.6666666666666666,\"#ed7953\"],[0.7777777777777778,\"#fb9f3a\"],[0.8888888888888888,\"#fdca26\"],[1.0,\"#f0f921\"]]}],\"mesh3d\":[{\"type\":\"mesh3d\",\"colorbar\":{\"outlinewidth\":0,\"ticks\":\"\"}}],\"scatter\":[{\"fillpattern\":{\"fillmode\":\"overlay\",\"size\":10,\"solidity\":0.2},\"type\":\"scatter\"}],\"parcoords\":[{\"type\":\"parcoords\",\"line\":{\"colorbar\":{\"outlinewidth\":0,\"ticks\":\"\"}}}],\"scatterpolargl\":[{\"type\":\"scatterpolargl\",\"marker\":{\"colorbar\":{\"outlinewidth\":0,\"ticks\":\"\"}}}],\"bar\":[{\"error_x\":{\"color\":\"#2a3f5f\"},\"error_y\":{\"color\":\"#2a3f5f\"},\"marker\":{\"line\":{\"color\":\"#E5ECF6\",\"width\":0.5},\"pattern\":{\"fillmode\":\"overlay\",\"size\":10,\"solidity\":0.2}},\"type\":\"bar\"}],\"scattergeo\":[{\"type\":\"scattergeo\",\"marker\":{\"colorbar\":{\"outlinewidth\":0,\"ticks\":\"\"}}}],\"scatterpolar\":[{\"type\":\"scatterpolar\",\"marker\":{\"colorbar\":{\"outlinewidth\":0,\"ticks\":\"\"}}}],\"histogram\":[{\"marker\":{\"pattern\":{\"fillmode\":\"overlay\",\"size\":10,\"solidity\":0.2}},\"type\":\"histogram\"}],\"scattergl\":[{\"type\":\"scattergl\",\"marker\":{\"colorbar\":{\"outlinewidth\":0,\"ticks\":\"\"}}}],\"scatter3d\":[{\"type\":\"scatter3d\",\"line\":{\"colorbar\":{\"outlinewidth\":0,\"ticks\":\"\"}},\"marker\":{\"colorbar\":{\"outlinewidth\":0,\"ticks\":\"\"}}}],\"scattermapbox\":[{\"type\":\"scattermapbox\",\"marker\":{\"colorbar\":{\"outlinewidth\":0,\"ticks\":\"\"}}}],\"scatterternary\":[{\"type\":\"scatterternary\",\"marker\":{\"colorbar\":{\"outlinewidth\":0,\"ticks\":\"\"}}}],\"scattercarpet\":[{\"type\":\"scattercarpet\",\"marker\":{\"colorbar\":{\"outlinewidth\":0,\"ticks\":\"\"}}}],\"carpet\":[{\"aaxis\":{\"endlinecolor\":\"#2a3f5f\",\"gridcolor\":\"white\",\"linecolor\":\"white\",\"minorgridcolor\":\"white\",\"startlinecolor\":\"#2a3f5f\"},\"baxis\":{\"endlinecolor\":\"#2a3f5f\",\"gridcolor\":\"white\",\"linecolor\":\"white\",\"minorgridcolor\":\"white\",\"startlinecolor\":\"#2a3f5f\"},\"type\":\"carpet\"}],\"table\":[{\"cells\":{\"fill\":{\"color\":\"#EBF0F8\"},\"line\":{\"color\":\"white\"}},\"header\":{\"fill\":{\"color\":\"#C8D4E3\"},\"line\":{\"color\":\"white\"}},\"type\":\"table\"}],\"barpolar\":[{\"marker\":{\"line\":{\"color\":\"#E5ECF6\",\"width\":0.5},\"pattern\":{\"fillmode\":\"overlay\",\"size\":10,\"solidity\":0.2}},\"type\":\"barpolar\"}],\"pie\":[{\"automargin\":true,\"type\":\"pie\"}]},\"layout\":{\"autotypenumbers\":\"strict\",\"colorway\":[\"#636efa\",\"#EF553B\",\"#00cc96\",\"#ab63fa\",\"#FFA15A\",\"#19d3f3\",\"#FF6692\",\"#B6E880\",\"#FF97FF\",\"#FECB52\"],\"font\":{\"color\":\"#2a3f5f\"},\"hovermode\":\"closest\",\"hoverlabel\":{\"align\":\"left\"},\"paper_bgcolor\":\"white\",\"plot_bgcolor\":\"#E5ECF6\",\"polar\":{\"bgcolor\":\"#E5ECF6\",\"angularaxis\":{\"gridcolor\":\"white\",\"linecolor\":\"white\",\"ticks\":\"\"},\"radialaxis\":{\"gridcolor\":\"white\",\"linecolor\":\"white\",\"ticks\":\"\"}},\"ternary\":{\"bgcolor\":\"#E5ECF6\",\"aaxis\":{\"gridcolor\":\"white\",\"linecolor\":\"white\",\"ticks\":\"\"},\"baxis\":{\"gridcolor\":\"white\",\"linecolor\":\"white\",\"ticks\":\"\"},\"caxis\":{\"gridcolor\":\"white\",\"linecolor\":\"white\",\"ticks\":\"\"}},\"coloraxis\":{\"colorbar\":{\"outlinewidth\":0,\"ticks\":\"\"}},\"colorscale\":{\"sequential\":[[0.0,\"#0d0887\"],[0.1111111111111111,\"#46039f\"],[0.2222222222222222,\"#7201a8\"],[0.3333333333333333,\"#9c179e\"],[0.4444444444444444,\"#bd3786\"],[0.5555555555555556,\"#d8576b\"],[0.6666666666666666,\"#ed7953\"],[0.7777777777777778,\"#fb9f3a\"],[0.8888888888888888,\"#fdca26\"],[1.0,\"#f0f921\"]],\"sequentialminus\":[[0.0,\"#0d0887\"],[0.1111111111111111,\"#46039f\"],[0.2222222222222222,\"#7201a8\"],[0.3333333333333333,\"#9c179e\"],[0.4444444444444444,\"#bd3786\"],[0.5555555555555556,\"#d8576b\"],[0.6666666666666666,\"#ed7953\"],[0.7777777777777778,\"#fb9f3a\"],[0.8888888888888888,\"#fdca26\"],[1.0,\"#f0f921\"]],\"diverging\":[[0,\"#8e0152\"],[0.1,\"#c51b7d\"],[0.2,\"#de77ae\"],[0.3,\"#f1b6da\"],[0.4,\"#fde0ef\"],[0.5,\"#f7f7f7\"],[0.6,\"#e6f5d0\"],[0.7,\"#b8e186\"],[0.8,\"#7fbc41\"],[0.9,\"#4d9221\"],[1,\"#276419\"]]},\"xaxis\":{\"gridcolor\":\"white\",\"linecolor\":\"white\",\"ticks\":\"\",\"title\":{\"standoff\":15},\"zerolinecolor\":\"white\",\"automargin\":true,\"zerolinewidth\":2},\"yaxis\":{\"gridcolor\":\"white\",\"linecolor\":\"white\",\"ticks\":\"\",\"title\":{\"standoff\":15},\"zerolinecolor\":\"white\",\"automargin\":true,\"zerolinewidth\":2},\"scene\":{\"xaxis\":{\"backgroundcolor\":\"#E5ECF6\",\"gridcolor\":\"white\",\"linecolor\":\"white\",\"showbackground\":true,\"ticks\":\"\",\"zerolinecolor\":\"white\",\"gridwidth\":2},\"yaxis\":{\"backgroundcolor\":\"#E5ECF6\",\"gridcolor\":\"white\",\"linecolor\":\"white\",\"showbackground\":true,\"ticks\":\"\",\"zerolinecolor\":\"white\",\"gridwidth\":2},\"zaxis\":{\"backgroundcolor\":\"#E5ECF6\",\"gridcolor\":\"white\",\"linecolor\":\"white\",\"showbackground\":true,\"ticks\":\"\",\"zerolinecolor\":\"white\",\"gridwidth\":2}},\"shapedefaults\":{\"line\":{\"color\":\"#2a3f5f\"}},\"annotationdefaults\":{\"arrowcolor\":\"#2a3f5f\",\"arrowhead\":0,\"arrowwidth\":1},\"geo\":{\"bgcolor\":\"white\",\"landcolor\":\"#E5ECF6\",\"subunitcolor\":\"white\",\"showland\":true,\"showlakes\":true,\"lakecolor\":\"white\"},\"title\":{\"x\":0.05},\"mapbox\":{\"style\":\"light\"}}},\"xaxis\":{\"anchor\":\"y\",\"domain\":[0.0,1.0],\"title\":{\"text\":\"index\"}},\"yaxis\":{\"anchor\":\"x\",\"domain\":[0.0,1.0],\"title\":{\"text\":\"y\"}},\"legend\":{\"tracegroupgap\":0},\"margin\":{\"t\":60},\"barmode\":\"relative\"},                        {\"responsive\": true}                    ).then(function(){\n",
       "                            \n",
       "var gd = document.getElementById('805a6ea3-055b-4382-9b40-1615d98cdd1d');\n",
       "var x = new MutationObserver(function (mutations, observer) {{\n",
       "        var display = window.getComputedStyle(gd).display;\n",
       "        if (!display || display === 'none') {{\n",
       "            console.log([gd, 'removed!']);\n",
       "            Plotly.purge(gd);\n",
       "            observer.disconnect();\n",
       "        }}\n",
       "}});\n",
       "\n",
       "// Listen for the removal of the full notebook cells\n",
       "var notebookContainer = gd.closest('#notebook-container');\n",
       "if (notebookContainer) {{\n",
       "    x.observe(notebookContainer, {childList: true});\n",
       "}}\n",
       "\n",
       "// Listen for the clearing of the current output cell\n",
       "var outputEl = gd.closest('.output');\n",
       "if (outputEl) {{\n",
       "    x.observe(outputEl, {childList: true});\n",
       "}}\n",
       "\n",
       "                        })                };                });            </script>        </div>"
      ]
     },
     "metadata": {},
     "output_type": "display_data"
    }
   ],
   "source": [
    "#IMPROVING OUR MODEL\n",
    "\n",
    "#The column Q15 will be what I want to predict with my model.\n",
    "\n",
    "#Which of these activities would be easier for you to stop doing?'\n",
    "\n",
    "counts = data['Q15'].value_counts()\n",
    "fig = px.bar(counts, x=counts.index, y=counts.values)\n",
    "fig.show()"
   ]
  },
  {
   "cell_type": "code",
   "execution_count": 33,
   "id": "42f8c6b8",
   "metadata": {},
   "outputs": [],
   "source": [
    "#I will create a new column related with my Y. On this new column I have identified the unique values and\n",
    "#assigned them a number from 1 to 4. So instead of a text answer I will have a number assigned to an answer.\n",
    "#This new column will be my Y that I will use in my model\n",
    "\n",
    "column_name = \"Q15\"\n",
    "words = [\"Watching television\", \"Watching streaming platforms\",\"Navigate on the internet\", \"Social media\"]\n",
    "\n",
    "for i, cell in enumerate(data[column_name]):\n",
    "    if cell == \"Watching television\":\n",
    "        data.loc[i, 'Calculated column'] = 1\n",
    "    elif cell == \"Watching streaming platforms\":\n",
    "        data.loc[i, 'Calculated column'] = 2\n",
    "    elif cell == \"Navigate on the internet\":\n",
    "        data.loc[i, 'Calculated column'] = 3\n",
    "    elif cell == \"Social media\":\n",
    "        data.loc[i, 'Calculated column'] = 4"
   ]
  },
  {
   "cell_type": "code",
   "execution_count": 34,
   "id": "ce466470",
   "metadata": {},
   "outputs": [
    {
     "data": {
      "text/html": [
       "<div>\n",
       "<style scoped>\n",
       "    .dataframe tbody tr th:only-of-type {\n",
       "        vertical-align: middle;\n",
       "    }\n",
       "\n",
       "    .dataframe tbody tr th {\n",
       "        vertical-align: top;\n",
       "    }\n",
       "\n",
       "    .dataframe thead th {\n",
       "        text-align: right;\n",
       "    }\n",
       "</style>\n",
       "<table border=\"1\" class=\"dataframe\">\n",
       "  <thead>\n",
       "    <tr style=\"text-align: right;\">\n",
       "      <th></th>\n",
       "      <th>Q1</th>\n",
       "      <th>Q2</th>\n",
       "      <th>Q3</th>\n",
       "      <th>Q4</th>\n",
       "      <th>Q5</th>\n",
       "      <th>Q6</th>\n",
       "      <th>Q7</th>\n",
       "      <th>Q8</th>\n",
       "      <th>Q9</th>\n",
       "      <th>Q10</th>\n",
       "      <th>Q11</th>\n",
       "      <th>Q12</th>\n",
       "      <th>Q13</th>\n",
       "      <th>Q14</th>\n",
       "      <th>Q15</th>\n",
       "      <th>Calculated column</th>\n",
       "    </tr>\n",
       "  </thead>\n",
       "  <tbody>\n",
       "    <tr>\n",
       "      <th>0</th>\n",
       "      <td>28</td>\n",
       "      <td>Male</td>\n",
       "      <td>Netflix;HBO Max;Amazon Prime Video</td>\n",
       "      <td>Between 1 hour and 3 hours</td>\n",
       "      <td>Yes</td>\n",
       "      <td>Flat panel television</td>\n",
       "      <td>Greater variety and better content</td>\n",
       "      <td>Tablet;Television</td>\n",
       "      <td>Tablet;Television</td>\n",
       "      <td>Yes</td>\n",
       "      <td>Between 30 minutes and 1 hour</td>\n",
       "      <td>Football Matches</td>\n",
       "      <td>News;Sports</td>\n",
       "      <td>Watching videos on your smartphone;Watching Ne...</td>\n",
       "      <td>Watching television</td>\n",
       "      <td>1.0</td>\n",
       "    </tr>\n",
       "    <tr>\n",
       "      <th>1</th>\n",
       "      <td>37</td>\n",
       "      <td>Female</td>\n",
       "      <td>Netflix</td>\n",
       "      <td>More than 3 hours</td>\n",
       "      <td>Yes</td>\n",
       "      <td>Laptop/Desktop;Flat panel television</td>\n",
       "      <td>Access to content at any time;Greater variety ...</td>\n",
       "      <td>Laptop/Desktop;Television</td>\n",
       "      <td>Television</td>\n",
       "      <td>Yes</td>\n",
       "      <td>Between 1 hour and 3 hours</td>\n",
       "      <td>For the programming content</td>\n",
       "      <td>News;Soap Operas;Movies;Sports</td>\n",
       "      <td>Watching Netflix or other streaming platform</td>\n",
       "      <td>Watching television</td>\n",
       "      <td>1.0</td>\n",
       "    </tr>\n",
       "    <tr>\n",
       "      <th>2</th>\n",
       "      <td>29</td>\n",
       "      <td>Female</td>\n",
       "      <td>Netflix;HBO Max;Disney +</td>\n",
       "      <td>Between 1 hour and 3 hours</td>\n",
       "      <td>Yes</td>\n",
       "      <td>Smartphone;Laptop/Desktop;Flat panel television</td>\n",
       "      <td>Access to content at any time;Greater variety ...</td>\n",
       "      <td>Television</td>\n",
       "      <td>I do not watch sports</td>\n",
       "      <td>Yes</td>\n",
       "      <td>Between 30 minutes and 1 hour</td>\n",
       "      <td>Live shows;Football Matches</td>\n",
       "      <td>News</td>\n",
       "      <td>Watching television;Watching videos on your sm...</td>\n",
       "      <td>Watching television</td>\n",
       "      <td>1.0</td>\n",
       "    </tr>\n",
       "    <tr>\n",
       "      <th>3</th>\n",
       "      <td>40 - 64</td>\n",
       "      <td>Female</td>\n",
       "      <td>Netflix</td>\n",
       "      <td>Between 1 hour and 3 hours</td>\n",
       "      <td>Yes</td>\n",
       "      <td>Smartphone</td>\n",
       "      <td>Access to content at any time;More freedom</td>\n",
       "      <td>Smartphone;Television</td>\n",
       "      <td>Television</td>\n",
       "      <td>Yes</td>\n",
       "      <td>More than 3 hours</td>\n",
       "      <td>For the programming content</td>\n",
       "      <td>News;Movies;Series;Programas de Entretenimento</td>\n",
       "      <td>Watching television</td>\n",
       "      <td>Watching streaming platforms</td>\n",
       "      <td>2.0</td>\n",
       "    </tr>\n",
       "    <tr>\n",
       "      <th>4</th>\n",
       "      <td>25 - 39</td>\n",
       "      <td>Female</td>\n",
       "      <td>Netflix;HBO Max;Disney +</td>\n",
       "      <td>Between 30 minutes and 1 hour</td>\n",
       "      <td>Yes</td>\n",
       "      <td>Laptop/Desktop;Flat panel television</td>\n",
       "      <td>Access to content at any time;Greater variety ...</td>\n",
       "      <td>Laptop/Desktop;Television</td>\n",
       "      <td>I do not watch sports</td>\n",
       "      <td>No</td>\n",
       "      <td>No more than 30 minutes</td>\n",
       "      <td>I don't</td>\n",
       "      <td>I don't</td>\n",
       "      <td>Turn on the Laptop/Desktop;Watching Netflix or...</td>\n",
       "      <td>Watching television</td>\n",
       "      <td>1.0</td>\n",
       "    </tr>\n",
       "    <tr>\n",
       "      <th>...</th>\n",
       "      <td>...</td>\n",
       "      <td>...</td>\n",
       "      <td>...</td>\n",
       "      <td>...</td>\n",
       "      <td>...</td>\n",
       "      <td>...</td>\n",
       "      <td>...</td>\n",
       "      <td>...</td>\n",
       "      <td>...</td>\n",
       "      <td>...</td>\n",
       "      <td>...</td>\n",
       "      <td>...</td>\n",
       "      <td>...</td>\n",
       "      <td>...</td>\n",
       "      <td>...</td>\n",
       "      <td>...</td>\n",
       "    </tr>\n",
       "    <tr>\n",
       "      <th>77</th>\n",
       "      <td>16 - 24</td>\n",
       "      <td>Female</td>\n",
       "      <td>Netflix</td>\n",
       "      <td>Between 30 minutes and 1 hour</td>\n",
       "      <td>Yes</td>\n",
       "      <td>Smartphone;Laptop/Desktop</td>\n",
       "      <td>Most convenient</td>\n",
       "      <td>Laptop/Desktop</td>\n",
       "      <td>I do not watch sports</td>\n",
       "      <td>No</td>\n",
       "      <td>No more than 30 minutes</td>\n",
       "      <td>News, cooking shows</td>\n",
       "      <td>News</td>\n",
       "      <td>Turn on the Laptop/Desktop</td>\n",
       "      <td>Watching television</td>\n",
       "      <td>1.0</td>\n",
       "    </tr>\n",
       "    <tr>\n",
       "      <th>78</th>\n",
       "      <td>25 - 39</td>\n",
       "      <td>Male</td>\n",
       "      <td>Netflix;HBO Max;Amazon Prime Video</td>\n",
       "      <td>Between 30 minutes and 1 hour</td>\n",
       "      <td>No</td>\n",
       "      <td>Flat panel television</td>\n",
       "      <td>Most convenient</td>\n",
       "      <td>Television</td>\n",
       "      <td>I do not watch sports</td>\n",
       "      <td>No</td>\n",
       "      <td>missing_answer</td>\n",
       "      <td>missing_answer</td>\n",
       "      <td>missing_answer</td>\n",
       "      <td>Turn on the Laptop/Desktop</td>\n",
       "      <td>Watching television</td>\n",
       "      <td>1.0</td>\n",
       "    </tr>\n",
       "    <tr>\n",
       "      <th>79</th>\n",
       "      <td>25 - 39</td>\n",
       "      <td>Male</td>\n",
       "      <td>Netflix;HBO Max</td>\n",
       "      <td>Between 30 minutes and 1 hour</td>\n",
       "      <td>Yes</td>\n",
       "      <td>Laptop/Desktop</td>\n",
       "      <td>Access to content at any time;Most convenient</td>\n",
       "      <td>Laptop/Desktop</td>\n",
       "      <td>I do not watch sports</td>\n",
       "      <td>No</td>\n",
       "      <td>No more than 30 minutes</td>\n",
       "      <td>missing_answer</td>\n",
       "      <td>missing_answer</td>\n",
       "      <td>Turn on the Laptop/Desktop</td>\n",
       "      <td>Watching television</td>\n",
       "      <td>1.0</td>\n",
       "    </tr>\n",
       "    <tr>\n",
       "      <th>80</th>\n",
       "      <td>25 - 39</td>\n",
       "      <td>Male</td>\n",
       "      <td>Netflix</td>\n",
       "      <td>Between 30 minutes and 1 hour</td>\n",
       "      <td>Yes</td>\n",
       "      <td>Laptop/Desktop</td>\n",
       "      <td>Time to relax</td>\n",
       "      <td>Laptop/Desktop</td>\n",
       "      <td>Laptop/Desktop</td>\n",
       "      <td>No</td>\n",
       "      <td>missing_answer</td>\n",
       "      <td>missing_answer</td>\n",
       "      <td>missing_answer</td>\n",
       "      <td>Watching videos on your smartphone</td>\n",
       "      <td>Social media</td>\n",
       "      <td>4.0</td>\n",
       "    </tr>\n",
       "    <tr>\n",
       "      <th>81</th>\n",
       "      <td>More than 65</td>\n",
       "      <td>Female</td>\n",
       "      <td>Netflix;HBO Max;Amazon Prime Video</td>\n",
       "      <td>Between 1 hour and 3 hours</td>\n",
       "      <td>Yes</td>\n",
       "      <td>Flat panel television</td>\n",
       "      <td>Most convenient</td>\n",
       "      <td>Television</td>\n",
       "      <td>I do not watch sports</td>\n",
       "      <td>Yes</td>\n",
       "      <td>More than 3 hours</td>\n",
       "      <td>Larger variety of channels</td>\n",
       "      <td>News;Movies;Series</td>\n",
       "      <td>Watching television</td>\n",
       "      <td>Social media</td>\n",
       "      <td>4.0</td>\n",
       "    </tr>\n",
       "  </tbody>\n",
       "</table>\n",
       "<p>82 rows × 16 columns</p>\n",
       "</div>"
      ],
      "text/plain": [
       "              Q1      Q2                                  Q3  \\\n",
       "0             28    Male  Netflix;HBO Max;Amazon Prime Video   \n",
       "1             37  Female                             Netflix   \n",
       "2             29  Female            Netflix;HBO Max;Disney +   \n",
       "3        40 - 64  Female                             Netflix   \n",
       "4        25 - 39  Female            Netflix;HBO Max;Disney +   \n",
       "..           ...     ...                                 ...   \n",
       "77       16 - 24  Female                             Netflix   \n",
       "78       25 - 39    Male  Netflix;HBO Max;Amazon Prime Video   \n",
       "79       25 - 39    Male                     Netflix;HBO Max   \n",
       "80       25 - 39    Male                             Netflix   \n",
       "81  More than 65  Female  Netflix;HBO Max;Amazon Prime Video   \n",
       "\n",
       "                               Q4   Q5  \\\n",
       "0      Between 1 hour and 3 hours  Yes   \n",
       "1               More than 3 hours  Yes   \n",
       "2      Between 1 hour and 3 hours  Yes   \n",
       "3      Between 1 hour and 3 hours  Yes   \n",
       "4   Between 30 minutes and 1 hour  Yes   \n",
       "..                            ...  ...   \n",
       "77  Between 30 minutes and 1 hour  Yes   \n",
       "78  Between 30 minutes and 1 hour   No   \n",
       "79  Between 30 minutes and 1 hour  Yes   \n",
       "80  Between 30 minutes and 1 hour  Yes   \n",
       "81     Between 1 hour and 3 hours  Yes   \n",
       "\n",
       "                                                 Q6  \\\n",
       "0                             Flat panel television   \n",
       "1              Laptop/Desktop;Flat panel television   \n",
       "2   Smartphone;Laptop/Desktop;Flat panel television   \n",
       "3                                        Smartphone   \n",
       "4              Laptop/Desktop;Flat panel television   \n",
       "..                                              ...   \n",
       "77                        Smartphone;Laptop/Desktop   \n",
       "78                            Flat panel television   \n",
       "79                                   Laptop/Desktop   \n",
       "80                                   Laptop/Desktop   \n",
       "81                            Flat panel television   \n",
       "\n",
       "                                                   Q7  \\\n",
       "0                  Greater variety and better content   \n",
       "1   Access to content at any time;Greater variety ...   \n",
       "2   Access to content at any time;Greater variety ...   \n",
       "3          Access to content at any time;More freedom   \n",
       "4   Access to content at any time;Greater variety ...   \n",
       "..                                                ...   \n",
       "77                                    Most convenient   \n",
       "78                                    Most convenient   \n",
       "79      Access to content at any time;Most convenient   \n",
       "80                                      Time to relax   \n",
       "81                                    Most convenient   \n",
       "\n",
       "                           Q8                     Q9  Q10  \\\n",
       "0           Tablet;Television      Tablet;Television  Yes   \n",
       "1   Laptop/Desktop;Television             Television  Yes   \n",
       "2                  Television  I do not watch sports  Yes   \n",
       "3       Smartphone;Television             Television  Yes   \n",
       "4   Laptop/Desktop;Television  I do not watch sports   No   \n",
       "..                        ...                    ...  ...   \n",
       "77             Laptop/Desktop  I do not watch sports   No   \n",
       "78                 Television  I do not watch sports   No   \n",
       "79             Laptop/Desktop  I do not watch sports   No   \n",
       "80             Laptop/Desktop         Laptop/Desktop   No   \n",
       "81                 Television  I do not watch sports  Yes   \n",
       "\n",
       "                              Q11                          Q12  \\\n",
       "0   Between 30 minutes and 1 hour             Football Matches   \n",
       "1      Between 1 hour and 3 hours  For the programming content   \n",
       "2   Between 30 minutes and 1 hour  Live shows;Football Matches   \n",
       "3               More than 3 hours  For the programming content   \n",
       "4         No more than 30 minutes                     I don't    \n",
       "..                            ...                          ...   \n",
       "77        No more than 30 minutes          News, cooking shows   \n",
       "78                 missing_answer               missing_answer   \n",
       "79        No more than 30 minutes               missing_answer   \n",
       "80                 missing_answer               missing_answer   \n",
       "81              More than 3 hours   Larger variety of channels   \n",
       "\n",
       "                                                Q13  \\\n",
       "0                                       News;Sports   \n",
       "1                    News;Soap Operas;Movies;Sports   \n",
       "2                                              News   \n",
       "3   News;Movies;Series;Programas de Entretenimento    \n",
       "4                                          I don't    \n",
       "..                                              ...   \n",
       "77                                             News   \n",
       "78                                   missing_answer   \n",
       "79                                   missing_answer   \n",
       "80                                   missing_answer   \n",
       "81                               News;Movies;Series   \n",
       "\n",
       "                                                  Q14  \\\n",
       "0   Watching videos on your smartphone;Watching Ne...   \n",
       "1        Watching Netflix or other streaming platform   \n",
       "2   Watching television;Watching videos on your sm...   \n",
       "3                                 Watching television   \n",
       "4   Turn on the Laptop/Desktop;Watching Netflix or...   \n",
       "..                                                ...   \n",
       "77                         Turn on the Laptop/Desktop   \n",
       "78                         Turn on the Laptop/Desktop   \n",
       "79                         Turn on the Laptop/Desktop   \n",
       "80                 Watching videos on your smartphone   \n",
       "81                                Watching television   \n",
       "\n",
       "                             Q15  Calculated column  \n",
       "0            Watching television                1.0  \n",
       "1            Watching television                1.0  \n",
       "2            Watching television                1.0  \n",
       "3   Watching streaming platforms                2.0  \n",
       "4            Watching television                1.0  \n",
       "..                           ...                ...  \n",
       "77           Watching television                1.0  \n",
       "78           Watching television                1.0  \n",
       "79           Watching television                1.0  \n",
       "80                  Social media                4.0  \n",
       "81                  Social media                4.0  \n",
       "\n",
       "[82 rows x 16 columns]"
      ]
     },
     "execution_count": 34,
     "metadata": {},
     "output_type": "execute_result"
    }
   ],
   "source": [
    "data"
   ]
  },
  {
   "cell_type": "code",
   "execution_count": 35,
   "id": "20c3064b",
   "metadata": {},
   "outputs": [
    {
     "data": {
      "text/plain": [
       "(array([0.        , 0.        , 0.        , 0.5373972 , 0.        ,\n",
       "        0.        , 0.74192639, 0.85289306, 0.        , 0.85289306,\n",
       "        0.5373972 , 0.74192639, 0.85289306, 0.        , 0.        ,\n",
       "        0.        , 0.74192639, 0.5373972 , 0.85289306, 0.85289306,\n",
       "        0.        , 0.85289306, 0.        , 0.        , 0.5373972 ,\n",
       "        0.74192639, 0.85289306, 0.85289306, 0.85289306, 0.74192639,\n",
       "        0.        , 0.        , 0.85289306, 0.        , 0.        ,\n",
       "        0.        , 0.85289306, 0.        , 0.        , 0.5373972 ,\n",
       "        0.5373972 , 0.        , 0.        , 0.        , 0.        ,\n",
       "        0.        , 0.85289306, 0.74192639, 0.        , 0.85289306,\n",
       "        0.5373972 , 0.        , 0.        , 0.        , 0.85289306,\n",
       "        0.85289306, 0.        , 0.        , 0.        , 0.        ,\n",
       "        0.5373972 , 0.        , 0.        , 0.85289306, 0.5373972 ,\n",
       "        0.        , 0.        , 0.85289306, 0.        , 0.        ,\n",
       "        0.85289306, 0.        , 0.85289306, 0.85289306, 0.5373972 ,\n",
       "        0.        , 0.        , 0.        , 0.        , 0.        ,\n",
       "        0.85289306, 0.85289306]),\n",
       " -0.7683677679967391)"
      ]
     },
     "execution_count": 35,
     "metadata": {},
     "output_type": "execute_result"
    }
   ],
   "source": [
    "#Used box-cox transformation to transform my 'calculated column' into a normal shape to do linear regression.\n",
    "\n",
    "\n",
    "stats.boxcox(data['Calculated column'])"
   ]
  },
  {
   "cell_type": "code",
   "execution_count": 36,
   "id": "97ceeae9",
   "metadata": {},
   "outputs": [
    {
     "data": {
      "application/vnd.plotly.v1+json": {
       "config": {
        "plotlyServerURL": "https://plot.ly"
       },
       "data": [
        {
         "alignmentgroup": "True",
         "hovertemplate": "index=%{x}<br>y=%{y}<extra></extra>",
         "legendgroup": "",
         "marker": {
          "color": "#636efa",
          "pattern": {
           "shape": ""
          }
         },
         "name": "",
         "offsetgroup": "",
         "orientation": "v",
         "showlegend": false,
         "textposition": "auto",
         "type": "bar",
         "x": [
          1,
          4,
          2,
          3
         ],
         "xaxis": "x",
         "y": [
          44,
          22,
          10,
          6
         ],
         "yaxis": "y"
        }
       ],
       "layout": {
        "barmode": "relative",
        "legend": {
         "tracegroupgap": 0
        },
        "margin": {
         "t": 60
        },
        "template": {
         "data": {
          "bar": [
           {
            "error_x": {
             "color": "#2a3f5f"
            },
            "error_y": {
             "color": "#2a3f5f"
            },
            "marker": {
             "line": {
              "color": "#E5ECF6",
              "width": 0.5
             },
             "pattern": {
              "fillmode": "overlay",
              "size": 10,
              "solidity": 0.2
             }
            },
            "type": "bar"
           }
          ],
          "barpolar": [
           {
            "marker": {
             "line": {
              "color": "#E5ECF6",
              "width": 0.5
             },
             "pattern": {
              "fillmode": "overlay",
              "size": 10,
              "solidity": 0.2
             }
            },
            "type": "barpolar"
           }
          ],
          "carpet": [
           {
            "aaxis": {
             "endlinecolor": "#2a3f5f",
             "gridcolor": "white",
             "linecolor": "white",
             "minorgridcolor": "white",
             "startlinecolor": "#2a3f5f"
            },
            "baxis": {
             "endlinecolor": "#2a3f5f",
             "gridcolor": "white",
             "linecolor": "white",
             "minorgridcolor": "white",
             "startlinecolor": "#2a3f5f"
            },
            "type": "carpet"
           }
          ],
          "choropleth": [
           {
            "colorbar": {
             "outlinewidth": 0,
             "ticks": ""
            },
            "type": "choropleth"
           }
          ],
          "contour": [
           {
            "colorbar": {
             "outlinewidth": 0,
             "ticks": ""
            },
            "colorscale": [
             [
              0,
              "#0d0887"
             ],
             [
              0.1111111111111111,
              "#46039f"
             ],
             [
              0.2222222222222222,
              "#7201a8"
             ],
             [
              0.3333333333333333,
              "#9c179e"
             ],
             [
              0.4444444444444444,
              "#bd3786"
             ],
             [
              0.5555555555555556,
              "#d8576b"
             ],
             [
              0.6666666666666666,
              "#ed7953"
             ],
             [
              0.7777777777777778,
              "#fb9f3a"
             ],
             [
              0.8888888888888888,
              "#fdca26"
             ],
             [
              1,
              "#f0f921"
             ]
            ],
            "type": "contour"
           }
          ],
          "contourcarpet": [
           {
            "colorbar": {
             "outlinewidth": 0,
             "ticks": ""
            },
            "type": "contourcarpet"
           }
          ],
          "heatmap": [
           {
            "colorbar": {
             "outlinewidth": 0,
             "ticks": ""
            },
            "colorscale": [
             [
              0,
              "#0d0887"
             ],
             [
              0.1111111111111111,
              "#46039f"
             ],
             [
              0.2222222222222222,
              "#7201a8"
             ],
             [
              0.3333333333333333,
              "#9c179e"
             ],
             [
              0.4444444444444444,
              "#bd3786"
             ],
             [
              0.5555555555555556,
              "#d8576b"
             ],
             [
              0.6666666666666666,
              "#ed7953"
             ],
             [
              0.7777777777777778,
              "#fb9f3a"
             ],
             [
              0.8888888888888888,
              "#fdca26"
             ],
             [
              1,
              "#f0f921"
             ]
            ],
            "type": "heatmap"
           }
          ],
          "heatmapgl": [
           {
            "colorbar": {
             "outlinewidth": 0,
             "ticks": ""
            },
            "colorscale": [
             [
              0,
              "#0d0887"
             ],
             [
              0.1111111111111111,
              "#46039f"
             ],
             [
              0.2222222222222222,
              "#7201a8"
             ],
             [
              0.3333333333333333,
              "#9c179e"
             ],
             [
              0.4444444444444444,
              "#bd3786"
             ],
             [
              0.5555555555555556,
              "#d8576b"
             ],
             [
              0.6666666666666666,
              "#ed7953"
             ],
             [
              0.7777777777777778,
              "#fb9f3a"
             ],
             [
              0.8888888888888888,
              "#fdca26"
             ],
             [
              1,
              "#f0f921"
             ]
            ],
            "type": "heatmapgl"
           }
          ],
          "histogram": [
           {
            "marker": {
             "pattern": {
              "fillmode": "overlay",
              "size": 10,
              "solidity": 0.2
             }
            },
            "type": "histogram"
           }
          ],
          "histogram2d": [
           {
            "colorbar": {
             "outlinewidth": 0,
             "ticks": ""
            },
            "colorscale": [
             [
              0,
              "#0d0887"
             ],
             [
              0.1111111111111111,
              "#46039f"
             ],
             [
              0.2222222222222222,
              "#7201a8"
             ],
             [
              0.3333333333333333,
              "#9c179e"
             ],
             [
              0.4444444444444444,
              "#bd3786"
             ],
             [
              0.5555555555555556,
              "#d8576b"
             ],
             [
              0.6666666666666666,
              "#ed7953"
             ],
             [
              0.7777777777777778,
              "#fb9f3a"
             ],
             [
              0.8888888888888888,
              "#fdca26"
             ],
             [
              1,
              "#f0f921"
             ]
            ],
            "type": "histogram2d"
           }
          ],
          "histogram2dcontour": [
           {
            "colorbar": {
             "outlinewidth": 0,
             "ticks": ""
            },
            "colorscale": [
             [
              0,
              "#0d0887"
             ],
             [
              0.1111111111111111,
              "#46039f"
             ],
             [
              0.2222222222222222,
              "#7201a8"
             ],
             [
              0.3333333333333333,
              "#9c179e"
             ],
             [
              0.4444444444444444,
              "#bd3786"
             ],
             [
              0.5555555555555556,
              "#d8576b"
             ],
             [
              0.6666666666666666,
              "#ed7953"
             ],
             [
              0.7777777777777778,
              "#fb9f3a"
             ],
             [
              0.8888888888888888,
              "#fdca26"
             ],
             [
              1,
              "#f0f921"
             ]
            ],
            "type": "histogram2dcontour"
           }
          ],
          "mesh3d": [
           {
            "colorbar": {
             "outlinewidth": 0,
             "ticks": ""
            },
            "type": "mesh3d"
           }
          ],
          "parcoords": [
           {
            "line": {
             "colorbar": {
              "outlinewidth": 0,
              "ticks": ""
             }
            },
            "type": "parcoords"
           }
          ],
          "pie": [
           {
            "automargin": true,
            "type": "pie"
           }
          ],
          "scatter": [
           {
            "fillpattern": {
             "fillmode": "overlay",
             "size": 10,
             "solidity": 0.2
            },
            "type": "scatter"
           }
          ],
          "scatter3d": [
           {
            "line": {
             "colorbar": {
              "outlinewidth": 0,
              "ticks": ""
             }
            },
            "marker": {
             "colorbar": {
              "outlinewidth": 0,
              "ticks": ""
             }
            },
            "type": "scatter3d"
           }
          ],
          "scattercarpet": [
           {
            "marker": {
             "colorbar": {
              "outlinewidth": 0,
              "ticks": ""
             }
            },
            "type": "scattercarpet"
           }
          ],
          "scattergeo": [
           {
            "marker": {
             "colorbar": {
              "outlinewidth": 0,
              "ticks": ""
             }
            },
            "type": "scattergeo"
           }
          ],
          "scattergl": [
           {
            "marker": {
             "colorbar": {
              "outlinewidth": 0,
              "ticks": ""
             }
            },
            "type": "scattergl"
           }
          ],
          "scattermapbox": [
           {
            "marker": {
             "colorbar": {
              "outlinewidth": 0,
              "ticks": ""
             }
            },
            "type": "scattermapbox"
           }
          ],
          "scatterpolar": [
           {
            "marker": {
             "colorbar": {
              "outlinewidth": 0,
              "ticks": ""
             }
            },
            "type": "scatterpolar"
           }
          ],
          "scatterpolargl": [
           {
            "marker": {
             "colorbar": {
              "outlinewidth": 0,
              "ticks": ""
             }
            },
            "type": "scatterpolargl"
           }
          ],
          "scatterternary": [
           {
            "marker": {
             "colorbar": {
              "outlinewidth": 0,
              "ticks": ""
             }
            },
            "type": "scatterternary"
           }
          ],
          "surface": [
           {
            "colorbar": {
             "outlinewidth": 0,
             "ticks": ""
            },
            "colorscale": [
             [
              0,
              "#0d0887"
             ],
             [
              0.1111111111111111,
              "#46039f"
             ],
             [
              0.2222222222222222,
              "#7201a8"
             ],
             [
              0.3333333333333333,
              "#9c179e"
             ],
             [
              0.4444444444444444,
              "#bd3786"
             ],
             [
              0.5555555555555556,
              "#d8576b"
             ],
             [
              0.6666666666666666,
              "#ed7953"
             ],
             [
              0.7777777777777778,
              "#fb9f3a"
             ],
             [
              0.8888888888888888,
              "#fdca26"
             ],
             [
              1,
              "#f0f921"
             ]
            ],
            "type": "surface"
           }
          ],
          "table": [
           {
            "cells": {
             "fill": {
              "color": "#EBF0F8"
             },
             "line": {
              "color": "white"
             }
            },
            "header": {
             "fill": {
              "color": "#C8D4E3"
             },
             "line": {
              "color": "white"
             }
            },
            "type": "table"
           }
          ]
         },
         "layout": {
          "annotationdefaults": {
           "arrowcolor": "#2a3f5f",
           "arrowhead": 0,
           "arrowwidth": 1
          },
          "autotypenumbers": "strict",
          "coloraxis": {
           "colorbar": {
            "outlinewidth": 0,
            "ticks": ""
           }
          },
          "colorscale": {
           "diverging": [
            [
             0,
             "#8e0152"
            ],
            [
             0.1,
             "#c51b7d"
            ],
            [
             0.2,
             "#de77ae"
            ],
            [
             0.3,
             "#f1b6da"
            ],
            [
             0.4,
             "#fde0ef"
            ],
            [
             0.5,
             "#f7f7f7"
            ],
            [
             0.6,
             "#e6f5d0"
            ],
            [
             0.7,
             "#b8e186"
            ],
            [
             0.8,
             "#7fbc41"
            ],
            [
             0.9,
             "#4d9221"
            ],
            [
             1,
             "#276419"
            ]
           ],
           "sequential": [
            [
             0,
             "#0d0887"
            ],
            [
             0.1111111111111111,
             "#46039f"
            ],
            [
             0.2222222222222222,
             "#7201a8"
            ],
            [
             0.3333333333333333,
             "#9c179e"
            ],
            [
             0.4444444444444444,
             "#bd3786"
            ],
            [
             0.5555555555555556,
             "#d8576b"
            ],
            [
             0.6666666666666666,
             "#ed7953"
            ],
            [
             0.7777777777777778,
             "#fb9f3a"
            ],
            [
             0.8888888888888888,
             "#fdca26"
            ],
            [
             1,
             "#f0f921"
            ]
           ],
           "sequentialminus": [
            [
             0,
             "#0d0887"
            ],
            [
             0.1111111111111111,
             "#46039f"
            ],
            [
             0.2222222222222222,
             "#7201a8"
            ],
            [
             0.3333333333333333,
             "#9c179e"
            ],
            [
             0.4444444444444444,
             "#bd3786"
            ],
            [
             0.5555555555555556,
             "#d8576b"
            ],
            [
             0.6666666666666666,
             "#ed7953"
            ],
            [
             0.7777777777777778,
             "#fb9f3a"
            ],
            [
             0.8888888888888888,
             "#fdca26"
            ],
            [
             1,
             "#f0f921"
            ]
           ]
          },
          "colorway": [
           "#636efa",
           "#EF553B",
           "#00cc96",
           "#ab63fa",
           "#FFA15A",
           "#19d3f3",
           "#FF6692",
           "#B6E880",
           "#FF97FF",
           "#FECB52"
          ],
          "font": {
           "color": "#2a3f5f"
          },
          "geo": {
           "bgcolor": "white",
           "lakecolor": "white",
           "landcolor": "#E5ECF6",
           "showlakes": true,
           "showland": true,
           "subunitcolor": "white"
          },
          "hoverlabel": {
           "align": "left"
          },
          "hovermode": "closest",
          "mapbox": {
           "style": "light"
          },
          "paper_bgcolor": "white",
          "plot_bgcolor": "#E5ECF6",
          "polar": {
           "angularaxis": {
            "gridcolor": "white",
            "linecolor": "white",
            "ticks": ""
           },
           "bgcolor": "#E5ECF6",
           "radialaxis": {
            "gridcolor": "white",
            "linecolor": "white",
            "ticks": ""
           }
          },
          "scene": {
           "xaxis": {
            "backgroundcolor": "#E5ECF6",
            "gridcolor": "white",
            "gridwidth": 2,
            "linecolor": "white",
            "showbackground": true,
            "ticks": "",
            "zerolinecolor": "white"
           },
           "yaxis": {
            "backgroundcolor": "#E5ECF6",
            "gridcolor": "white",
            "gridwidth": 2,
            "linecolor": "white",
            "showbackground": true,
            "ticks": "",
            "zerolinecolor": "white"
           },
           "zaxis": {
            "backgroundcolor": "#E5ECF6",
            "gridcolor": "white",
            "gridwidth": 2,
            "linecolor": "white",
            "showbackground": true,
            "ticks": "",
            "zerolinecolor": "white"
           }
          },
          "shapedefaults": {
           "line": {
            "color": "#2a3f5f"
           }
          },
          "ternary": {
           "aaxis": {
            "gridcolor": "white",
            "linecolor": "white",
            "ticks": ""
           },
           "baxis": {
            "gridcolor": "white",
            "linecolor": "white",
            "ticks": ""
           },
           "bgcolor": "#E5ECF6",
           "caxis": {
            "gridcolor": "white",
            "linecolor": "white",
            "ticks": ""
           }
          },
          "title": {
           "x": 0.05
          },
          "xaxis": {
           "automargin": true,
           "gridcolor": "white",
           "linecolor": "white",
           "ticks": "",
           "title": {
            "standoff": 15
           },
           "zerolinecolor": "white",
           "zerolinewidth": 2
          },
          "yaxis": {
           "automargin": true,
           "gridcolor": "white",
           "linecolor": "white",
           "ticks": "",
           "title": {
            "standoff": 15
           },
           "zerolinecolor": "white",
           "zerolinewidth": 2
          }
         }
        },
        "xaxis": {
         "anchor": "y",
         "domain": [
          0,
          1
         ],
         "title": {
          "text": "index"
         }
        },
        "yaxis": {
         "anchor": "x",
         "domain": [
          0,
          1
         ],
         "title": {
          "text": "y"
         }
        }
       }
      },
      "text/html": [
       "<div>                            <div id=\"dd257c90-7ba2-4820-b4ba-3de8b9b321fb\" class=\"plotly-graph-div\" style=\"height:525px; width:100%;\"></div>            <script type=\"text/javascript\">                require([\"plotly\"], function(Plotly) {                    window.PLOTLYENV=window.PLOTLYENV || {};                                    if (document.getElementById(\"dd257c90-7ba2-4820-b4ba-3de8b9b321fb\")) {                    Plotly.newPlot(                        \"dd257c90-7ba2-4820-b4ba-3de8b9b321fb\",                        [{\"alignmentgroup\":\"True\",\"hovertemplate\":\"index=%{x}<br>y=%{y}<extra></extra>\",\"legendgroup\":\"\",\"marker\":{\"color\":\"#636efa\",\"pattern\":{\"shape\":\"\"}},\"name\":\"\",\"offsetgroup\":\"\",\"orientation\":\"v\",\"showlegend\":false,\"textposition\":\"auto\",\"x\":[1.0,4.0,2.0,3.0],\"xaxis\":\"x\",\"y\":[44,22,10,6],\"yaxis\":\"y\",\"type\":\"bar\"}],                        {\"template\":{\"data\":{\"histogram2dcontour\":[{\"type\":\"histogram2dcontour\",\"colorbar\":{\"outlinewidth\":0,\"ticks\":\"\"},\"colorscale\":[[0.0,\"#0d0887\"],[0.1111111111111111,\"#46039f\"],[0.2222222222222222,\"#7201a8\"],[0.3333333333333333,\"#9c179e\"],[0.4444444444444444,\"#bd3786\"],[0.5555555555555556,\"#d8576b\"],[0.6666666666666666,\"#ed7953\"],[0.7777777777777778,\"#fb9f3a\"],[0.8888888888888888,\"#fdca26\"],[1.0,\"#f0f921\"]]}],\"choropleth\":[{\"type\":\"choropleth\",\"colorbar\":{\"outlinewidth\":0,\"ticks\":\"\"}}],\"histogram2d\":[{\"type\":\"histogram2d\",\"colorbar\":{\"outlinewidth\":0,\"ticks\":\"\"},\"colorscale\":[[0.0,\"#0d0887\"],[0.1111111111111111,\"#46039f\"],[0.2222222222222222,\"#7201a8\"],[0.3333333333333333,\"#9c179e\"],[0.4444444444444444,\"#bd3786\"],[0.5555555555555556,\"#d8576b\"],[0.6666666666666666,\"#ed7953\"],[0.7777777777777778,\"#fb9f3a\"],[0.8888888888888888,\"#fdca26\"],[1.0,\"#f0f921\"]]}],\"heatmap\":[{\"type\":\"heatmap\",\"colorbar\":{\"outlinewidth\":0,\"ticks\":\"\"},\"colorscale\":[[0.0,\"#0d0887\"],[0.1111111111111111,\"#46039f\"],[0.2222222222222222,\"#7201a8\"],[0.3333333333333333,\"#9c179e\"],[0.4444444444444444,\"#bd3786\"],[0.5555555555555556,\"#d8576b\"],[0.6666666666666666,\"#ed7953\"],[0.7777777777777778,\"#fb9f3a\"],[0.8888888888888888,\"#fdca26\"],[1.0,\"#f0f921\"]]}],\"heatmapgl\":[{\"type\":\"heatmapgl\",\"colorbar\":{\"outlinewidth\":0,\"ticks\":\"\"},\"colorscale\":[[0.0,\"#0d0887\"],[0.1111111111111111,\"#46039f\"],[0.2222222222222222,\"#7201a8\"],[0.3333333333333333,\"#9c179e\"],[0.4444444444444444,\"#bd3786\"],[0.5555555555555556,\"#d8576b\"],[0.6666666666666666,\"#ed7953\"],[0.7777777777777778,\"#fb9f3a\"],[0.8888888888888888,\"#fdca26\"],[1.0,\"#f0f921\"]]}],\"contourcarpet\":[{\"type\":\"contourcarpet\",\"colorbar\":{\"outlinewidth\":0,\"ticks\":\"\"}}],\"contour\":[{\"type\":\"contour\",\"colorbar\":{\"outlinewidth\":0,\"ticks\":\"\"},\"colorscale\":[[0.0,\"#0d0887\"],[0.1111111111111111,\"#46039f\"],[0.2222222222222222,\"#7201a8\"],[0.3333333333333333,\"#9c179e\"],[0.4444444444444444,\"#bd3786\"],[0.5555555555555556,\"#d8576b\"],[0.6666666666666666,\"#ed7953\"],[0.7777777777777778,\"#fb9f3a\"],[0.8888888888888888,\"#fdca26\"],[1.0,\"#f0f921\"]]}],\"surface\":[{\"type\":\"surface\",\"colorbar\":{\"outlinewidth\":0,\"ticks\":\"\"},\"colorscale\":[[0.0,\"#0d0887\"],[0.1111111111111111,\"#46039f\"],[0.2222222222222222,\"#7201a8\"],[0.3333333333333333,\"#9c179e\"],[0.4444444444444444,\"#bd3786\"],[0.5555555555555556,\"#d8576b\"],[0.6666666666666666,\"#ed7953\"],[0.7777777777777778,\"#fb9f3a\"],[0.8888888888888888,\"#fdca26\"],[1.0,\"#f0f921\"]]}],\"mesh3d\":[{\"type\":\"mesh3d\",\"colorbar\":{\"outlinewidth\":0,\"ticks\":\"\"}}],\"scatter\":[{\"fillpattern\":{\"fillmode\":\"overlay\",\"size\":10,\"solidity\":0.2},\"type\":\"scatter\"}],\"parcoords\":[{\"type\":\"parcoords\",\"line\":{\"colorbar\":{\"outlinewidth\":0,\"ticks\":\"\"}}}],\"scatterpolargl\":[{\"type\":\"scatterpolargl\",\"marker\":{\"colorbar\":{\"outlinewidth\":0,\"ticks\":\"\"}}}],\"bar\":[{\"error_x\":{\"color\":\"#2a3f5f\"},\"error_y\":{\"color\":\"#2a3f5f\"},\"marker\":{\"line\":{\"color\":\"#E5ECF6\",\"width\":0.5},\"pattern\":{\"fillmode\":\"overlay\",\"size\":10,\"solidity\":0.2}},\"type\":\"bar\"}],\"scattergeo\":[{\"type\":\"scattergeo\",\"marker\":{\"colorbar\":{\"outlinewidth\":0,\"ticks\":\"\"}}}],\"scatterpolar\":[{\"type\":\"scatterpolar\",\"marker\":{\"colorbar\":{\"outlinewidth\":0,\"ticks\":\"\"}}}],\"histogram\":[{\"marker\":{\"pattern\":{\"fillmode\":\"overlay\",\"size\":10,\"solidity\":0.2}},\"type\":\"histogram\"}],\"scattergl\":[{\"type\":\"scattergl\",\"marker\":{\"colorbar\":{\"outlinewidth\":0,\"ticks\":\"\"}}}],\"scatter3d\":[{\"type\":\"scatter3d\",\"line\":{\"colorbar\":{\"outlinewidth\":0,\"ticks\":\"\"}},\"marker\":{\"colorbar\":{\"outlinewidth\":0,\"ticks\":\"\"}}}],\"scattermapbox\":[{\"type\":\"scattermapbox\",\"marker\":{\"colorbar\":{\"outlinewidth\":0,\"ticks\":\"\"}}}],\"scatterternary\":[{\"type\":\"scatterternary\",\"marker\":{\"colorbar\":{\"outlinewidth\":0,\"ticks\":\"\"}}}],\"scattercarpet\":[{\"type\":\"scattercarpet\",\"marker\":{\"colorbar\":{\"outlinewidth\":0,\"ticks\":\"\"}}}],\"carpet\":[{\"aaxis\":{\"endlinecolor\":\"#2a3f5f\",\"gridcolor\":\"white\",\"linecolor\":\"white\",\"minorgridcolor\":\"white\",\"startlinecolor\":\"#2a3f5f\"},\"baxis\":{\"endlinecolor\":\"#2a3f5f\",\"gridcolor\":\"white\",\"linecolor\":\"white\",\"minorgridcolor\":\"white\",\"startlinecolor\":\"#2a3f5f\"},\"type\":\"carpet\"}],\"table\":[{\"cells\":{\"fill\":{\"color\":\"#EBF0F8\"},\"line\":{\"color\":\"white\"}},\"header\":{\"fill\":{\"color\":\"#C8D4E3\"},\"line\":{\"color\":\"white\"}},\"type\":\"table\"}],\"barpolar\":[{\"marker\":{\"line\":{\"color\":\"#E5ECF6\",\"width\":0.5},\"pattern\":{\"fillmode\":\"overlay\",\"size\":10,\"solidity\":0.2}},\"type\":\"barpolar\"}],\"pie\":[{\"automargin\":true,\"type\":\"pie\"}]},\"layout\":{\"autotypenumbers\":\"strict\",\"colorway\":[\"#636efa\",\"#EF553B\",\"#00cc96\",\"#ab63fa\",\"#FFA15A\",\"#19d3f3\",\"#FF6692\",\"#B6E880\",\"#FF97FF\",\"#FECB52\"],\"font\":{\"color\":\"#2a3f5f\"},\"hovermode\":\"closest\",\"hoverlabel\":{\"align\":\"left\"},\"paper_bgcolor\":\"white\",\"plot_bgcolor\":\"#E5ECF6\",\"polar\":{\"bgcolor\":\"#E5ECF6\",\"angularaxis\":{\"gridcolor\":\"white\",\"linecolor\":\"white\",\"ticks\":\"\"},\"radialaxis\":{\"gridcolor\":\"white\",\"linecolor\":\"white\",\"ticks\":\"\"}},\"ternary\":{\"bgcolor\":\"#E5ECF6\",\"aaxis\":{\"gridcolor\":\"white\",\"linecolor\":\"white\",\"ticks\":\"\"},\"baxis\":{\"gridcolor\":\"white\",\"linecolor\":\"white\",\"ticks\":\"\"},\"caxis\":{\"gridcolor\":\"white\",\"linecolor\":\"white\",\"ticks\":\"\"}},\"coloraxis\":{\"colorbar\":{\"outlinewidth\":0,\"ticks\":\"\"}},\"colorscale\":{\"sequential\":[[0.0,\"#0d0887\"],[0.1111111111111111,\"#46039f\"],[0.2222222222222222,\"#7201a8\"],[0.3333333333333333,\"#9c179e\"],[0.4444444444444444,\"#bd3786\"],[0.5555555555555556,\"#d8576b\"],[0.6666666666666666,\"#ed7953\"],[0.7777777777777778,\"#fb9f3a\"],[0.8888888888888888,\"#fdca26\"],[1.0,\"#f0f921\"]],\"sequentialminus\":[[0.0,\"#0d0887\"],[0.1111111111111111,\"#46039f\"],[0.2222222222222222,\"#7201a8\"],[0.3333333333333333,\"#9c179e\"],[0.4444444444444444,\"#bd3786\"],[0.5555555555555556,\"#d8576b\"],[0.6666666666666666,\"#ed7953\"],[0.7777777777777778,\"#fb9f3a\"],[0.8888888888888888,\"#fdca26\"],[1.0,\"#f0f921\"]],\"diverging\":[[0,\"#8e0152\"],[0.1,\"#c51b7d\"],[0.2,\"#de77ae\"],[0.3,\"#f1b6da\"],[0.4,\"#fde0ef\"],[0.5,\"#f7f7f7\"],[0.6,\"#e6f5d0\"],[0.7,\"#b8e186\"],[0.8,\"#7fbc41\"],[0.9,\"#4d9221\"],[1,\"#276419\"]]},\"xaxis\":{\"gridcolor\":\"white\",\"linecolor\":\"white\",\"ticks\":\"\",\"title\":{\"standoff\":15},\"zerolinecolor\":\"white\",\"automargin\":true,\"zerolinewidth\":2},\"yaxis\":{\"gridcolor\":\"white\",\"linecolor\":\"white\",\"ticks\":\"\",\"title\":{\"standoff\":15},\"zerolinecolor\":\"white\",\"automargin\":true,\"zerolinewidth\":2},\"scene\":{\"xaxis\":{\"backgroundcolor\":\"#E5ECF6\",\"gridcolor\":\"white\",\"linecolor\":\"white\",\"showbackground\":true,\"ticks\":\"\",\"zerolinecolor\":\"white\",\"gridwidth\":2},\"yaxis\":{\"backgroundcolor\":\"#E5ECF6\",\"gridcolor\":\"white\",\"linecolor\":\"white\",\"showbackground\":true,\"ticks\":\"\",\"zerolinecolor\":\"white\",\"gridwidth\":2},\"zaxis\":{\"backgroundcolor\":\"#E5ECF6\",\"gridcolor\":\"white\",\"linecolor\":\"white\",\"showbackground\":true,\"ticks\":\"\",\"zerolinecolor\":\"white\",\"gridwidth\":2}},\"shapedefaults\":{\"line\":{\"color\":\"#2a3f5f\"}},\"annotationdefaults\":{\"arrowcolor\":\"#2a3f5f\",\"arrowhead\":0,\"arrowwidth\":1},\"geo\":{\"bgcolor\":\"white\",\"landcolor\":\"#E5ECF6\",\"subunitcolor\":\"white\",\"showland\":true,\"showlakes\":true,\"lakecolor\":\"white\"},\"title\":{\"x\":0.05},\"mapbox\":{\"style\":\"light\"}}},\"xaxis\":{\"anchor\":\"y\",\"domain\":[0.0,1.0],\"title\":{\"text\":\"index\"}},\"yaxis\":{\"anchor\":\"x\",\"domain\":[0.0,1.0],\"title\":{\"text\":\"y\"}},\"legend\":{\"tracegroupgap\":0},\"margin\":{\"t\":60},\"barmode\":\"relative\"},                        {\"responsive\": true}                    ).then(function(){\n",
       "                            \n",
       "var gd = document.getElementById('dd257c90-7ba2-4820-b4ba-3de8b9b321fb');\n",
       "var x = new MutationObserver(function (mutations, observer) {{\n",
       "        var display = window.getComputedStyle(gd).display;\n",
       "        if (!display || display === 'none') {{\n",
       "            console.log([gd, 'removed!']);\n",
       "            Plotly.purge(gd);\n",
       "            observer.disconnect();\n",
       "        }}\n",
       "}});\n",
       "\n",
       "// Listen for the removal of the full notebook cells\n",
       "var notebookContainer = gd.closest('#notebook-container');\n",
       "if (notebookContainer) {{\n",
       "    x.observe(notebookContainer, {childList: true});\n",
       "}}\n",
       "\n",
       "// Listen for the clearing of the current output cell\n",
       "var outputEl = gd.closest('.output');\n",
       "if (outputEl) {{\n",
       "    x.observe(outputEl, {childList: true});\n",
       "}}\n",
       "\n",
       "                        })                };                });            </script>        </div>"
      ]
     },
     "metadata": {},
     "output_type": "display_data"
    }
   ],
   "source": [
    "counts2 = data['Calculated column'].value_counts()\n",
    "fig = px.bar(counts2, x=counts2.index, y=counts2.values)\n",
    "fig.show()"
   ]
  },
  {
   "cell_type": "code",
   "execution_count": 37,
   "id": "cb96b0d7",
   "metadata": {},
   "outputs": [],
   "source": [
    "#Droped what I want to predict\n",
    "\n",
    "data2 = data.drop(['Q15', 'Calculated column'],axis = 1)"
   ]
  },
  {
   "cell_type": "code",
   "execution_count": 38,
   "id": "8727b76d",
   "metadata": {},
   "outputs": [
    {
     "data": {
      "text/html": [
       "<div>\n",
       "<style scoped>\n",
       "    .dataframe tbody tr th:only-of-type {\n",
       "        vertical-align: middle;\n",
       "    }\n",
       "\n",
       "    .dataframe tbody tr th {\n",
       "        vertical-align: top;\n",
       "    }\n",
       "\n",
       "    .dataframe thead th {\n",
       "        text-align: right;\n",
       "    }\n",
       "</style>\n",
       "<table border=\"1\" class=\"dataframe\">\n",
       "  <thead>\n",
       "    <tr style=\"text-align: right;\">\n",
       "      <th></th>\n",
       "      <th>Q1</th>\n",
       "      <th>Q2</th>\n",
       "      <th>Q3</th>\n",
       "      <th>Q4</th>\n",
       "      <th>Q5</th>\n",
       "      <th>Q6</th>\n",
       "      <th>Q7</th>\n",
       "      <th>Q8</th>\n",
       "      <th>Q9</th>\n",
       "      <th>Q10</th>\n",
       "      <th>Q11</th>\n",
       "      <th>Q12</th>\n",
       "      <th>Q13</th>\n",
       "      <th>Q14</th>\n",
       "    </tr>\n",
       "  </thead>\n",
       "  <tbody>\n",
       "    <tr>\n",
       "      <th>0</th>\n",
       "      <td>28</td>\n",
       "      <td>Male</td>\n",
       "      <td>Netflix;HBO Max;Amazon Prime Video</td>\n",
       "      <td>Between 1 hour and 3 hours</td>\n",
       "      <td>Yes</td>\n",
       "      <td>Flat panel television</td>\n",
       "      <td>Greater variety and better content</td>\n",
       "      <td>Tablet;Television</td>\n",
       "      <td>Tablet;Television</td>\n",
       "      <td>Yes</td>\n",
       "      <td>Between 30 minutes and 1 hour</td>\n",
       "      <td>Football Matches</td>\n",
       "      <td>News;Sports</td>\n",
       "      <td>Watching videos on your smartphone;Watching Ne...</td>\n",
       "    </tr>\n",
       "    <tr>\n",
       "      <th>1</th>\n",
       "      <td>37</td>\n",
       "      <td>Female</td>\n",
       "      <td>Netflix</td>\n",
       "      <td>More than 3 hours</td>\n",
       "      <td>Yes</td>\n",
       "      <td>Laptop/Desktop;Flat panel television</td>\n",
       "      <td>Access to content at any time;Greater variety ...</td>\n",
       "      <td>Laptop/Desktop;Television</td>\n",
       "      <td>Television</td>\n",
       "      <td>Yes</td>\n",
       "      <td>Between 1 hour and 3 hours</td>\n",
       "      <td>For the programming content</td>\n",
       "      <td>News;Soap Operas;Movies;Sports</td>\n",
       "      <td>Watching Netflix or other streaming platform</td>\n",
       "    </tr>\n",
       "    <tr>\n",
       "      <th>2</th>\n",
       "      <td>29</td>\n",
       "      <td>Female</td>\n",
       "      <td>Netflix;HBO Max;Disney +</td>\n",
       "      <td>Between 1 hour and 3 hours</td>\n",
       "      <td>Yes</td>\n",
       "      <td>Smartphone;Laptop/Desktop;Flat panel television</td>\n",
       "      <td>Access to content at any time;Greater variety ...</td>\n",
       "      <td>Television</td>\n",
       "      <td>I do not watch sports</td>\n",
       "      <td>Yes</td>\n",
       "      <td>Between 30 minutes and 1 hour</td>\n",
       "      <td>Live shows;Football Matches</td>\n",
       "      <td>News</td>\n",
       "      <td>Watching television;Watching videos on your sm...</td>\n",
       "    </tr>\n",
       "    <tr>\n",
       "      <th>3</th>\n",
       "      <td>40 - 64</td>\n",
       "      <td>Female</td>\n",
       "      <td>Netflix</td>\n",
       "      <td>Between 1 hour and 3 hours</td>\n",
       "      <td>Yes</td>\n",
       "      <td>Smartphone</td>\n",
       "      <td>Access to content at any time;More freedom</td>\n",
       "      <td>Smartphone;Television</td>\n",
       "      <td>Television</td>\n",
       "      <td>Yes</td>\n",
       "      <td>More than 3 hours</td>\n",
       "      <td>For the programming content</td>\n",
       "      <td>News;Movies;Series;Programas de Entretenimento</td>\n",
       "      <td>Watching television</td>\n",
       "    </tr>\n",
       "    <tr>\n",
       "      <th>4</th>\n",
       "      <td>25 - 39</td>\n",
       "      <td>Female</td>\n",
       "      <td>Netflix;HBO Max;Disney +</td>\n",
       "      <td>Between 30 minutes and 1 hour</td>\n",
       "      <td>Yes</td>\n",
       "      <td>Laptop/Desktop;Flat panel television</td>\n",
       "      <td>Access to content at any time;Greater variety ...</td>\n",
       "      <td>Laptop/Desktop;Television</td>\n",
       "      <td>I do not watch sports</td>\n",
       "      <td>No</td>\n",
       "      <td>No more than 30 minutes</td>\n",
       "      <td>I don't</td>\n",
       "      <td>I don't</td>\n",
       "      <td>Turn on the Laptop/Desktop;Watching Netflix or...</td>\n",
       "    </tr>\n",
       "    <tr>\n",
       "      <th>...</th>\n",
       "      <td>...</td>\n",
       "      <td>...</td>\n",
       "      <td>...</td>\n",
       "      <td>...</td>\n",
       "      <td>...</td>\n",
       "      <td>...</td>\n",
       "      <td>...</td>\n",
       "      <td>...</td>\n",
       "      <td>...</td>\n",
       "      <td>...</td>\n",
       "      <td>...</td>\n",
       "      <td>...</td>\n",
       "      <td>...</td>\n",
       "      <td>...</td>\n",
       "    </tr>\n",
       "    <tr>\n",
       "      <th>77</th>\n",
       "      <td>16 - 24</td>\n",
       "      <td>Female</td>\n",
       "      <td>Netflix</td>\n",
       "      <td>Between 30 minutes and 1 hour</td>\n",
       "      <td>Yes</td>\n",
       "      <td>Smartphone;Laptop/Desktop</td>\n",
       "      <td>Most convenient</td>\n",
       "      <td>Laptop/Desktop</td>\n",
       "      <td>I do not watch sports</td>\n",
       "      <td>No</td>\n",
       "      <td>No more than 30 minutes</td>\n",
       "      <td>News, cooking shows</td>\n",
       "      <td>News</td>\n",
       "      <td>Turn on the Laptop/Desktop</td>\n",
       "    </tr>\n",
       "    <tr>\n",
       "      <th>78</th>\n",
       "      <td>25 - 39</td>\n",
       "      <td>Male</td>\n",
       "      <td>Netflix;HBO Max;Amazon Prime Video</td>\n",
       "      <td>Between 30 minutes and 1 hour</td>\n",
       "      <td>No</td>\n",
       "      <td>Flat panel television</td>\n",
       "      <td>Most convenient</td>\n",
       "      <td>Television</td>\n",
       "      <td>I do not watch sports</td>\n",
       "      <td>No</td>\n",
       "      <td>missing_answer</td>\n",
       "      <td>missing_answer</td>\n",
       "      <td>missing_answer</td>\n",
       "      <td>Turn on the Laptop/Desktop</td>\n",
       "    </tr>\n",
       "    <tr>\n",
       "      <th>79</th>\n",
       "      <td>25 - 39</td>\n",
       "      <td>Male</td>\n",
       "      <td>Netflix;HBO Max</td>\n",
       "      <td>Between 30 minutes and 1 hour</td>\n",
       "      <td>Yes</td>\n",
       "      <td>Laptop/Desktop</td>\n",
       "      <td>Access to content at any time;Most convenient</td>\n",
       "      <td>Laptop/Desktop</td>\n",
       "      <td>I do not watch sports</td>\n",
       "      <td>No</td>\n",
       "      <td>No more than 30 minutes</td>\n",
       "      <td>missing_answer</td>\n",
       "      <td>missing_answer</td>\n",
       "      <td>Turn on the Laptop/Desktop</td>\n",
       "    </tr>\n",
       "    <tr>\n",
       "      <th>80</th>\n",
       "      <td>25 - 39</td>\n",
       "      <td>Male</td>\n",
       "      <td>Netflix</td>\n",
       "      <td>Between 30 minutes and 1 hour</td>\n",
       "      <td>Yes</td>\n",
       "      <td>Laptop/Desktop</td>\n",
       "      <td>Time to relax</td>\n",
       "      <td>Laptop/Desktop</td>\n",
       "      <td>Laptop/Desktop</td>\n",
       "      <td>No</td>\n",
       "      <td>missing_answer</td>\n",
       "      <td>missing_answer</td>\n",
       "      <td>missing_answer</td>\n",
       "      <td>Watching videos on your smartphone</td>\n",
       "    </tr>\n",
       "    <tr>\n",
       "      <th>81</th>\n",
       "      <td>More than 65</td>\n",
       "      <td>Female</td>\n",
       "      <td>Netflix;HBO Max;Amazon Prime Video</td>\n",
       "      <td>Between 1 hour and 3 hours</td>\n",
       "      <td>Yes</td>\n",
       "      <td>Flat panel television</td>\n",
       "      <td>Most convenient</td>\n",
       "      <td>Television</td>\n",
       "      <td>I do not watch sports</td>\n",
       "      <td>Yes</td>\n",
       "      <td>More than 3 hours</td>\n",
       "      <td>Larger variety of channels</td>\n",
       "      <td>News;Movies;Series</td>\n",
       "      <td>Watching television</td>\n",
       "    </tr>\n",
       "  </tbody>\n",
       "</table>\n",
       "<p>82 rows × 14 columns</p>\n",
       "</div>"
      ],
      "text/plain": [
       "              Q1      Q2                                  Q3  \\\n",
       "0             28    Male  Netflix;HBO Max;Amazon Prime Video   \n",
       "1             37  Female                             Netflix   \n",
       "2             29  Female            Netflix;HBO Max;Disney +   \n",
       "3        40 - 64  Female                             Netflix   \n",
       "4        25 - 39  Female            Netflix;HBO Max;Disney +   \n",
       "..           ...     ...                                 ...   \n",
       "77       16 - 24  Female                             Netflix   \n",
       "78       25 - 39    Male  Netflix;HBO Max;Amazon Prime Video   \n",
       "79       25 - 39    Male                     Netflix;HBO Max   \n",
       "80       25 - 39    Male                             Netflix   \n",
       "81  More than 65  Female  Netflix;HBO Max;Amazon Prime Video   \n",
       "\n",
       "                               Q4   Q5  \\\n",
       "0      Between 1 hour and 3 hours  Yes   \n",
       "1               More than 3 hours  Yes   \n",
       "2      Between 1 hour and 3 hours  Yes   \n",
       "3      Between 1 hour and 3 hours  Yes   \n",
       "4   Between 30 minutes and 1 hour  Yes   \n",
       "..                            ...  ...   \n",
       "77  Between 30 minutes and 1 hour  Yes   \n",
       "78  Between 30 minutes and 1 hour   No   \n",
       "79  Between 30 minutes and 1 hour  Yes   \n",
       "80  Between 30 minutes and 1 hour  Yes   \n",
       "81     Between 1 hour and 3 hours  Yes   \n",
       "\n",
       "                                                 Q6  \\\n",
       "0                             Flat panel television   \n",
       "1              Laptop/Desktop;Flat panel television   \n",
       "2   Smartphone;Laptop/Desktop;Flat panel television   \n",
       "3                                        Smartphone   \n",
       "4              Laptop/Desktop;Flat panel television   \n",
       "..                                              ...   \n",
       "77                        Smartphone;Laptop/Desktop   \n",
       "78                            Flat panel television   \n",
       "79                                   Laptop/Desktop   \n",
       "80                                   Laptop/Desktop   \n",
       "81                            Flat panel television   \n",
       "\n",
       "                                                   Q7  \\\n",
       "0                  Greater variety and better content   \n",
       "1   Access to content at any time;Greater variety ...   \n",
       "2   Access to content at any time;Greater variety ...   \n",
       "3          Access to content at any time;More freedom   \n",
       "4   Access to content at any time;Greater variety ...   \n",
       "..                                                ...   \n",
       "77                                    Most convenient   \n",
       "78                                    Most convenient   \n",
       "79      Access to content at any time;Most convenient   \n",
       "80                                      Time to relax   \n",
       "81                                    Most convenient   \n",
       "\n",
       "                           Q8                     Q9  Q10  \\\n",
       "0           Tablet;Television      Tablet;Television  Yes   \n",
       "1   Laptop/Desktop;Television             Television  Yes   \n",
       "2                  Television  I do not watch sports  Yes   \n",
       "3       Smartphone;Television             Television  Yes   \n",
       "4   Laptop/Desktop;Television  I do not watch sports   No   \n",
       "..                        ...                    ...  ...   \n",
       "77             Laptop/Desktop  I do not watch sports   No   \n",
       "78                 Television  I do not watch sports   No   \n",
       "79             Laptop/Desktop  I do not watch sports   No   \n",
       "80             Laptop/Desktop         Laptop/Desktop   No   \n",
       "81                 Television  I do not watch sports  Yes   \n",
       "\n",
       "                              Q11                          Q12  \\\n",
       "0   Between 30 minutes and 1 hour             Football Matches   \n",
       "1      Between 1 hour and 3 hours  For the programming content   \n",
       "2   Between 30 minutes and 1 hour  Live shows;Football Matches   \n",
       "3               More than 3 hours  For the programming content   \n",
       "4         No more than 30 minutes                     I don't    \n",
       "..                            ...                          ...   \n",
       "77        No more than 30 minutes          News, cooking shows   \n",
       "78                 missing_answer               missing_answer   \n",
       "79        No more than 30 minutes               missing_answer   \n",
       "80                 missing_answer               missing_answer   \n",
       "81              More than 3 hours   Larger variety of channels   \n",
       "\n",
       "                                                Q13  \\\n",
       "0                                       News;Sports   \n",
       "1                    News;Soap Operas;Movies;Sports   \n",
       "2                                              News   \n",
       "3   News;Movies;Series;Programas de Entretenimento    \n",
       "4                                          I don't    \n",
       "..                                              ...   \n",
       "77                                             News   \n",
       "78                                   missing_answer   \n",
       "79                                   missing_answer   \n",
       "80                                   missing_answer   \n",
       "81                               News;Movies;Series   \n",
       "\n",
       "                                                  Q14  \n",
       "0   Watching videos on your smartphone;Watching Ne...  \n",
       "1        Watching Netflix or other streaming platform  \n",
       "2   Watching television;Watching videos on your sm...  \n",
       "3                                 Watching television  \n",
       "4   Turn on the Laptop/Desktop;Watching Netflix or...  \n",
       "..                                                ...  \n",
       "77                         Turn on the Laptop/Desktop  \n",
       "78                         Turn on the Laptop/Desktop  \n",
       "79                         Turn on the Laptop/Desktop  \n",
       "80                 Watching videos on your smartphone  \n",
       "81                                Watching television  \n",
       "\n",
       "[82 rows x 14 columns]"
      ]
     },
     "execution_count": 38,
     "metadata": {},
     "output_type": "execute_result"
    }
   ],
   "source": [
    "data2"
   ]
  },
  {
   "cell_type": "code",
   "execution_count": 39,
   "id": "0e63181d",
   "metadata": {},
   "outputs": [],
   "source": [
    "#One hot encoder to all my dataframe, in my categorical variables\n",
    "\n",
    "X = pd.DataFrame(OneHotEncoder().fit(pd.DataFrame(data2)).transform(pd.DataFrame(data2)).toarray())"
   ]
  },
  {
   "cell_type": "code",
   "execution_count": 40,
   "id": "9e1fc6ab",
   "metadata": {},
   "outputs": [
    {
     "data": {
      "text/html": [
       "<div>\n",
       "<style scoped>\n",
       "    .dataframe tbody tr th:only-of-type {\n",
       "        vertical-align: middle;\n",
       "    }\n",
       "\n",
       "    .dataframe tbody tr th {\n",
       "        vertical-align: top;\n",
       "    }\n",
       "\n",
       "    .dataframe thead th {\n",
       "        text-align: right;\n",
       "    }\n",
       "</style>\n",
       "<table border=\"1\" class=\"dataframe\">\n",
       "  <thead>\n",
       "    <tr style=\"text-align: right;\">\n",
       "      <th></th>\n",
       "      <th>0</th>\n",
       "      <th>1</th>\n",
       "      <th>2</th>\n",
       "      <th>3</th>\n",
       "      <th>4</th>\n",
       "      <th>5</th>\n",
       "      <th>6</th>\n",
       "      <th>7</th>\n",
       "      <th>8</th>\n",
       "      <th>9</th>\n",
       "      <th>...</th>\n",
       "      <th>172</th>\n",
       "      <th>173</th>\n",
       "      <th>174</th>\n",
       "      <th>175</th>\n",
       "      <th>176</th>\n",
       "      <th>177</th>\n",
       "      <th>178</th>\n",
       "      <th>179</th>\n",
       "      <th>180</th>\n",
       "      <th>181</th>\n",
       "    </tr>\n",
       "  </thead>\n",
       "  <tbody>\n",
       "    <tr>\n",
       "      <th>0</th>\n",
       "      <td>0.0</td>\n",
       "      <td>0.0</td>\n",
       "      <td>1.0</td>\n",
       "      <td>0.0</td>\n",
       "      <td>0.0</td>\n",
       "      <td>0.0</td>\n",
       "      <td>0.0</td>\n",
       "      <td>0.0</td>\n",
       "      <td>1.0</td>\n",
       "      <td>0.0</td>\n",
       "      <td>...</td>\n",
       "      <td>0.0</td>\n",
       "      <td>0.0</td>\n",
       "      <td>0.0</td>\n",
       "      <td>0.0</td>\n",
       "      <td>0.0</td>\n",
       "      <td>0.0</td>\n",
       "      <td>0.0</td>\n",
       "      <td>0.0</td>\n",
       "      <td>1.0</td>\n",
       "      <td>0.0</td>\n",
       "    </tr>\n",
       "    <tr>\n",
       "      <th>1</th>\n",
       "      <td>0.0</td>\n",
       "      <td>0.0</td>\n",
       "      <td>0.0</td>\n",
       "      <td>0.0</td>\n",
       "      <td>1.0</td>\n",
       "      <td>0.0</td>\n",
       "      <td>0.0</td>\n",
       "      <td>1.0</td>\n",
       "      <td>0.0</td>\n",
       "      <td>0.0</td>\n",
       "      <td>...</td>\n",
       "      <td>1.0</td>\n",
       "      <td>0.0</td>\n",
       "      <td>0.0</td>\n",
       "      <td>0.0</td>\n",
       "      <td>0.0</td>\n",
       "      <td>0.0</td>\n",
       "      <td>0.0</td>\n",
       "      <td>0.0</td>\n",
       "      <td>0.0</td>\n",
       "      <td>0.0</td>\n",
       "    </tr>\n",
       "    <tr>\n",
       "      <th>2</th>\n",
       "      <td>0.0</td>\n",
       "      <td>0.0</td>\n",
       "      <td>0.0</td>\n",
       "      <td>1.0</td>\n",
       "      <td>0.0</td>\n",
       "      <td>0.0</td>\n",
       "      <td>0.0</td>\n",
       "      <td>1.0</td>\n",
       "      <td>0.0</td>\n",
       "      <td>0.0</td>\n",
       "      <td>...</td>\n",
       "      <td>0.0</td>\n",
       "      <td>0.0</td>\n",
       "      <td>0.0</td>\n",
       "      <td>0.0</td>\n",
       "      <td>0.0</td>\n",
       "      <td>0.0</td>\n",
       "      <td>1.0</td>\n",
       "      <td>0.0</td>\n",
       "      <td>0.0</td>\n",
       "      <td>0.0</td>\n",
       "    </tr>\n",
       "    <tr>\n",
       "      <th>3</th>\n",
       "      <td>0.0</td>\n",
       "      <td>0.0</td>\n",
       "      <td>0.0</td>\n",
       "      <td>0.0</td>\n",
       "      <td>0.0</td>\n",
       "      <td>1.0</td>\n",
       "      <td>0.0</td>\n",
       "      <td>1.0</td>\n",
       "      <td>0.0</td>\n",
       "      <td>0.0</td>\n",
       "      <td>...</td>\n",
       "      <td>0.0</td>\n",
       "      <td>0.0</td>\n",
       "      <td>1.0</td>\n",
       "      <td>0.0</td>\n",
       "      <td>0.0</td>\n",
       "      <td>0.0</td>\n",
       "      <td>0.0</td>\n",
       "      <td>0.0</td>\n",
       "      <td>0.0</td>\n",
       "      <td>0.0</td>\n",
       "    </tr>\n",
       "    <tr>\n",
       "      <th>4</th>\n",
       "      <td>0.0</td>\n",
       "      <td>1.0</td>\n",
       "      <td>0.0</td>\n",
       "      <td>0.0</td>\n",
       "      <td>0.0</td>\n",
       "      <td>0.0</td>\n",
       "      <td>0.0</td>\n",
       "      <td>1.0</td>\n",
       "      <td>0.0</td>\n",
       "      <td>0.0</td>\n",
       "      <td>...</td>\n",
       "      <td>0.0</td>\n",
       "      <td>0.0</td>\n",
       "      <td>0.0</td>\n",
       "      <td>0.0</td>\n",
       "      <td>0.0</td>\n",
       "      <td>0.0</td>\n",
       "      <td>0.0</td>\n",
       "      <td>0.0</td>\n",
       "      <td>0.0</td>\n",
       "      <td>0.0</td>\n",
       "    </tr>\n",
       "    <tr>\n",
       "      <th>...</th>\n",
       "      <td>...</td>\n",
       "      <td>...</td>\n",
       "      <td>...</td>\n",
       "      <td>...</td>\n",
       "      <td>...</td>\n",
       "      <td>...</td>\n",
       "      <td>...</td>\n",
       "      <td>...</td>\n",
       "      <td>...</td>\n",
       "      <td>...</td>\n",
       "      <td>...</td>\n",
       "      <td>...</td>\n",
       "      <td>...</td>\n",
       "      <td>...</td>\n",
       "      <td>...</td>\n",
       "      <td>...</td>\n",
       "      <td>...</td>\n",
       "      <td>...</td>\n",
       "      <td>...</td>\n",
       "      <td>...</td>\n",
       "      <td>...</td>\n",
       "    </tr>\n",
       "    <tr>\n",
       "      <th>77</th>\n",
       "      <td>1.0</td>\n",
       "      <td>0.0</td>\n",
       "      <td>0.0</td>\n",
       "      <td>0.0</td>\n",
       "      <td>0.0</td>\n",
       "      <td>0.0</td>\n",
       "      <td>0.0</td>\n",
       "      <td>1.0</td>\n",
       "      <td>0.0</td>\n",
       "      <td>0.0</td>\n",
       "      <td>...</td>\n",
       "      <td>0.0</td>\n",
       "      <td>0.0</td>\n",
       "      <td>0.0</td>\n",
       "      <td>0.0</td>\n",
       "      <td>0.0</td>\n",
       "      <td>0.0</td>\n",
       "      <td>0.0</td>\n",
       "      <td>0.0</td>\n",
       "      <td>0.0</td>\n",
       "      <td>0.0</td>\n",
       "    </tr>\n",
       "    <tr>\n",
       "      <th>78</th>\n",
       "      <td>0.0</td>\n",
       "      <td>1.0</td>\n",
       "      <td>0.0</td>\n",
       "      <td>0.0</td>\n",
       "      <td>0.0</td>\n",
       "      <td>0.0</td>\n",
       "      <td>0.0</td>\n",
       "      <td>0.0</td>\n",
       "      <td>1.0</td>\n",
       "      <td>0.0</td>\n",
       "      <td>...</td>\n",
       "      <td>0.0</td>\n",
       "      <td>0.0</td>\n",
       "      <td>0.0</td>\n",
       "      <td>0.0</td>\n",
       "      <td>0.0</td>\n",
       "      <td>0.0</td>\n",
       "      <td>0.0</td>\n",
       "      <td>0.0</td>\n",
       "      <td>0.0</td>\n",
       "      <td>0.0</td>\n",
       "    </tr>\n",
       "    <tr>\n",
       "      <th>79</th>\n",
       "      <td>0.0</td>\n",
       "      <td>1.0</td>\n",
       "      <td>0.0</td>\n",
       "      <td>0.0</td>\n",
       "      <td>0.0</td>\n",
       "      <td>0.0</td>\n",
       "      <td>0.0</td>\n",
       "      <td>0.0</td>\n",
       "      <td>1.0</td>\n",
       "      <td>0.0</td>\n",
       "      <td>...</td>\n",
       "      <td>0.0</td>\n",
       "      <td>0.0</td>\n",
       "      <td>0.0</td>\n",
       "      <td>0.0</td>\n",
       "      <td>0.0</td>\n",
       "      <td>0.0</td>\n",
       "      <td>0.0</td>\n",
       "      <td>0.0</td>\n",
       "      <td>0.0</td>\n",
       "      <td>0.0</td>\n",
       "    </tr>\n",
       "    <tr>\n",
       "      <th>80</th>\n",
       "      <td>0.0</td>\n",
       "      <td>1.0</td>\n",
       "      <td>0.0</td>\n",
       "      <td>0.0</td>\n",
       "      <td>0.0</td>\n",
       "      <td>0.0</td>\n",
       "      <td>0.0</td>\n",
       "      <td>0.0</td>\n",
       "      <td>1.0</td>\n",
       "      <td>0.0</td>\n",
       "      <td>...</td>\n",
       "      <td>0.0</td>\n",
       "      <td>0.0</td>\n",
       "      <td>0.0</td>\n",
       "      <td>0.0</td>\n",
       "      <td>0.0</td>\n",
       "      <td>0.0</td>\n",
       "      <td>0.0</td>\n",
       "      <td>1.0</td>\n",
       "      <td>0.0</td>\n",
       "      <td>0.0</td>\n",
       "    </tr>\n",
       "    <tr>\n",
       "      <th>81</th>\n",
       "      <td>0.0</td>\n",
       "      <td>0.0</td>\n",
       "      <td>0.0</td>\n",
       "      <td>0.0</td>\n",
       "      <td>0.0</td>\n",
       "      <td>0.0</td>\n",
       "      <td>1.0</td>\n",
       "      <td>1.0</td>\n",
       "      <td>0.0</td>\n",
       "      <td>0.0</td>\n",
       "      <td>...</td>\n",
       "      <td>0.0</td>\n",
       "      <td>0.0</td>\n",
       "      <td>1.0</td>\n",
       "      <td>0.0</td>\n",
       "      <td>0.0</td>\n",
       "      <td>0.0</td>\n",
       "      <td>0.0</td>\n",
       "      <td>0.0</td>\n",
       "      <td>0.0</td>\n",
       "      <td>0.0</td>\n",
       "    </tr>\n",
       "  </tbody>\n",
       "</table>\n",
       "<p>82 rows × 182 columns</p>\n",
       "</div>"
      ],
      "text/plain": [
       "    0    1    2    3    4    5    6    7    8    9    ...  172  173  174  175  \\\n",
       "0   0.0  0.0  1.0  0.0  0.0  0.0  0.0  0.0  1.0  0.0  ...  0.0  0.0  0.0  0.0   \n",
       "1   0.0  0.0  0.0  0.0  1.0  0.0  0.0  1.0  0.0  0.0  ...  1.0  0.0  0.0  0.0   \n",
       "2   0.0  0.0  0.0  1.0  0.0  0.0  0.0  1.0  0.0  0.0  ...  0.0  0.0  0.0  0.0   \n",
       "3   0.0  0.0  0.0  0.0  0.0  1.0  0.0  1.0  0.0  0.0  ...  0.0  0.0  1.0  0.0   \n",
       "4   0.0  1.0  0.0  0.0  0.0  0.0  0.0  1.0  0.0  0.0  ...  0.0  0.0  0.0  0.0   \n",
       "..  ...  ...  ...  ...  ...  ...  ...  ...  ...  ...  ...  ...  ...  ...  ...   \n",
       "77  1.0  0.0  0.0  0.0  0.0  0.0  0.0  1.0  0.0  0.0  ...  0.0  0.0  0.0  0.0   \n",
       "78  0.0  1.0  0.0  0.0  0.0  0.0  0.0  0.0  1.0  0.0  ...  0.0  0.0  0.0  0.0   \n",
       "79  0.0  1.0  0.0  0.0  0.0  0.0  0.0  0.0  1.0  0.0  ...  0.0  0.0  0.0  0.0   \n",
       "80  0.0  1.0  0.0  0.0  0.0  0.0  0.0  0.0  1.0  0.0  ...  0.0  0.0  0.0  0.0   \n",
       "81  0.0  0.0  0.0  0.0  0.0  0.0  1.0  1.0  0.0  0.0  ...  0.0  0.0  1.0  0.0   \n",
       "\n",
       "    176  177  178  179  180  181  \n",
       "0   0.0  0.0  0.0  0.0  1.0  0.0  \n",
       "1   0.0  0.0  0.0  0.0  0.0  0.0  \n",
       "2   0.0  0.0  1.0  0.0  0.0  0.0  \n",
       "3   0.0  0.0  0.0  0.0  0.0  0.0  \n",
       "4   0.0  0.0  0.0  0.0  0.0  0.0  \n",
       "..  ...  ...  ...  ...  ...  ...  \n",
       "77  0.0  0.0  0.0  0.0  0.0  0.0  \n",
       "78  0.0  0.0  0.0  0.0  0.0  0.0  \n",
       "79  0.0  0.0  0.0  0.0  0.0  0.0  \n",
       "80  0.0  0.0  0.0  1.0  0.0  0.0  \n",
       "81  0.0  0.0  0.0  0.0  0.0  0.0  \n",
       "\n",
       "[82 rows x 182 columns]"
      ]
     },
     "execution_count": 40,
     "metadata": {},
     "output_type": "execute_result"
    }
   ],
   "source": [
    "X"
   ]
  },
  {
   "cell_type": "code",
   "execution_count": 41,
   "id": "dd939abd",
   "metadata": {},
   "outputs": [],
   "source": [
    "y = pd.DataFrame(data['Calculated column']) #my prediction"
   ]
  },
  {
   "cell_type": "code",
   "execution_count": 43,
   "id": "822ff372",
   "metadata": {
    "scrolled": true
   },
   "outputs": [
    {
     "data": {
      "text/html": [
       "<div>\n",
       "<style scoped>\n",
       "    .dataframe tbody tr th:only-of-type {\n",
       "        vertical-align: middle;\n",
       "    }\n",
       "\n",
       "    .dataframe tbody tr th {\n",
       "        vertical-align: top;\n",
       "    }\n",
       "\n",
       "    .dataframe thead th {\n",
       "        text-align: right;\n",
       "    }\n",
       "</style>\n",
       "<table border=\"1\" class=\"dataframe\">\n",
       "  <thead>\n",
       "    <tr style=\"text-align: right;\">\n",
       "      <th></th>\n",
       "      <th>Calculated column</th>\n",
       "    </tr>\n",
       "  </thead>\n",
       "  <tbody>\n",
       "    <tr>\n",
       "      <th>0</th>\n",
       "      <td>1.0</td>\n",
       "    </tr>\n",
       "    <tr>\n",
       "      <th>1</th>\n",
       "      <td>1.0</td>\n",
       "    </tr>\n",
       "    <tr>\n",
       "      <th>2</th>\n",
       "      <td>1.0</td>\n",
       "    </tr>\n",
       "    <tr>\n",
       "      <th>3</th>\n",
       "      <td>2.0</td>\n",
       "    </tr>\n",
       "    <tr>\n",
       "      <th>4</th>\n",
       "      <td>1.0</td>\n",
       "    </tr>\n",
       "    <tr>\n",
       "      <th>...</th>\n",
       "      <td>...</td>\n",
       "    </tr>\n",
       "    <tr>\n",
       "      <th>77</th>\n",
       "      <td>1.0</td>\n",
       "    </tr>\n",
       "    <tr>\n",
       "      <th>78</th>\n",
       "      <td>1.0</td>\n",
       "    </tr>\n",
       "    <tr>\n",
       "      <th>79</th>\n",
       "      <td>1.0</td>\n",
       "    </tr>\n",
       "    <tr>\n",
       "      <th>80</th>\n",
       "      <td>4.0</td>\n",
       "    </tr>\n",
       "    <tr>\n",
       "      <th>81</th>\n",
       "      <td>4.0</td>\n",
       "    </tr>\n",
       "  </tbody>\n",
       "</table>\n",
       "<p>82 rows × 1 columns</p>\n",
       "</div>"
      ],
      "text/plain": [
       "    Calculated column\n",
       "0                 1.0\n",
       "1                 1.0\n",
       "2                 1.0\n",
       "3                 2.0\n",
       "4                 1.0\n",
       "..                ...\n",
       "77                1.0\n",
       "78                1.0\n",
       "79                1.0\n",
       "80                4.0\n",
       "81                4.0\n",
       "\n",
       "[82 rows x 1 columns]"
      ]
     },
     "execution_count": 43,
     "metadata": {},
     "output_type": "execute_result"
    }
   ],
   "source": [
    "y"
   ]
  },
  {
   "cell_type": "code",
   "execution_count": 95,
   "id": "f0d8fe11",
   "metadata": {},
   "outputs": [],
   "source": [
    "#Train test split\n",
    "X_train,X_test,y_train,y_test = train_test_split(X,y,test_size = 0.5)"
   ]
  },
  {
   "cell_type": "code",
   "execution_count": 96,
   "id": "5d9dbae1",
   "metadata": {},
   "outputs": [
    {
     "name": "stderr",
     "output_type": "stream",
     "text": [
      "C:\\Users\\ines_\\anaconda3\\lib\\site-packages\\sklearn\\utils\\validation.py:993: DataConversionWarning:\n",
      "\n",
      "A column-vector y was passed when a 1d array was expected. Please change the shape of y to (n_samples, ), for example using ravel().\n",
      "\n"
     ]
    }
   ],
   "source": [
    "#Logistic Regression\n",
    "classification = LogisticRegression().fit(X_train,y_train)"
   ]
  },
  {
   "cell_type": "code",
   "execution_count": 97,
   "id": "882e3b73",
   "metadata": {},
   "outputs": [
    {
     "data": {
      "text/plain": [
       "array([1., 1., 1., 1., 4., 1., 4., 1., 4., 4., 1., 1., 1., 1., 2., 1., 1.,\n",
       "       1., 4., 4., 1., 4., 4., 1., 1., 1., 1., 4., 1., 1., 1., 4., 1., 1.,\n",
       "       1., 1., 2., 1., 2., 4., 4.])"
      ]
     },
     "execution_count": 97,
     "metadata": {},
     "output_type": "execute_result"
    }
   ],
   "source": [
    "predictions = classification.predict(X_test)\n",
    "predictions"
   ]
  },
  {
   "cell_type": "code",
   "execution_count": 98,
   "id": "2ab02b18",
   "metadata": {},
   "outputs": [
    {
     "data": {
      "text/plain": [
       "0.5609756097560976"
      ]
     },
     "execution_count": 98,
     "metadata": {},
     "output_type": "execute_result"
    }
   ],
   "source": [
    "classification.score(X_test,y_test)"
   ]
  },
  {
   "cell_type": "code",
   "execution_count": 99,
   "id": "385d2a40",
   "metadata": {},
   "outputs": [
    {
     "data": {
      "text/plain": [
       "Calculated column\n",
       "1.0                  21\n",
       "4.0                  11\n",
       "2.0                   5\n",
       "3.0                   4\n",
       "dtype: int64"
      ]
     },
     "execution_count": 99,
     "metadata": {},
     "output_type": "execute_result"
    }
   ],
   "source": [
    "y_test.value_counts()"
   ]
  },
  {
   "cell_type": "code",
   "execution_count": 100,
   "id": "5ed05e74",
   "metadata": {},
   "outputs": [
    {
     "data": {
      "text/plain": [
       "1.0    26\n",
       "4.0    12\n",
       "2.0     3\n",
       "dtype: int64"
      ]
     },
     "execution_count": 100,
     "metadata": {},
     "output_type": "execute_result"
    }
   ],
   "source": [
    "pd.Series(predictions).value_counts()"
   ]
  },
  {
   "cell_type": "code",
   "execution_count": 101,
   "id": "7574a784",
   "metadata": {},
   "outputs": [
    {
     "data": {
      "text/plain": [
       "array([[16,  0,  0,  5],\n",
       "       [ 3,  2,  0,  0],\n",
       "       [ 2,  0,  0,  2],\n",
       "       [ 5,  1,  0,  5]], dtype=int64)"
      ]
     },
     "execution_count": 101,
     "metadata": {},
     "output_type": "execute_result"
    }
   ],
   "source": [
    "confusion_matrix(y_test,predictions)"
   ]
  },
  {
   "cell_type": "code",
   "execution_count": 128,
   "id": "6ed1680d",
   "metadata": {},
   "outputs": [
    {
     "name": "stdout",
     "output_type": "stream",
     "text": [
      "1.0    44\n",
      "2.0    44\n",
      "3.0    44\n",
      "4.0    44\n",
      "Name: Calculated column, dtype: int64\n"
     ]
    },
    {
     "name": "stderr",
     "output_type": "stream",
     "text": [
      "C:\\Users\\ines_\\anaconda3\\lib\\site-packages\\sklearn\\utils\\deprecation.py:87: FutureWarning:\n",
      "\n",
      "Function get_feature_names is deprecated; get_feature_names is deprecated in 1.0 and will be removed in 1.2. Please use get_feature_names_out instead.\n",
      "\n"
     ]
    }
   ],
   "source": [
    "#Improving my data with SMOTE technique\n",
    "\n",
    "ohe = OneHotEncoder()\n",
    "X = ohe.fit_transform(data.drop(['Calculated column', 'Q15'], axis=1))\n",
    "y = data['Calculated column']\n",
    "\n",
    "\n",
    "smote = SMOTE()\n",
    "\n",
    "X_smote, y_smote = smote.fit_resample(X, y)\n",
    "\n",
    "X_smote_df = pd.DataFrame(X_smote.toarray(), columns=ohe.get_feature_names())\n",
    "\n",
    "data_balanced = pd.concat([X_smote_df, y_smote], axis=1)\n",
    "\n",
    "print(data_balanced['Calculated column'].value_counts())\n"
   ]
  },
  {
   "cell_type": "code",
   "execution_count": 129,
   "id": "8a5e3c1a",
   "metadata": {},
   "outputs": [
    {
     "data": {
      "text/html": [
       "<div>\n",
       "<style scoped>\n",
       "    .dataframe tbody tr th:only-of-type {\n",
       "        vertical-align: middle;\n",
       "    }\n",
       "\n",
       "    .dataframe tbody tr th {\n",
       "        vertical-align: top;\n",
       "    }\n",
       "\n",
       "    .dataframe thead th {\n",
       "        text-align: right;\n",
       "    }\n",
       "</style>\n",
       "<table border=\"1\" class=\"dataframe\">\n",
       "  <thead>\n",
       "    <tr style=\"text-align: right;\">\n",
       "      <th></th>\n",
       "      <th>x0_16 - 24</th>\n",
       "      <th>x0_25 - 39</th>\n",
       "      <th>x0_28</th>\n",
       "      <th>x0_29</th>\n",
       "      <th>x0_37</th>\n",
       "      <th>x0_40 - 64</th>\n",
       "      <th>x0_More than 65</th>\n",
       "      <th>x1_Female</th>\n",
       "      <th>x1_Male</th>\n",
       "      <th>x2_Disney +;Amazon Prime Video;Twitch</th>\n",
       "      <th>...</th>\n",
       "      <th>x14_2.4253932681102577</th>\n",
       "      <th>x14_2.4338631529150643</th>\n",
       "      <th>x14_2.4762039371579556</th>\n",
       "      <th>x14_2.6077897325327166</th>\n",
       "      <th>x14_2.672101641122687</th>\n",
       "      <th>x14_3.369894692979351</th>\n",
       "      <th>x14_3.394261859358547</th>\n",
       "      <th>x14_3.467170431369595</th>\n",
       "      <th>x14_3.7107902667075807</th>\n",
       "      <th>x14_nan</th>\n",
       "    </tr>\n",
       "  </thead>\n",
       "  <tbody>\n",
       "    <tr>\n",
       "      <th>0</th>\n",
       "      <td>0.0</td>\n",
       "      <td>0.000000</td>\n",
       "      <td>1.0</td>\n",
       "      <td>0.0</td>\n",
       "      <td>0.0</td>\n",
       "      <td>0.000000</td>\n",
       "      <td>0.0</td>\n",
       "      <td>0.000000</td>\n",
       "      <td>1.000000</td>\n",
       "      <td>0.0</td>\n",
       "      <td>...</td>\n",
       "      <td>0.000000</td>\n",
       "      <td>0.0</td>\n",
       "      <td>0.0</td>\n",
       "      <td>0.0</td>\n",
       "      <td>0.0</td>\n",
       "      <td>0.0</td>\n",
       "      <td>0.0</td>\n",
       "      <td>0.000000</td>\n",
       "      <td>0.0</td>\n",
       "      <td>1.000000</td>\n",
       "    </tr>\n",
       "    <tr>\n",
       "      <th>1</th>\n",
       "      <td>0.0</td>\n",
       "      <td>0.000000</td>\n",
       "      <td>0.0</td>\n",
       "      <td>0.0</td>\n",
       "      <td>1.0</td>\n",
       "      <td>0.000000</td>\n",
       "      <td>0.0</td>\n",
       "      <td>1.000000</td>\n",
       "      <td>0.000000</td>\n",
       "      <td>0.0</td>\n",
       "      <td>...</td>\n",
       "      <td>0.000000</td>\n",
       "      <td>0.0</td>\n",
       "      <td>0.0</td>\n",
       "      <td>0.0</td>\n",
       "      <td>0.0</td>\n",
       "      <td>0.0</td>\n",
       "      <td>0.0</td>\n",
       "      <td>0.000000</td>\n",
       "      <td>0.0</td>\n",
       "      <td>0.000000</td>\n",
       "    </tr>\n",
       "    <tr>\n",
       "      <th>2</th>\n",
       "      <td>0.0</td>\n",
       "      <td>0.000000</td>\n",
       "      <td>0.0</td>\n",
       "      <td>1.0</td>\n",
       "      <td>0.0</td>\n",
       "      <td>0.000000</td>\n",
       "      <td>0.0</td>\n",
       "      <td>1.000000</td>\n",
       "      <td>0.000000</td>\n",
       "      <td>0.0</td>\n",
       "      <td>...</td>\n",
       "      <td>0.000000</td>\n",
       "      <td>0.0</td>\n",
       "      <td>0.0</td>\n",
       "      <td>0.0</td>\n",
       "      <td>0.0</td>\n",
       "      <td>0.0</td>\n",
       "      <td>0.0</td>\n",
       "      <td>0.000000</td>\n",
       "      <td>0.0</td>\n",
       "      <td>1.000000</td>\n",
       "    </tr>\n",
       "    <tr>\n",
       "      <th>3</th>\n",
       "      <td>0.0</td>\n",
       "      <td>0.000000</td>\n",
       "      <td>0.0</td>\n",
       "      <td>0.0</td>\n",
       "      <td>0.0</td>\n",
       "      <td>1.000000</td>\n",
       "      <td>0.0</td>\n",
       "      <td>1.000000</td>\n",
       "      <td>0.000000</td>\n",
       "      <td>0.0</td>\n",
       "      <td>...</td>\n",
       "      <td>0.000000</td>\n",
       "      <td>0.0</td>\n",
       "      <td>0.0</td>\n",
       "      <td>0.0</td>\n",
       "      <td>0.0</td>\n",
       "      <td>0.0</td>\n",
       "      <td>0.0</td>\n",
       "      <td>0.000000</td>\n",
       "      <td>0.0</td>\n",
       "      <td>1.000000</td>\n",
       "    </tr>\n",
       "    <tr>\n",
       "      <th>4</th>\n",
       "      <td>0.0</td>\n",
       "      <td>1.000000</td>\n",
       "      <td>0.0</td>\n",
       "      <td>0.0</td>\n",
       "      <td>0.0</td>\n",
       "      <td>0.000000</td>\n",
       "      <td>0.0</td>\n",
       "      <td>1.000000</td>\n",
       "      <td>0.000000</td>\n",
       "      <td>0.0</td>\n",
       "      <td>...</td>\n",
       "      <td>0.000000</td>\n",
       "      <td>0.0</td>\n",
       "      <td>0.0</td>\n",
       "      <td>0.0</td>\n",
       "      <td>0.0</td>\n",
       "      <td>0.0</td>\n",
       "      <td>0.0</td>\n",
       "      <td>0.000000</td>\n",
       "      <td>0.0</td>\n",
       "      <td>0.000000</td>\n",
       "    </tr>\n",
       "    <tr>\n",
       "      <th>...</th>\n",
       "      <td>...</td>\n",
       "      <td>...</td>\n",
       "      <td>...</td>\n",
       "      <td>...</td>\n",
       "      <td>...</td>\n",
       "      <td>...</td>\n",
       "      <td>...</td>\n",
       "      <td>...</td>\n",
       "      <td>...</td>\n",
       "      <td>...</td>\n",
       "      <td>...</td>\n",
       "      <td>...</td>\n",
       "      <td>...</td>\n",
       "      <td>...</td>\n",
       "      <td>...</td>\n",
       "      <td>...</td>\n",
       "      <td>...</td>\n",
       "      <td>...</td>\n",
       "      <td>...</td>\n",
       "      <td>...</td>\n",
       "      <td>...</td>\n",
       "    </tr>\n",
       "    <tr>\n",
       "      <th>171</th>\n",
       "      <td>0.0</td>\n",
       "      <td>0.517023</td>\n",
       "      <td>0.0</td>\n",
       "      <td>0.0</td>\n",
       "      <td>0.0</td>\n",
       "      <td>0.482977</td>\n",
       "      <td>0.0</td>\n",
       "      <td>0.482977</td>\n",
       "      <td>0.517023</td>\n",
       "      <td>0.0</td>\n",
       "      <td>...</td>\n",
       "      <td>0.000000</td>\n",
       "      <td>0.0</td>\n",
       "      <td>0.0</td>\n",
       "      <td>0.0</td>\n",
       "      <td>0.0</td>\n",
       "      <td>0.0</td>\n",
       "      <td>0.0</td>\n",
       "      <td>0.517023</td>\n",
       "      <td>0.0</td>\n",
       "      <td>0.000000</td>\n",
       "    </tr>\n",
       "    <tr>\n",
       "      <th>172</th>\n",
       "      <td>0.0</td>\n",
       "      <td>1.000000</td>\n",
       "      <td>0.0</td>\n",
       "      <td>0.0</td>\n",
       "      <td>0.0</td>\n",
       "      <td>0.000000</td>\n",
       "      <td>0.0</td>\n",
       "      <td>0.567006</td>\n",
       "      <td>0.432994</td>\n",
       "      <td>0.0</td>\n",
       "      <td>...</td>\n",
       "      <td>0.432994</td>\n",
       "      <td>0.0</td>\n",
       "      <td>0.0</td>\n",
       "      <td>0.0</td>\n",
       "      <td>0.0</td>\n",
       "      <td>0.0</td>\n",
       "      <td>0.0</td>\n",
       "      <td>0.000000</td>\n",
       "      <td>0.0</td>\n",
       "      <td>0.567006</td>\n",
       "    </tr>\n",
       "    <tr>\n",
       "      <th>173</th>\n",
       "      <td>0.0</td>\n",
       "      <td>1.000000</td>\n",
       "      <td>0.0</td>\n",
       "      <td>0.0</td>\n",
       "      <td>0.0</td>\n",
       "      <td>0.000000</td>\n",
       "      <td>0.0</td>\n",
       "      <td>0.000000</td>\n",
       "      <td>1.000000</td>\n",
       "      <td>0.0</td>\n",
       "      <td>...</td>\n",
       "      <td>0.619110</td>\n",
       "      <td>0.0</td>\n",
       "      <td>0.0</td>\n",
       "      <td>0.0</td>\n",
       "      <td>0.0</td>\n",
       "      <td>0.0</td>\n",
       "      <td>0.0</td>\n",
       "      <td>0.000000</td>\n",
       "      <td>0.0</td>\n",
       "      <td>0.380890</td>\n",
       "    </tr>\n",
       "    <tr>\n",
       "      <th>174</th>\n",
       "      <td>0.0</td>\n",
       "      <td>1.000000</td>\n",
       "      <td>0.0</td>\n",
       "      <td>0.0</td>\n",
       "      <td>0.0</td>\n",
       "      <td>0.000000</td>\n",
       "      <td>0.0</td>\n",
       "      <td>0.000000</td>\n",
       "      <td>1.000000</td>\n",
       "      <td>0.0</td>\n",
       "      <td>...</td>\n",
       "      <td>0.304536</td>\n",
       "      <td>0.0</td>\n",
       "      <td>0.0</td>\n",
       "      <td>0.0</td>\n",
       "      <td>0.0</td>\n",
       "      <td>0.0</td>\n",
       "      <td>0.0</td>\n",
       "      <td>0.000000</td>\n",
       "      <td>0.0</td>\n",
       "      <td>0.000000</td>\n",
       "    </tr>\n",
       "    <tr>\n",
       "      <th>175</th>\n",
       "      <td>0.0</td>\n",
       "      <td>1.000000</td>\n",
       "      <td>0.0</td>\n",
       "      <td>0.0</td>\n",
       "      <td>0.0</td>\n",
       "      <td>0.000000</td>\n",
       "      <td>0.0</td>\n",
       "      <td>0.000000</td>\n",
       "      <td>1.000000</td>\n",
       "      <td>0.0</td>\n",
       "      <td>...</td>\n",
       "      <td>0.000000</td>\n",
       "      <td>0.0</td>\n",
       "      <td>0.0</td>\n",
       "      <td>0.0</td>\n",
       "      <td>0.0</td>\n",
       "      <td>0.0</td>\n",
       "      <td>0.0</td>\n",
       "      <td>0.866342</td>\n",
       "      <td>0.0</td>\n",
       "      <td>0.133658</td>\n",
       "    </tr>\n",
       "  </tbody>\n",
       "</table>\n",
       "<p>176 rows × 216 columns</p>\n",
       "</div>"
      ],
      "text/plain": [
       "     x0_16 - 24  x0_25 - 39  x0_28  x0_29  x0_37  x0_40 - 64  x0_More than 65  \\\n",
       "0           0.0    0.000000    1.0    0.0    0.0    0.000000              0.0   \n",
       "1           0.0    0.000000    0.0    0.0    1.0    0.000000              0.0   \n",
       "2           0.0    0.000000    0.0    1.0    0.0    0.000000              0.0   \n",
       "3           0.0    0.000000    0.0    0.0    0.0    1.000000              0.0   \n",
       "4           0.0    1.000000    0.0    0.0    0.0    0.000000              0.0   \n",
       "..          ...         ...    ...    ...    ...         ...              ...   \n",
       "171         0.0    0.517023    0.0    0.0    0.0    0.482977              0.0   \n",
       "172         0.0    1.000000    0.0    0.0    0.0    0.000000              0.0   \n",
       "173         0.0    1.000000    0.0    0.0    0.0    0.000000              0.0   \n",
       "174         0.0    1.000000    0.0    0.0    0.0    0.000000              0.0   \n",
       "175         0.0    1.000000    0.0    0.0    0.0    0.000000              0.0   \n",
       "\n",
       "     x1_Female   x1_Male  x2_Disney +;Amazon Prime Video;Twitch  ...  \\\n",
       "0     0.000000  1.000000                                    0.0  ...   \n",
       "1     1.000000  0.000000                                    0.0  ...   \n",
       "2     1.000000  0.000000                                    0.0  ...   \n",
       "3     1.000000  0.000000                                    0.0  ...   \n",
       "4     1.000000  0.000000                                    0.0  ...   \n",
       "..         ...       ...                                    ...  ...   \n",
       "171   0.482977  0.517023                                    0.0  ...   \n",
       "172   0.567006  0.432994                                    0.0  ...   \n",
       "173   0.000000  1.000000                                    0.0  ...   \n",
       "174   0.000000  1.000000                                    0.0  ...   \n",
       "175   0.000000  1.000000                                    0.0  ...   \n",
       "\n",
       "     x14_2.4253932681102577  x14_2.4338631529150643  x14_2.4762039371579556  \\\n",
       "0                  0.000000                     0.0                     0.0   \n",
       "1                  0.000000                     0.0                     0.0   \n",
       "2                  0.000000                     0.0                     0.0   \n",
       "3                  0.000000                     0.0                     0.0   \n",
       "4                  0.000000                     0.0                     0.0   \n",
       "..                      ...                     ...                     ...   \n",
       "171                0.000000                     0.0                     0.0   \n",
       "172                0.432994                     0.0                     0.0   \n",
       "173                0.619110                     0.0                     0.0   \n",
       "174                0.304536                     0.0                     0.0   \n",
       "175                0.000000                     0.0                     0.0   \n",
       "\n",
       "     x14_2.6077897325327166  x14_2.672101641122687  x14_3.369894692979351  \\\n",
       "0                       0.0                    0.0                    0.0   \n",
       "1                       0.0                    0.0                    0.0   \n",
       "2                       0.0                    0.0                    0.0   \n",
       "3                       0.0                    0.0                    0.0   \n",
       "4                       0.0                    0.0                    0.0   \n",
       "..                      ...                    ...                    ...   \n",
       "171                     0.0                    0.0                    0.0   \n",
       "172                     0.0                    0.0                    0.0   \n",
       "173                     0.0                    0.0                    0.0   \n",
       "174                     0.0                    0.0                    0.0   \n",
       "175                     0.0                    0.0                    0.0   \n",
       "\n",
       "     x14_3.394261859358547  x14_3.467170431369595  x14_3.7107902667075807  \\\n",
       "0                      0.0               0.000000                     0.0   \n",
       "1                      0.0               0.000000                     0.0   \n",
       "2                      0.0               0.000000                     0.0   \n",
       "3                      0.0               0.000000                     0.0   \n",
       "4                      0.0               0.000000                     0.0   \n",
       "..                     ...                    ...                     ...   \n",
       "171                    0.0               0.517023                     0.0   \n",
       "172                    0.0               0.000000                     0.0   \n",
       "173                    0.0               0.000000                     0.0   \n",
       "174                    0.0               0.000000                     0.0   \n",
       "175                    0.0               0.866342                     0.0   \n",
       "\n",
       "      x14_nan  \n",
       "0    1.000000  \n",
       "1    0.000000  \n",
       "2    1.000000  \n",
       "3    1.000000  \n",
       "4    0.000000  \n",
       "..        ...  \n",
       "171  0.000000  \n",
       "172  0.567006  \n",
       "173  0.380890  \n",
       "174  0.000000  \n",
       "175  0.133658  \n",
       "\n",
       "[176 rows x 216 columns]"
      ]
     },
     "execution_count": 129,
     "metadata": {},
     "output_type": "execute_result"
    }
   ],
   "source": [
    "X_smote_df"
   ]
  },
  {
   "cell_type": "code",
   "execution_count": 148,
   "id": "515cd45d",
   "metadata": {},
   "outputs": [],
   "source": [
    "X_train,X_test,y_train,y_test = train_test_split(X_smote_df,y_smote,test_size = 0.5)"
   ]
  },
  {
   "cell_type": "code",
   "execution_count": 149,
   "id": "ba2900ea",
   "metadata": {},
   "outputs": [],
   "source": [
    "classification = LogisticRegression().fit(X_train,y_train)"
   ]
  },
  {
   "cell_type": "code",
   "execution_count": 150,
   "id": "62669ba2",
   "metadata": {},
   "outputs": [
    {
     "data": {
      "text/plain": [
       "array([1., 4., 3., 1., 4., 2., 3., 1., 3., 2., 3., 3., 1., 2., 4., 2., 2.,\n",
       "       3., 4., 3., 1., 2., 3., 2., 4., 1., 2., 4., 2., 1., 1., 1., 1., 3.,\n",
       "       3., 3., 4., 1., 1., 2., 1., 4., 4., 1., 1., 4., 4., 4., 4., 3., 3.,\n",
       "       3., 4., 2., 2., 3., 1., 2., 4., 1., 4., 4., 2., 2., 4., 3., 3., 2.,\n",
       "       2., 2., 3., 4., 1., 4., 1., 1., 2., 1., 3., 1., 2., 1., 4., 3., 2.,\n",
       "       4., 4., 2.])"
      ]
     },
     "execution_count": 150,
     "metadata": {},
     "output_type": "execute_result"
    }
   ],
   "source": [
    "predictions = classification.predict(X_test)\n",
    "predictions"
   ]
  },
  {
   "cell_type": "code",
   "execution_count": 151,
   "id": "b3aaa60e",
   "metadata": {},
   "outputs": [
    {
     "data": {
      "text/plain": [
       "0.8068181818181818"
      ]
     },
     "execution_count": 151,
     "metadata": {},
     "output_type": "execute_result"
    }
   ],
   "source": [
    "classification.score(X_test,y_test)"
   ]
  },
  {
   "cell_type": "code",
   "execution_count": 152,
   "id": "c0a396f3",
   "metadata": {},
   "outputs": [
    {
     "data": {
      "text/plain": [
       "1.0    23\n",
       "4.0    23\n",
       "2.0    22\n",
       "3.0    20\n",
       "dtype: int64"
      ]
     },
     "execution_count": 152,
     "metadata": {},
     "output_type": "execute_result"
    }
   ],
   "source": [
    "pd.Series(predictions).value_counts()"
   ]
  },
  {
   "cell_type": "code",
   "execution_count": 211,
   "id": "388c4a24",
   "metadata": {},
   "outputs": [
    {
     "data": {
      "text/plain": [
       "array([[17,  1,  1,  7],\n",
       "       [ 0, 19,  0,  0],\n",
       "       [ 0,  0, 19,  0],\n",
       "       [ 6,  2,  0, 16]], dtype=int64)"
      ]
     },
     "execution_count": 211,
     "metadata": {},
     "output_type": "execute_result"
    }
   ],
   "source": [
    "confusion_matrix(y_test,predictions)"
   ]
  },
  {
   "cell_type": "code",
   "execution_count": 224,
   "id": "712539dd",
   "metadata": {},
   "outputs": [],
   "source": [
    "# Convert the confusion matrix to a DataFrame to abalyse on tableau\n",
    "df_predic_2 = pd.DataFrame(confusion_matrix(y_test,predictions), index=['1', '2', '3', '4'], columns=['1', '2', '3', '4'])\n",
    "\n",
    "df_predic_2 = df_predic_2.unstack().reset_index()\n",
    "df_predic_2.columns = ['Column', 'Row', 'Value']"
   ]
  },
  {
   "cell_type": "code",
   "execution_count": 225,
   "id": "8f20df89",
   "metadata": {},
   "outputs": [
    {
     "data": {
      "text/html": [
       "<div>\n",
       "<style scoped>\n",
       "    .dataframe tbody tr th:only-of-type {\n",
       "        vertical-align: middle;\n",
       "    }\n",
       "\n",
       "    .dataframe tbody tr th {\n",
       "        vertical-align: top;\n",
       "    }\n",
       "\n",
       "    .dataframe thead th {\n",
       "        text-align: right;\n",
       "    }\n",
       "</style>\n",
       "<table border=\"1\" class=\"dataframe\">\n",
       "  <thead>\n",
       "    <tr style=\"text-align: right;\">\n",
       "      <th></th>\n",
       "      <th>Column</th>\n",
       "      <th>Row</th>\n",
       "      <th>Value</th>\n",
       "    </tr>\n",
       "  </thead>\n",
       "  <tbody>\n",
       "    <tr>\n",
       "      <th>0</th>\n",
       "      <td>1</td>\n",
       "      <td>1</td>\n",
       "      <td>17</td>\n",
       "    </tr>\n",
       "    <tr>\n",
       "      <th>1</th>\n",
       "      <td>1</td>\n",
       "      <td>2</td>\n",
       "      <td>0</td>\n",
       "    </tr>\n",
       "    <tr>\n",
       "      <th>2</th>\n",
       "      <td>1</td>\n",
       "      <td>3</td>\n",
       "      <td>0</td>\n",
       "    </tr>\n",
       "    <tr>\n",
       "      <th>3</th>\n",
       "      <td>1</td>\n",
       "      <td>4</td>\n",
       "      <td>6</td>\n",
       "    </tr>\n",
       "    <tr>\n",
       "      <th>4</th>\n",
       "      <td>2</td>\n",
       "      <td>1</td>\n",
       "      <td>1</td>\n",
       "    </tr>\n",
       "    <tr>\n",
       "      <th>5</th>\n",
       "      <td>2</td>\n",
       "      <td>2</td>\n",
       "      <td>19</td>\n",
       "    </tr>\n",
       "    <tr>\n",
       "      <th>6</th>\n",
       "      <td>2</td>\n",
       "      <td>3</td>\n",
       "      <td>0</td>\n",
       "    </tr>\n",
       "    <tr>\n",
       "      <th>7</th>\n",
       "      <td>2</td>\n",
       "      <td>4</td>\n",
       "      <td>2</td>\n",
       "    </tr>\n",
       "    <tr>\n",
       "      <th>8</th>\n",
       "      <td>3</td>\n",
       "      <td>1</td>\n",
       "      <td>1</td>\n",
       "    </tr>\n",
       "    <tr>\n",
       "      <th>9</th>\n",
       "      <td>3</td>\n",
       "      <td>2</td>\n",
       "      <td>0</td>\n",
       "    </tr>\n",
       "    <tr>\n",
       "      <th>10</th>\n",
       "      <td>3</td>\n",
       "      <td>3</td>\n",
       "      <td>19</td>\n",
       "    </tr>\n",
       "    <tr>\n",
       "      <th>11</th>\n",
       "      <td>3</td>\n",
       "      <td>4</td>\n",
       "      <td>0</td>\n",
       "    </tr>\n",
       "    <tr>\n",
       "      <th>12</th>\n",
       "      <td>4</td>\n",
       "      <td>1</td>\n",
       "      <td>7</td>\n",
       "    </tr>\n",
       "    <tr>\n",
       "      <th>13</th>\n",
       "      <td>4</td>\n",
       "      <td>2</td>\n",
       "      <td>0</td>\n",
       "    </tr>\n",
       "    <tr>\n",
       "      <th>14</th>\n",
       "      <td>4</td>\n",
       "      <td>3</td>\n",
       "      <td>0</td>\n",
       "    </tr>\n",
       "    <tr>\n",
       "      <th>15</th>\n",
       "      <td>4</td>\n",
       "      <td>4</td>\n",
       "      <td>16</td>\n",
       "    </tr>\n",
       "  </tbody>\n",
       "</table>\n",
       "</div>"
      ],
      "text/plain": [
       "   Column Row  Value\n",
       "0       1   1     17\n",
       "1       1   2      0\n",
       "2       1   3      0\n",
       "3       1   4      6\n",
       "4       2   1      1\n",
       "5       2   2     19\n",
       "6       2   3      0\n",
       "7       2   4      2\n",
       "8       3   1      1\n",
       "9       3   2      0\n",
       "10      3   3     19\n",
       "11      3   4      0\n",
       "12      4   1      7\n",
       "13      4   2      0\n",
       "14      4   3      0\n",
       "15      4   4     16"
      ]
     },
     "execution_count": 225,
     "metadata": {},
     "output_type": "execute_result"
    }
   ],
   "source": [
    "df_predic_2"
   ]
  },
  {
   "cell_type": "code",
   "execution_count": 226,
   "id": "c3091868",
   "metadata": {},
   "outputs": [],
   "source": [
    "df_predic_2.to_csv('matrix_predic_3.csv')"
   ]
  }
 ],
 "metadata": {
  "kernelspec": {
   "display_name": "Python 3 (ipykernel)",
   "language": "python",
   "name": "python3"
  },
  "language_info": {
   "codemirror_mode": {
    "name": "ipython",
    "version": 3
   },
   "file_extension": ".py",
   "mimetype": "text/x-python",
   "name": "python",
   "nbconvert_exporter": "python",
   "pygments_lexer": "ipython3",
   "version": "3.9.13"
  }
 },
 "nbformat": 4,
 "nbformat_minor": 5
}
